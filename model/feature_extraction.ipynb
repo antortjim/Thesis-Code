{
 "cells": [
  {
   "cell_type": "code",
   "execution_count": 6,
   "metadata": {},
   "outputs": [],
   "source": [
    "#################################################################\n",
    "## Extract best features for peptide detectability prediction\n",
    "#################################################################\n",
    "\n",
    "# Gather information from Biopython, Disprot and SeqComplex (Perl)\n",
    "from Bio.SeqUtils.ProtParam import ProteinAnalysis\n",
    "from Bio import SeqIO\n",
    "from Bio import SeqRecord, Seq\n",
    "from Bio.Alphabet import generic_protein\n",
    "import re\n",
    "import pandas as pd\n",
    "import numpy as np\n",
    "from sklearn import preprocessing\n",
    "from tqdm import tqdm\n",
    "import os.path"
   ]
  },
  {
   "cell_type": "code",
   "execution_count": 47,
   "metadata": {},
   "outputs": [
    {
     "data": {
      "text/plain": [
       "(17736, 1)"
      ]
     },
     "execution_count": 47,
     "metadata": {},
     "output_type": "execute_result"
    }
   ],
   "source": [
    "peptides = pd.read_csv(\"data/peptides.tsv\", sep = \"\\t\").values\n",
    "peptides.shape"
   ]
  },
  {
   "cell_type": "code",
   "execution_count": 111,
   "metadata": {},
   "outputs": [
    {
     "name": "stderr",
     "output_type": "stream",
     "text": [
      "17736it [00:02, 7250.62it/s]\n"
     ]
    }
   ],
   "source": [
    "X = [ProteinAnalysis(e[0]) for e in peptides]\n",
    "result = [None,]*len(X)\n",
    "for i, e in tqdm(enumerate(X)):\n",
    "    \n",
    "    aa_percent = list(e.get_amino_acids_percent().values())\n",
    "    rest = [e.molecular_weight(), len(peptides[i]), e.molecular_weight() / len(peptides[i]),\n",
    "           e.aromaticity(), e.instability_index(), e.isoelectric_point()]\n",
    "    result[i] = aa_percent + rest\n",
    "    "
   ]
  },
  {
   "cell_type": "code",
   "execution_count": 123,
   "metadata": {},
   "outputs": [
    {
     "name": "stdout",
     "output_type": "stream",
     "text": [
      "['A', 'C', 'D', 'E', 'F', 'G', 'H', 'I', 'K', 'L', 'M', 'N', 'P', 'Q', 'R', 'S', 'T', 'V', 'W', 'Y', 'MW', 'LEN', 'ML', 'AROM', 'INST', 'IP']\n"
     ]
    }
   ],
   "source": [
    "colnames = list(X[0].get_amino_acids_percent().keys()) + [\"MW\", \"LEN\", \"ML\", \"AROM\", \"INST\", \"IP\"]\n",
    "print(colnames)\n",
    "result = pd.DataFrame(np.vstack(result), columns = colnames)"
   ]
  },
  {
   "cell_type": "code",
   "execution_count": 124,
   "metadata": {},
   "outputs": [],
   "source": [
    "result.to_csv(\"data/protein_analysis.tsv\", sep = \"\\t\")"
   ]
  }
 ],
 "metadata": {
  "kernelspec": {
   "display_name": "Python (bayesian)",
   "language": "python",
   "name": "bayesian"
  },
  "language_info": {
   "codemirror_mode": {
    "name": "ipython",
    "version": 3
   },
   "file_extension": ".py",
   "mimetype": "text/x-python",
   "name": "python",
   "nbconvert_exporter": "python",
   "pygments_lexer": "ipython3",
   "version": "3.6.5"
  }
 },
 "nbformat": 4,
 "nbformat_minor": 2
}
