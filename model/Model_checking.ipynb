{
 "cells": [
  {
   "cell_type": "code",
   "execution_count": null,
   "metadata": {},
   "outputs": [],
   "source": [
    "import pymc3 as pm\n",
    "\n",
    "#reload trained model\n",
    "def load_model(model_name='protein_model.pkl'):\n",
    "    with open (model_name, 'rb') as buff:\n",
    "        data = pickle.load (buff)\n",
    "        model, traces = data['model'], data['traces']\n",
    "        return model, traces\n",
    "\n",
    "model, traces = load_model()"
   ]
  },
  {
   "cell_type": "code",
   "execution_count": null,
   "metadata": {},
   "outputs": [],
   "source": [
    "with model:\n",
    "    estimate_sim = pm.sample_ppc(traces[0], samples=500)"
   ]
  },
  {
   "cell_type": "code",
   "execution_count": null,
   "metadata": {},
   "outputs": [],
   "source": [
    "obs=estimate_sim[\"obs\"][:,0,:]\n",
    "print(obs.shape)\n",
    "pep0 = obs[:,:6]\n",
    "pep1 = obs[:,6:12]\n",
    "peps = [pep0, pep1]\n",
    "estimates = np.concatenate(list(map(lambda x: np.mean(x[:,:3], axis=1) - np.mean(x[:,3:6], axis=1), peps)))\n",
    "plt.hist(estimates, bins=30)"
   ]
  },
  {
   "cell_type": "code",
   "execution_count": null,
   "metadata": {},
   "outputs": [],
   "source": [
    "fig, axes = plt.subplots(1,stats[1]+1, figsize=(12, 6))\n",
    "print(estimate_sim['likelihood'].T.shape)\n",
    "for obs, sim, ax in zip(variables[2], estimate_sim['likelihood'][500:], axes):\n",
    "        ax.hist(sim, bins=range(20))\n",
    "        ax.plot(obs+0.5, 1, 'ro')"
   ]
  }
 ],
 "metadata": {
  "kernelspec": {
   "display_name": "Python (bayesian)",
   "language": "python",
   "name": "bayesian"
  },
  "language_info": {
   "codemirror_mode": {
    "name": "ipython",
    "version": 3
   },
   "file_extension": ".py",
   "mimetype": "text/x-python",
   "name": "python",
   "nbconvert_exporter": "python",
   "pygments_lexer": "ipython3",
   "version": "3.6.5"
  }
 },
 "nbformat": 4,
 "nbformat_minor": 2
}
