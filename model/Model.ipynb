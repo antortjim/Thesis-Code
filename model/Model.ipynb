{
 "cells": [
  {
   "cell_type": "markdown",
   "metadata": {},
   "source": [
    "## This notebook builds a probabilistic model with Pymc3 to extend the MSqRob ridge regression model\n",
    "https://www.ncbi.nlm.nih.gov/pubmed/28391044\n",
    "$$\n",
    "y_{ijkl} = \\beta_{ij}^{treatment} + \\beta_{ik}^{peptide} + \\epsilon_{in}\n",
    "$$\n",
    "\n",
    "where $y$ stands for the $log_2$-transformed intensity of each peptide $k$ in run $l$ and condition $j$ that belong to protein $i$. $n$ is the $n^{th}$ peptide and $\\epsilon$ is an noise term following a normal distribution with $mu$ = 0 and sigma $\\sigma_i$ specific to the protein.\n",
    "Each $\\beta$ models a different effect on the final intensity measurement. The treatment effect \\beta^{treatment} can be regarded as an estimate of the $\\log_2$ protein quantity. Thus, \\beta_{ij}^{treatment A} - \\beta_{ij}^{treatment B} is an estimate of the $log_2$ fold change of protein $i$ between conditions A and B.\n",
    "\n",
    "Independent ridge regression models are built for all N peptides under protein $i$."
   ]
  },
  {
   "cell_type": "markdown",
   "metadata": {},
   "source": [
    "In this notebook, the fold change of the proteins detected in the MaxLFQ proteomebenchmark dataset: https://www.ebi.ac.uk/pride/archive/projects/PXD000279 is modeled in a similar way with a new extension.\n",
    "\n",
    "The peptides.txt file from MaxQuant was read in R and preprocessed with MSqRob preprocess_MaxQuant().\n",
    "\n",
    "Sequence features are extracted from each peptide to better capture the sequence variability inherent to each peptide.\n",
    "The sequence features were extracted using the protr package in R using extractAPAAC(), which yields a numeric vector of 32 features for each peptide, independent of length.\n",
    "Additionally to these 3 features, the number of missed cleavages of the peptide, and an integer encoding the neighboring residues of the peptide in the protein were added to the features, giving 35 features in total.\n",
    "\n",
    "The sequence features are used to model the peptide effect \\beta_{ik}^{peptide}.\n",
    "\n",
    "$$\n",
    "\\beta_{ik}^{peptide} = \\theta * features_{ik}\n",
    "$$\n",
    "\n",
    "which multiplies the intensities $y$ in the ridge regression model above, rendering a new model:\n",
    "\n",
    "$$\n",
    "y_{ijkln} = \\beta^{treatment}_{ij} \\beta_{ik}^{peptide} + \\epsilon_{in}\n",
    "$$\n"
   ]
  },
  {
   "cell_type": "code",
   "execution_count": 171,
   "metadata": {},
   "outputs": [],
   "source": [
    "import pymc3 as pm\n",
    "import theano"
   ]
  },
  {
   "cell_type": "code",
   "execution_count": 172,
   "metadata": {},
   "outputs": [],
   "source": [
    "import pandas as pd\n",
    "import os.path\n",
    "import glob\n",
    "import numpy as np\n",
    "import matplotlib.pyplot as plt\n",
    "from tqdm import tqdm\n",
    "np.random.seed(123)\n",
    "import seaborn as sns\n",
    "sns.set_style('whitegrid')"
   ]
  },
  {
   "cell_type": "code",
   "execution_count": 351,
   "metadata": {},
   "outputs": [],
   "source": [
    "# %load MSBay.py\n",
    "import pymc3 as pm\n",
    "import numpy as np\n",
    "import matplotlib.pyplot as plt\n",
    "from theano import shared\n",
    "import shutil\n",
    "import os\n",
    "from exp_annot_funcs import *\n",
    "\n",
    "\n",
    "class MSBay:\n",
    "\n",
    "    \"Compile a MS-Bay model, load data into it and infer the posterior\"\n",
    "\n",
    "    def __init__(self, data, features):\n",
    "       self.data = data\n",
    "       self.features = features\n",
    "\n",
    "    def compile_model(self, n_peptides, hierarchical_center=False, sequence=False):\n",
    "\n",
    "        self.observed_sh  = shared(np.array([0.,]*6*n_peptides))\n",
    "        self.feats_sh  = shared(np.array([[0.,]*9,]*n_peptides))\n",
    "        self.x_treat_sh  = shared(np.array([[0.,]*2,]*6*n_peptides))\n",
    "        self.x_pep_sh  = shared(np.array([[0.,]*n_peptides,]*6*n_peptides))\n",
    "        self.x_run_sh  = shared(np.array([[0.,]*6,]*6*n_peptides))\n",
    "        self.x_estimate_sh  = shared(np.array([[0.,]*2,]*1))\n",
    "     \n",
    "        # The number of proteins in this model is always one\n",
    "        # i.e this model is fitted protein-wise\n",
    "        n_prots = 1\n",
    "        # The number of features is set to 9 for now\n",
    "        # All peptides have 9 features, stored in feats_shared\n",
    "        n_features = 9\n",
    "        \n",
    "    \n",
    "        with pm.Model() as model:\n",
    "               \n",
    "            # Build a hyerarchical linear model of\n",
    "            # log2(MS1 intensities) by accounting for:\n",
    "    \n",
    "                 # Peptide effect\n",
    "                 # Run (batch) effect\n",
    "                 # Treatment effect\n",
    "                 # Remaining random effects\n",
    "    \n",
    "            # The difference in treatment effects is an estimate of the log2FC\n",
    "    \n",
    "    \n",
    "            # Set a prior on the intercept\n",
    "            intercept = pm.Normal(\"intercept\", 22, 1)\n",
    "            \n",
    "            # Set a prior on the remaining random effects\n",
    "            sigma = pm.HalfNormal('sigma', 1)\n",
    "    \n",
    "            ## Set priors on the peptide effect\n",
    "            ################################################\n",
    "            sigma_pep = pm.HalfNormal('sigma_pep', 1)\n",
    "    \n",
    "            # Not using the sequence\n",
    "            if not sequence:\n",
    "                mu_pep = pm.Normal('mu_pep', mu=0, sd=sigma_pep, shape=(n_peptides, 1))\n",
    "    \n",
    "            # Using the peptide sequence\n",
    "            else: \n",
    "                # sequence based modelling\n",
    "                mu_theta = pm.Normal('theta_generic', 0, sigma_pep, shape = 1)\n",
    "                theta = pm.Normal('theta', mu_theta, sigma_pep, shape = (n_features, 1))    # 9x1\n",
    "                theta_inter = pm.Normal('theta_inter', mu_theta, sigma_pep, shape = 1)\n",
    "                mu_pep = pm.Deterministic(\"mu_pep\", theta_inter + self.feats_sh.dot(theta)) # n_peptidesx1\n",
    "    \n",
    "    \n",
    "            ## Set priors on the treatment and run effects\n",
    "            ################################################    \n",
    "            sigma_treat = pm.HalfNormal('sigma_treat', 1)\n",
    "            mu_treat = pm.Normal('mu_treat', 0, sigma_treat)\n",
    "            sigma_run = pm.HalfNormal('sigma_run', 1)\n",
    "            mu_run = pm.Normal('mu_run', 0, sigma_run)\n",
    "    \n",
    "            # Standard implementation of the hyerarchies\n",
    "            if hierarchical_center:\n",
    "                pep = pm.Normal(\"pep\", mu_pep, sigma_pep) # n_peptidesx1\n",
    "                treat = pm.Normal('treat', mu_treat, sigma_treat, shape = (n_prots*2, 1))\n",
    "                run = pm.Normal('run', mu_run, sigma_run, shape = (n_prots*6, 1))\n",
    "    \n",
    "            # Reparametrization to escape funnel of hell as noted in\n",
    "            # http://twiecki.github.io/blog/2017/02/08/bayesian-hierchical-non-centered/\n",
    "            else:\n",
    "                pep_offset = pm.Normal(\"pep_offset\", mu=0, sd=1, shape = (n_peptides, 1))\n",
    "                pep = pm.Deterministic(\"pep\", mu_pep + pep_offset * sigma_pep)\n",
    "                treat_offset = pm.Normal(\"treat_offset\", mu=0, sd=1, shape=(n_prots*2, 1))\n",
    "                treat = pm.Deterministic(\"treat\", mu_treat + treat_offset*sigma_treat)\n",
    "                run_offset = pm.Normal(\"run_offset\", mu=0, sd=1, shape=(n_prots*6, 1))\n",
    "                run = pm.Deterministic(\"run\", mu_run + run_offset*sigma_run)\n",
    "    \n",
    "    \n",
    "            # Model the effect for all peptides\n",
    "            # The sh variables consist of -1,0,1 matrices telling pymc3\n",
    "            # which parameters shall be used with each peptide\n",
    "            # In practice, the \"clone\" each parameter to fit the shape of observed_sh\n",
    "            # observed_sh is a n_peptides*6x1 tensor\n",
    "            # The first 6 numbers store the MS1 intensities of the first peptide in the 6 runs\n",
    "            # The next 6 those of the second peptide, and so on\n",
    "    \n",
    "            #estimate = pm.Deterministic('estimate', pm.math.sum(self.x_estimate_sh.dot(treat), axis=1))\n",
    "            estimate = pm.Deterministic('estimate', self.x_estimate_sh.dot(treat))\n",
    "            treatment_effect = pm.Deterministic(\"treatment_effect\", pm.math.sum(self.x_treat_sh.dot(treat), axis=1))\n",
    "            peptide_effect = pm.Deterministic(\"peptide_effect\", pm.math.sum(self.x_pep_sh.dot(pep), axis=1))\n",
    "            run_effect = pm.Deterministic(\"run_effect\", pm.math.sum(self.x_run_sh.dot(run), axis=1))\n",
    "    \n",
    "            # BIND MODEL TO DATA\n",
    "            mu = pm.Deterministic(\"mu\", \n",
    "                intercept + treatment_effect + peptide_effect + run_effect) #n_peptides*6x1\n",
    "            if hierarchical_center:\n",
    "                obs = pm.Normal(\"obs\", mu, sigma, observed=self.observed_sh)\n",
    "            else:\n",
    "                obs_offset = pm.Normal(\"obs_offset\", mu=0, sd=1, shape=(n_peptides*6,1))\n",
    "                obs = pm.Normal(\"obs\", mu+obs_offset*sigma, sigma, observed=self.observed_sh)\n",
    "    \n",
    "    \n",
    "        print(\"Success: Model compiled\")\n",
    "\n",
    "        self.model = model\n",
    "        return model\n",
    "    \n",
    "    def sample(self, model_name, n_draws=1000, n_chains=3, remove_backend=True):\n",
    "    \n",
    "        # Check working environment  \n",
    "        if not os.path.isdir(\"traces\") or not os.path.isdir(\"plots/traceplots\"):\n",
    "            msg = \"Please create a traces dir and a plots/traceplots dir before running this code\"\n",
    "            raise Exception(msg)\n",
    "    \n",
    "        if remove_backend and os.path.isdir(\"traces/{}\".format(model_name)):\n",
    "            shutil.rmtree(\"traces/{}\".format(model_name))\n",
    "    \n",
    "    \n",
    "        with self.model:\n",
    "            # Parameters of the simulation:\n",
    "            # Number of iterations and independent chains.\n",
    "            n_sim = n_draws*n_chains\n",
    "    \n",
    "            # Save traces to the Text backend i.e a folder called\n",
    "            # model_name containing csv files for each chain\n",
    "            trace_name = 'traces/{}'.format(model_name)\n",
    "            db = pm.backends.Text(trace_name)\n",
    "            trace = pm.sample(draws=n_draws, njobs=n_chains, trace=db,\n",
    "                              tune=2000, nuts_kwargs=dict(target_accept=.95))\n",
    "        \n",
    "        # Save a traceplot \n",
    "        pm.traceplot(trace, varnames=[\"estimate\"])\n",
    "        traceplot = \"plots/traceplots/{}.png\".format(model_name)\n",
    "        plt.savefig(traceplot)\n",
    "        plt.close()\n",
    "           \n",
    "        return trace\n",
    "\n",
    "    def fit(self, model_name, n_draws):\n",
    "\n",
    "        with self.model:\n",
    "            \n",
    "            inference = pm.ADVI()\n",
    "            trace = pm.fit(method=inference).sample(n_draws)\n",
    "\n",
    "        plt.plot(-inference.hist, alpha=.5)\n",
    "        plt.legend()\n",
    "        plt.ylabel('ELBO')\n",
    "        plt.xlabel('iteration');\n",
    "        plt.savefig(\"plots/ELBO/{}\".format(model_name))\n",
    "        plt.close()\n",
    "        \n",
    "        return trace\n",
    "    \n",
    "    def load_data(self, p):\n",
    "    \n",
    "        variables = create_variables(self.data, self.features, [p])\n",
    "        observed, feats, x_treat, x_pep, x_run, x_estimate = variables\n",
    "        self.observed_sh.set_value(observed)\n",
    "        self.feats_sh.set_value(feats)    \n",
    "        self.x_treat_sh.set_value(x_treat)\n",
    "        self.x_pep_sh.set_value(x_pep)\n",
    "        self.x_run_sh.set_value(x_run)\n",
    "        self.x_estimate_sh.set_value(x_estimate)\n"
   ]
  },
  {
   "cell_type": "code",
   "execution_count": 352,
   "metadata": {},
   "outputs": [
    {
     "data": {
      "text/html": [
       "<div>\n",
       "<style scoped>\n",
       "    .dataframe tbody tr th:only-of-type {\n",
       "        vertical-align: middle;\n",
       "    }\n",
       "\n",
       "    .dataframe tbody tr th {\n",
       "        vertical-align: top;\n",
       "    }\n",
       "\n",
       "    .dataframe thead th {\n",
       "        text-align: right;\n",
       "    }\n",
       "</style>\n",
       "<table border=\"1\" class=\"dataframe\">\n",
       "  <thead>\n",
       "    <tr style=\"text-align: right;\">\n",
       "      <th></th>\n",
       "      <th>protein</th>\n",
       "      <th>taxon</th>\n",
       "      <th>H1</th>\n",
       "      <th>H2</th>\n",
       "      <th>H3</th>\n",
       "      <th>L1</th>\n",
       "      <th>L2</th>\n",
       "      <th>L3</th>\n",
       "    </tr>\n",
       "  </thead>\n",
       "  <tbody>\n",
       "    <tr>\n",
       "      <th>0</th>\n",
       "      <td>P37108</td>\n",
       "      <td>Homo sapiens</td>\n",
       "      <td>28.181535</td>\n",
       "      <td>28.006834</td>\n",
       "      <td>28.006941</td>\n",
       "      <td>27.133594</td>\n",
       "      <td>27.969390</td>\n",
       "      <td>27.869266</td>\n",
       "    </tr>\n",
       "    <tr>\n",
       "      <th>1</th>\n",
       "      <td>Q96P70</td>\n",
       "      <td>Homo sapiens</td>\n",
       "      <td>26.121057</td>\n",
       "      <td>25.893423</td>\n",
       "      <td>26.436157</td>\n",
       "      <td>25.421240</td>\n",
       "      <td>25.719706</td>\n",
       "      <td>25.811642</td>\n",
       "    </tr>\n",
       "    <tr>\n",
       "      <th>2</th>\n",
       "      <td>Q9Y2U8</td>\n",
       "      <td>Homo sapiens</td>\n",
       "      <td>22.398509</td>\n",
       "      <td>23.542741</td>\n",
       "      <td>24.042266</td>\n",
       "      <td>25.124118</td>\n",
       "      <td>25.285598</td>\n",
       "      <td>25.008512</td>\n",
       "    </tr>\n",
       "    <tr>\n",
       "      <th>3</th>\n",
       "      <td>Q9BTD8-4;Q9BTD8-2;Q9BTD8-3;Q9BTD8</td>\n",
       "      <td>Homo sapiens</td>\n",
       "      <td>23.337153</td>\n",
       "      <td>22.611060</td>\n",
       "      <td>23.675084</td>\n",
       "      <td>19.519606</td>\n",
       "      <td>23.237510</td>\n",
       "      <td>22.601230</td>\n",
       "    </tr>\n",
       "    <tr>\n",
       "      <th>4</th>\n",
       "      <td>Q9P258</td>\n",
       "      <td>Homo sapiens</td>\n",
       "      <td>22.545124</td>\n",
       "      <td>20.359925</td>\n",
       "      <td>22.185649</td>\n",
       "      <td>21.836265</td>\n",
       "      <td>22.880450</td>\n",
       "      <td>21.577547</td>\n",
       "    </tr>\n",
       "  </tbody>\n",
       "</table>\n",
       "</div>"
      ],
      "text/plain": [
       "                             protein         taxon         H1         H2  \\\n",
       "0                             P37108  Homo sapiens  28.181535  28.006834   \n",
       "1                             Q96P70  Homo sapiens  26.121057  25.893423   \n",
       "2                             Q9Y2U8  Homo sapiens  22.398509  23.542741   \n",
       "3  Q9BTD8-4;Q9BTD8-2;Q9BTD8-3;Q9BTD8  Homo sapiens  23.337153  22.611060   \n",
       "4                             Q9P258  Homo sapiens  22.545124  20.359925   \n",
       "\n",
       "          H3         L1         L2         L3  \n",
       "0  28.006941  27.133594  27.969390  27.869266  \n",
       "1  26.436157  25.421240  25.719706  25.811642  \n",
       "2  24.042266  25.124118  25.285598  25.008512  \n",
       "3  23.675084  19.519606  23.237510  22.601230  \n",
       "4  22.185649  21.836265  22.880450  21.577547  "
      ]
     },
     "execution_count": 352,
     "metadata": {},
     "output_type": "execute_result"
    }
   ],
   "source": [
    "data = pd.read_csv(\"data/data.tsv\", sep = \"\\t\")\n",
    "data['H1'] = data['H1'].astype(theano.config.floatX)\n",
    "data['H2'] = data['H2'].astype(theano.config.floatX)\n",
    "data['H3'] = data['H3'].astype(theano.config.floatX)\n",
    "data['L1'] = data['L1'].astype(theano.config.floatX)\n",
    "data['L2'] = data['L2'].astype(theano.config.floatX)\n",
    "data['L3'] = data['L3'].astype(theano.config.floatX)\n",
    "data.head()"
   ]
  },
  {
   "cell_type": "code",
   "execution_count": 388,
   "metadata": {},
   "outputs": [
    {
     "name": "stdout",
     "output_type": "stream",
     "text": [
      "[0.8469232  0.08723227]\n",
      "[754.54590515 242.1599028 ]\n"
     ]
    },
    {
     "data": {
      "image/png": "[encoded data removed]",
      "text/plain": [
       "<Figure size 880.625x360 with 2 Axes>"
      ]
     },
     "metadata": {},
     "output_type": "display_data"
    }
   ],
   "source": [
    "from sklearn.decomposition import PCA \n",
    "x = data.values[:,2:]\n",
    "pca = PCA(n_components=2)\n",
    "pca.fit(x)\n",
    "print(pca.explained_variance_ratio_)\n",
    "print(pca.singular_values_)\n",
    "x_transformed = pca.transform(x)\n",
    "pca_data = pd.DataFrame({\"taxon\": data.taxon, \"PC1\": x_transformed[:,0], \"PC2\": x_transformed[:,1]})\n",
    "myPlot = sns.FacetGrid(col=\"taxon\", hue='taxon', data=pca_data, size=5)\n",
    "myPlot = myPlot.map(plt.scatter, \"PC1\", \"PC2\", alpha=0.3)\n",
    "myPlot = myPlot.map_dataframe(plt.plot, [min(pca_data.PC1),max(pca_data.PC1)], [0, 0], 'r-').add_legend().set_axis_labels(\"PC1\", \"PC2\")\n",
    "plt.show()"
   ]
  },
  {
   "cell_type": "code",
   "execution_count": 389,
   "metadata": {},
   "outputs": [],
   "source": [
    "# x=np.mean(data[[\"H1\",\"H2\",\"H3\"]].values, axis=1)\n",
    "# y=np.mean(data[[\"L1\",\"L2\",\"L3\"]].values, axis=1)\n",
    "# colors=[\"red\", \"blue\"]\n",
    "# for i, taxon in enumerate([\"Escherichia coli (strain K12)\", \"Homo sapiens\"]):\n",
    "#     plt.scatter(x=x[data.taxon == taxon],y=y[data.taxon == taxon], c=colors[i],label=taxon, alpha=0.5)\n",
    "# def abline(slope, intercept):\n",
    "#     \"\"\"Plot a line from slope and intercept\"\"\"\n",
    "#     axes = plt.gca()\n",
    "#     x_vals = np.array(axes.get_xlim())\n",
    "#     y_vals = intercept + slope * x_vals\n",
    "#     plt.plot(x_vals, y_vals, '--',color=\"green\")\n",
    "# abline(1,0)\n",
    "# plt.legend()\n",
    "# plt.show()\n"
   ]
  },
  {
   "cell_type": "code",
   "execution_count": 356,
   "metadata": {},
   "outputs": [
    {
     "name": "stdout",
     "output_type": "stream",
     "text": [
      "0.6005208785523234\n",
      "1.6266920285619832\n"
     ]
    }
   ],
   "source": [
    "from numpy.linalg import norm\n",
    "p1 = np.array([0,0])\n",
    "p2 = np.array([1,1])\n",
    "indices = [data.taxon == \"Homo sapiens\", data.taxon != \"Homo sapiens\"]\n",
    "hsapiens_d, ecoli_d =np.array([[norm(np.cross(p2-p1, p1-p3))/norm(p2-p1) for p3 in zip(x[idx],y[idx])] for idx in indices])\n",
    "print(np.mean(hsapiens_d))\n",
    "print(np.mean(ecoli_d))"
   ]
  },
  {
   "cell_type": "code",
   "execution_count": 357,
   "metadata": {},
   "outputs": [
    {
     "name": "stdout",
     "output_type": "stream",
     "text": [
      "Number of sequence features 9\n",
      "Number of proteins 2850\n",
      "Number of peptides 17107\n",
      "This is the first row of the features array:\n",
      "(17107, 9)\n",
      "   aromaticity  composition_G  composition_K  composition_V  flexibility  \\\n",
      "0    -0.992459            1.0            0.0            0.0     1.648868   \n",
      "\n",
      "   instability    length  mass_len_ratio        hm  \n",
      "0       1.8288  1.286819       -2.053132 -1.516532  \n"
     ]
    },
    {
     "data": {
      "text/html": [
       "<div>\n",
       "<style scoped>\n",
       "    .dataframe tbody tr th:only-of-type {\n",
       "        vertical-align: middle;\n",
       "    }\n",
       "\n",
       "    .dataframe tbody tr th {\n",
       "        vertical-align: top;\n",
       "    }\n",
       "\n",
       "    .dataframe thead th {\n",
       "        text-align: right;\n",
       "    }\n",
       "</style>\n",
       "<table border=\"1\" class=\"dataframe\">\n",
       "  <thead>\n",
       "    <tr style=\"text-align: right;\">\n",
       "      <th></th>\n",
       "      <th>aromaticity</th>\n",
       "      <th>composition_G</th>\n",
       "      <th>composition_K</th>\n",
       "      <th>composition_V</th>\n",
       "      <th>flexibility</th>\n",
       "      <th>instability</th>\n",
       "      <th>length</th>\n",
       "      <th>mass_len_ratio</th>\n",
       "      <th>hm</th>\n",
       "    </tr>\n",
       "  </thead>\n",
       "  <tbody>\n",
       "    <tr>\n",
       "      <th>0</th>\n",
       "      <td>-0.992459</td>\n",
       "      <td>1.0</td>\n",
       "      <td>0.0</td>\n",
       "      <td>0.0</td>\n",
       "      <td>1.648868</td>\n",
       "      <td>1.828800</td>\n",
       "      <td>1.286819</td>\n",
       "      <td>-2.053132</td>\n",
       "      <td>-1.516532</td>\n",
       "    </tr>\n",
       "    <tr>\n",
       "      <th>1</th>\n",
       "      <td>0.841374</td>\n",
       "      <td>1.0</td>\n",
       "      <td>1.0</td>\n",
       "      <td>0.0</td>\n",
       "      <td>-0.248549</td>\n",
       "      <td>-0.573767</td>\n",
       "      <td>-0.074351</td>\n",
       "      <td>-0.396156</td>\n",
       "      <td>-0.513330</td>\n",
       "    </tr>\n",
       "    <tr>\n",
       "      <th>2</th>\n",
       "      <td>-0.992459</td>\n",
       "      <td>1.0</td>\n",
       "      <td>0.0</td>\n",
       "      <td>0.0</td>\n",
       "      <td>0.804389</td>\n",
       "      <td>1.928472</td>\n",
       "      <td>-0.852162</td>\n",
       "      <td>1.468934</td>\n",
       "      <td>2.343718</td>\n",
       "    </tr>\n",
       "    <tr>\n",
       "      <th>3</th>\n",
       "      <td>-0.992459</td>\n",
       "      <td>1.0</td>\n",
       "      <td>1.0</td>\n",
       "      <td>1.0</td>\n",
       "      <td>-0.957520</td>\n",
       "      <td>0.058742</td>\n",
       "      <td>-0.657709</td>\n",
       "      <td>-1.121271</td>\n",
       "      <td>0.094526</td>\n",
       "    </tr>\n",
       "    <tr>\n",
       "      <th>4</th>\n",
       "      <td>-0.992459</td>\n",
       "      <td>1.0</td>\n",
       "      <td>1.0</td>\n",
       "      <td>1.0</td>\n",
       "      <td>-0.172332</td>\n",
       "      <td>-0.188579</td>\n",
       "      <td>0.120102</td>\n",
       "      <td>-1.097936</td>\n",
       "      <td>-1.934398</td>\n",
       "    </tr>\n",
       "  </tbody>\n",
       "</table>\n",
       "</div>"
      ],
      "text/plain": [
       "   aromaticity  composition_G  composition_K  composition_V  flexibility  \\\n",
       "0    -0.992459            1.0            0.0            0.0     1.648868   \n",
       "1     0.841374            1.0            1.0            0.0    -0.248549   \n",
       "2    -0.992459            1.0            0.0            0.0     0.804389   \n",
       "3    -0.992459            1.0            1.0            1.0    -0.957520   \n",
       "4    -0.992459            1.0            1.0            1.0    -0.172332   \n",
       "\n",
       "   instability    length  mass_len_ratio        hm  \n",
       "0     1.828800  1.286819       -2.053132 -1.516532  \n",
       "1    -0.573767 -0.074351       -0.396156 -0.513330  \n",
       "2     1.928472 -0.852162        1.468934  2.343718  \n",
       "3     0.058742 -0.657709       -1.121271  0.094526  \n",
       "4    -0.188579  0.120102       -1.097936 -1.934398  "
      ]
     },
     "execution_count": 357,
     "metadata": {},
     "output_type": "execute_result"
    }
   ],
   "source": [
    "features = pd.read_csv(\"data/advanced_features.tsv\", sep = \"\\t\").iloc[:,1:]\n",
    "features=features.iloc[data.index,:]\n",
    "n_seq_feat = features.shape[1]\n",
    "print(\"Number of sequence features {}\".format(n_seq_feat))\n",
    "n_prots = len(np.unique(data.protein))\n",
    "print(\"Number of proteins {}\".format(n_prots))\n",
    "n_peptides = data.shape[0]\n",
    "print(\"Number of peptides {}\".format(n_peptides))\n",
    "print(\"This is the first row of the features array:\")\n",
    "print(features.shape)\n",
    "print(features.iloc[:1,:])\n",
    "features.head()"
   ]
  },
  {
   "cell_type": "markdown",
   "metadata": {},
   "source": [
    "### Every protein has at least two peptides"
   ]
  },
  {
   "cell_type": "code",
   "execution_count": 358,
   "metadata": {},
   "outputs": [
    {
     "data": {
      "text/html": [
       "<div>\n",
       "<style scoped>\n",
       "    .dataframe tbody tr th:only-of-type {\n",
       "        vertical-align: middle;\n",
       "    }\n",
       "\n",
       "    .dataframe tbody tr th {\n",
       "        vertical-align: top;\n",
       "    }\n",
       "\n",
       "    .dataframe thead th {\n",
       "        text-align: right;\n",
       "    }\n",
       "</style>\n",
       "<table border=\"1\" class=\"dataframe\">\n",
       "  <thead>\n",
       "    <tr style=\"text-align: right;\">\n",
       "      <th></th>\n",
       "      <th>n_peptides</th>\n",
       "      <th>n_prots</th>\n",
       "    </tr>\n",
       "  </thead>\n",
       "  <tbody>\n",
       "    <tr>\n",
       "      <th>0</th>\n",
       "      <td>2</td>\n",
       "      <td>874</td>\n",
       "    </tr>\n",
       "    <tr>\n",
       "      <th>1</th>\n",
       "      <td>3</td>\n",
       "      <td>498</td>\n",
       "    </tr>\n",
       "    <tr>\n",
       "      <th>2</th>\n",
       "      <td>4</td>\n",
       "      <td>311</td>\n",
       "    </tr>\n",
       "    <tr>\n",
       "      <th>3</th>\n",
       "      <td>5</td>\n",
       "      <td>205</td>\n",
       "    </tr>\n",
       "    <tr>\n",
       "      <th>4</th>\n",
       "      <td>6</td>\n",
       "      <td>155</td>\n",
       "    </tr>\n",
       "    <tr>\n",
       "      <th>5</th>\n",
       "      <td>7</td>\n",
       "      <td>133</td>\n",
       "    </tr>\n",
       "    <tr>\n",
       "      <th>6</th>\n",
       "      <td>8</td>\n",
       "      <td>109</td>\n",
       "    </tr>\n",
       "    <tr>\n",
       "      <th>7</th>\n",
       "      <td>9</td>\n",
       "      <td>96</td>\n",
       "    </tr>\n",
       "    <tr>\n",
       "      <th>8</th>\n",
       "      <td>10</td>\n",
       "      <td>65</td>\n",
       "    </tr>\n",
       "    <tr>\n",
       "      <th>9</th>\n",
       "      <td>11</td>\n",
       "      <td>61</td>\n",
       "    </tr>\n",
       "  </tbody>\n",
       "</table>\n",
       "</div>"
      ],
      "text/plain": [
       "   n_peptides  n_prots\n",
       "0           2      874\n",
       "1           3      498\n",
       "2           4      311\n",
       "3           5      205\n",
       "4           6      155\n",
       "5           7      133\n",
       "6           8      109\n",
       "7           9       96\n",
       "8          10       65\n",
       "9          11       61"
      ]
     },
     "execution_count": 358,
     "metadata": {},
     "output_type": "execute_result"
    }
   ],
   "source": [
    "counts = np.unique(np.unique(data.protein, return_counts=True)[1], return_counts=True)\n",
    "pd.DataFrame(np.array([counts[0], counts[1]]).T, columns = [\"n_peptides\", \"n_prots\"]).head(10)"
   ]
  },
  {
   "cell_type": "markdown",
   "metadata": {},
   "source": [
    "### Load data"
   ]
  },
  {
   "cell_type": "code",
   "execution_count": 359,
   "metadata": {},
   "outputs": [],
   "source": [
    "msbay = MSBay(data, features)"
   ]
  },
  {
   "cell_type": "markdown",
   "metadata": {},
   "source": [
    "### Instantiate model"
   ]
  },
  {
   "cell_type": "code",
   "execution_count": 360,
   "metadata": {},
   "outputs": [
    {
     "data": {
      "text/html": [
       "<div>\n",
       "<style scoped>\n",
       "    .dataframe tbody tr th:only-of-type {\n",
       "        vertical-align: middle;\n",
       "    }\n",
       "\n",
       "    .dataframe tbody tr th {\n",
       "        vertical-align: top;\n",
       "    }\n",
       "\n",
       "    .dataframe thead th {\n",
       "        text-align: right;\n",
       "    }\n",
       "</style>\n",
       "<table border=\"1\" class=\"dataframe\">\n",
       "  <thead>\n",
       "    <tr style=\"text-align: right;\">\n",
       "      <th></th>\n",
       "      <th>protein</th>\n",
       "      <th>taxon</th>\n",
       "      <th>H1</th>\n",
       "      <th>H2</th>\n",
       "      <th>H3</th>\n",
       "      <th>L1</th>\n",
       "      <th>L2</th>\n",
       "      <th>L3</th>\n",
       "    </tr>\n",
       "  </thead>\n",
       "  <tbody>\n",
       "    <tr>\n",
       "      <th>8407</th>\n",
       "      <td>B4DLN1;P52815</td>\n",
       "      <td>Homo sapiens</td>\n",
       "      <td>24.684210</td>\n",
       "      <td>24.332516</td>\n",
       "      <td>24.506518</td>\n",
       "      <td>24.056228</td>\n",
       "      <td>25.583969</td>\n",
       "      <td>24.617789</td>\n",
       "    </tr>\n",
       "    <tr>\n",
       "      <th>9097</th>\n",
       "      <td>B4DLN1;P52815</td>\n",
       "      <td>Homo sapiens</td>\n",
       "      <td>22.090713</td>\n",
       "      <td>21.921107</td>\n",
       "      <td>19.059440</td>\n",
       "      <td>24.173332</td>\n",
       "      <td>24.235641</td>\n",
       "      <td>24.339533</td>\n",
       "    </tr>\n",
       "    <tr>\n",
       "      <th>9632</th>\n",
       "      <td>B4DLN1;P52815</td>\n",
       "      <td>Homo sapiens</td>\n",
       "      <td>24.595198</td>\n",
       "      <td>25.220924</td>\n",
       "      <td>24.375904</td>\n",
       "      <td>22.676569</td>\n",
       "      <td>22.792114</td>\n",
       "      <td>22.066348</td>\n",
       "    </tr>\n",
       "    <tr>\n",
       "      <th>11069</th>\n",
       "      <td>B4DLN1;P52815</td>\n",
       "      <td>Homo sapiens</td>\n",
       "      <td>26.224516</td>\n",
       "      <td>26.515118</td>\n",
       "      <td>25.695060</td>\n",
       "      <td>25.579315</td>\n",
       "      <td>25.390738</td>\n",
       "      <td>26.250030</td>\n",
       "    </tr>\n",
       "    <tr>\n",
       "      <th>8740</th>\n",
       "      <td>C9J0K6;B4DKK2;A8MTH6;P30626</td>\n",
       "      <td>Homo sapiens</td>\n",
       "      <td>24.487753</td>\n",
       "      <td>24.627006</td>\n",
       "      <td>24.426432</td>\n",
       "      <td>23.919071</td>\n",
       "      <td>24.589437</td>\n",
       "      <td>24.969083</td>\n",
       "    </tr>\n",
       "    <tr>\n",
       "      <th>930</th>\n",
       "      <td>C9J0K6;B4DKK2;A8MTH6;P30626</td>\n",
       "      <td>Homo sapiens</td>\n",
       "      <td>25.549631</td>\n",
       "      <td>25.391295</td>\n",
       "      <td>24.167985</td>\n",
       "      <td>24.029853</td>\n",
       "      <td>23.342452</td>\n",
       "      <td>24.946861</td>\n",
       "    </tr>\n",
       "    <tr>\n",
       "      <th>3060</th>\n",
       "      <td>C9J0K6;B4DKK2;A8MTH6;P30626</td>\n",
       "      <td>Homo sapiens</td>\n",
       "      <td>24.696891</td>\n",
       "      <td>25.119218</td>\n",
       "      <td>24.892266</td>\n",
       "      <td>24.332789</td>\n",
       "      <td>24.734951</td>\n",
       "      <td>24.567439</td>\n",
       "    </tr>\n",
       "    <tr>\n",
       "      <th>11756</th>\n",
       "      <td>C9J0K6;B4DKK2;A8MTH6;P30626</td>\n",
       "      <td>Homo sapiens</td>\n",
       "      <td>23.517372</td>\n",
       "      <td>24.802180</td>\n",
       "      <td>21.622030</td>\n",
       "      <td>21.939446</td>\n",
       "      <td>24.170967</td>\n",
       "      <td>24.072429</td>\n",
       "    </tr>\n",
       "    <tr>\n",
       "      <th>3063</th>\n",
       "      <td>C9JP16;Q8NB01;O75718</td>\n",
       "      <td>Homo sapiens</td>\n",
       "      <td>22.564418</td>\n",
       "      <td>21.199224</td>\n",
       "      <td>21.763324</td>\n",
       "      <td>22.483158</td>\n",
       "      <td>21.639093</td>\n",
       "      <td>21.760403</td>\n",
       "    </tr>\n",
       "    <tr>\n",
       "      <th>15638</th>\n",
       "      <td>C9JP16;Q8NB01;O75718</td>\n",
       "      <td>Homo sapiens</td>\n",
       "      <td>25.326597</td>\n",
       "      <td>26.326991</td>\n",
       "      <td>24.731278</td>\n",
       "      <td>24.538603</td>\n",
       "      <td>24.288065</td>\n",
       "      <td>24.198805</td>\n",
       "    </tr>\n",
       "  </tbody>\n",
       "</table>\n",
       "</div>"
      ],
      "text/plain": [
       "                           protein         taxon         H1         H2  \\\n",
       "8407                 B4DLN1;P52815  Homo sapiens  24.684210  24.332516   \n",
       "9097                 B4DLN1;P52815  Homo sapiens  22.090713  21.921107   \n",
       "9632                 B4DLN1;P52815  Homo sapiens  24.595198  25.220924   \n",
       "11069                B4DLN1;P52815  Homo sapiens  26.224516  26.515118   \n",
       "8740   C9J0K6;B4DKK2;A8MTH6;P30626  Homo sapiens  24.487753  24.627006   \n",
       "930    C9J0K6;B4DKK2;A8MTH6;P30626  Homo sapiens  25.549631  25.391295   \n",
       "3060   C9J0K6;B4DKK2;A8MTH6;P30626  Homo sapiens  24.696891  25.119218   \n",
       "11756  C9J0K6;B4DKK2;A8MTH6;P30626  Homo sapiens  23.517372  24.802180   \n",
       "3063          C9JP16;Q8NB01;O75718  Homo sapiens  22.564418  21.199224   \n",
       "15638         C9JP16;Q8NB01;O75718  Homo sapiens  25.326597  26.326991   \n",
       "\n",
       "              H3         L1         L2         L3  \n",
       "8407   24.506518  24.056228  25.583969  24.617789  \n",
       "9097   19.059440  24.173332  24.235641  24.339533  \n",
       "9632   24.375904  22.676569  22.792114  22.066348  \n",
       "11069  25.695060  25.579315  25.390738  26.250030  \n",
       "8740   24.426432  23.919071  24.589437  24.969083  \n",
       "930    24.167985  24.029853  23.342452  24.946861  \n",
       "3060   24.892266  24.332789  24.734951  24.567439  \n",
       "11756  21.622030  21.939446  24.170967  24.072429  \n",
       "3063   21.763324  22.483158  21.639093  21.760403  \n",
       "15638  24.731278  24.538603  24.288065  24.198805  "
      ]
     },
     "execution_count": 360,
     "metadata": {},
     "output_type": "execute_result"
    }
   ],
   "source": [
    "n_peptides = 4\n",
    "prots, counts = np.unique(data.protein, return_counts=True)\n",
    "prots = prots[counts == n_peptides]\n",
    "data.loc[data.protein.isin(prots).values & (data.taxon == \"Homo sapiens\"),:].sort_values(\"protein\").head(10)"
   ]
  },
  {
   "cell_type": "code",
   "execution_count": 361,
   "metadata": {},
   "outputs": [
    {
     "data": {
      "text/html": [
       "<div>\n",
       "<style scoped>\n",
       "    .dataframe tbody tr th:only-of-type {\n",
       "        vertical-align: middle;\n",
       "    }\n",
       "\n",
       "    .dataframe tbody tr th {\n",
       "        vertical-align: top;\n",
       "    }\n",
       "\n",
       "    .dataframe thead th {\n",
       "        text-align: right;\n",
       "    }\n",
       "</style>\n",
       "<table border=\"1\" class=\"dataframe\">\n",
       "  <thead>\n",
       "    <tr style=\"text-align: right;\">\n",
       "      <th></th>\n",
       "      <th>protein</th>\n",
       "      <th>taxon</th>\n",
       "      <th>H1</th>\n",
       "      <th>H2</th>\n",
       "      <th>H3</th>\n",
       "      <th>L1</th>\n",
       "      <th>L2</th>\n",
       "      <th>L3</th>\n",
       "    </tr>\n",
       "  </thead>\n",
       "  <tbody>\n",
       "    <tr>\n",
       "      <th>1234</th>\n",
       "      <td>P00562</td>\n",
       "      <td>Escherichia coli (strain K12)</td>\n",
       "      <td>21.794754</td>\n",
       "      <td>21.788793</td>\n",
       "      <td>21.441062</td>\n",
       "      <td>18.898206</td>\n",
       "      <td>18.156547</td>\n",
       "      <td>20.215964</td>\n",
       "    </tr>\n",
       "    <tr>\n",
       "      <th>13965</th>\n",
       "      <td>P00562</td>\n",
       "      <td>Escherichia coli (strain K12)</td>\n",
       "      <td>21.266423</td>\n",
       "      <td>21.594913</td>\n",
       "      <td>21.243072</td>\n",
       "      <td>19.904908</td>\n",
       "      <td>20.879721</td>\n",
       "      <td>19.819546</td>\n",
       "    </tr>\n",
       "    <tr>\n",
       "      <th>6986</th>\n",
       "      <td>P00562</td>\n",
       "      <td>Escherichia coli (strain K12)</td>\n",
       "      <td>22.580333</td>\n",
       "      <td>22.800789</td>\n",
       "      <td>21.663143</td>\n",
       "      <td>17.697103</td>\n",
       "      <td>19.907976</td>\n",
       "      <td>19.427775</td>\n",
       "    </tr>\n",
       "    <tr>\n",
       "      <th>9322</th>\n",
       "      <td>P00562</td>\n",
       "      <td>Escherichia coli (strain K12)</td>\n",
       "      <td>22.071627</td>\n",
       "      <td>22.338024</td>\n",
       "      <td>21.445362</td>\n",
       "      <td>17.906245</td>\n",
       "      <td>19.339541</td>\n",
       "      <td>18.741362</td>\n",
       "    </tr>\n",
       "    <tr>\n",
       "      <th>10107</th>\n",
       "      <td>P00926</td>\n",
       "      <td>Escherichia coli (strain K12)</td>\n",
       "      <td>23.750726</td>\n",
       "      <td>23.988846</td>\n",
       "      <td>23.173012</td>\n",
       "      <td>21.453021</td>\n",
       "      <td>21.325479</td>\n",
       "      <td>21.256206</td>\n",
       "    </tr>\n",
       "    <tr>\n",
       "      <th>14093</th>\n",
       "      <td>P00926</td>\n",
       "      <td>Escherichia coli (strain K12)</td>\n",
       "      <td>22.174019</td>\n",
       "      <td>22.492821</td>\n",
       "      <td>21.573115</td>\n",
       "      <td>20.485027</td>\n",
       "      <td>20.505234</td>\n",
       "      <td>20.219632</td>\n",
       "    </tr>\n",
       "    <tr>\n",
       "      <th>3481</th>\n",
       "      <td>P00926</td>\n",
       "      <td>Escherichia coli (strain K12)</td>\n",
       "      <td>22.517685</td>\n",
       "      <td>23.062121</td>\n",
       "      <td>22.163830</td>\n",
       "      <td>19.937472</td>\n",
       "      <td>20.677107</td>\n",
       "      <td>20.108912</td>\n",
       "    </tr>\n",
       "    <tr>\n",
       "      <th>2350</th>\n",
       "      <td>P00926</td>\n",
       "      <td>Escherichia coli (strain K12)</td>\n",
       "      <td>22.729349</td>\n",
       "      <td>23.310219</td>\n",
       "      <td>20.536494</td>\n",
       "      <td>21.594230</td>\n",
       "      <td>21.349920</td>\n",
       "      <td>20.776195</td>\n",
       "    </tr>\n",
       "    <tr>\n",
       "      <th>11071</th>\n",
       "      <td>P02916</td>\n",
       "      <td>Escherichia coli (strain K12)</td>\n",
       "      <td>23.657201</td>\n",
       "      <td>23.940826</td>\n",
       "      <td>21.076594</td>\n",
       "      <td>20.607565</td>\n",
       "      <td>21.880319</td>\n",
       "      <td>21.728374</td>\n",
       "    </tr>\n",
       "    <tr>\n",
       "      <th>7058</th>\n",
       "      <td>P02916</td>\n",
       "      <td>Escherichia coli (strain K12)</td>\n",
       "      <td>23.754299</td>\n",
       "      <td>23.988586</td>\n",
       "      <td>24.556722</td>\n",
       "      <td>21.148861</td>\n",
       "      <td>22.317800</td>\n",
       "      <td>22.132983</td>\n",
       "    </tr>\n",
       "  </tbody>\n",
       "</table>\n",
       "</div>"
      ],
      "text/plain": [
       "      protein                          taxon         H1         H2         H3  \\\n",
       "1234   P00562  Escherichia coli (strain K12)  21.794754  21.788793  21.441062   \n",
       "13965  P00562  Escherichia coli (strain K12)  21.266423  21.594913  21.243072   \n",
       "6986   P00562  Escherichia coli (strain K12)  22.580333  22.800789  21.663143   \n",
       "9322   P00562  Escherichia coli (strain K12)  22.071627  22.338024  21.445362   \n",
       "10107  P00926  Escherichia coli (strain K12)  23.750726  23.988846  23.173012   \n",
       "14093  P00926  Escherichia coli (strain K12)  22.174019  22.492821  21.573115   \n",
       "3481   P00926  Escherichia coli (strain K12)  22.517685  23.062121  22.163830   \n",
       "2350   P00926  Escherichia coli (strain K12)  22.729349  23.310219  20.536494   \n",
       "11071  P02916  Escherichia coli (strain K12)  23.657201  23.940826  21.076594   \n",
       "7058   P02916  Escherichia coli (strain K12)  23.754299  23.988586  24.556722   \n",
       "\n",
       "              L1         L2         L3  \n",
       "1234   18.898206  18.156547  20.215964  \n",
       "13965  19.904908  20.879721  19.819546  \n",
       "6986   17.697103  19.907976  19.427775  \n",
       "9322   17.906245  19.339541  18.741362  \n",
       "10107  21.453021  21.325479  21.256206  \n",
       "14093  20.485027  20.505234  20.219632  \n",
       "3481   19.937472  20.677107  20.108912  \n",
       "2350   21.594230  21.349920  20.776195  \n",
       "11071  20.607565  21.880319  21.728374  \n",
       "7058   21.148861  22.317800  22.132983  "
      ]
     },
     "execution_count": 361,
     "metadata": {},
     "output_type": "execute_result"
    }
   ],
   "source": [
    "data.loc[data.protein.isin(prots).values & (data.taxon != \"Homo sapiens\"),:].sort_values(\"protein\").head(10)"
   ]
  },
  {
   "cell_type": "code",
   "execution_count": 362,
   "metadata": {},
   "outputs": [
    {
     "name": "stdout",
     "output_type": "stream",
     "text": [
      "Success: Model compiled\n"
     ]
    }
   ],
   "source": [
    "model = msbay.compile_model(n_peptides=n_peptides)"
   ]
  },
  {
   "cell_type": "markdown",
   "metadata": {},
   "source": [
    "### Load data for specific protein"
   ]
  },
  {
   "cell_type": "code",
   "execution_count": 429,
   "metadata": {},
   "outputs": [
    {
     "name": "stderr",
     "output_type": "stream",
     "text": [
      "4it [00:00, 16980.99it/s]"
     ]
    },
    {
     "name": "stdout",
     "output_type": "stream",
     "text": [
      "Shape of x_treat is 24, 2\n",
      "Shape of x_pep is 24, 4\n",
      "Shape of x_estimate is 1, 2\n"
     ]
    },
    {
     "name": "stderr",
     "output_type": "stream",
     "text": [
      "\n"
     ]
    }
   ],
   "source": [
    "# p = \"B4DLN1;P52815\"\n",
    "p = \"P00562\"\n",
    "p = \"P00926\"\n",
    "p = \"C9J0K6;B4DKK2;A8MTH6;P30626\"\n",
    "msbay.load_data(p)"
   ]
  },
  {
   "cell_type": "markdown",
   "metadata": {},
   "source": [
    "### Run model!!!!\n"
   ]
  },
  {
   "cell_type": "code",
   "execution_count": 417,
   "metadata": {},
   "outputs": [],
   "source": [
    "# trace = msbay.sample(model_name=p,n_draws=1000, n_chains=3)"
   ]
  },
  {
   "cell_type": "code",
   "execution_count": 430,
   "metadata": {},
   "outputs": [
    {
     "name": "stderr",
     "output_type": "stream",
     "text": [
      "Average Loss = 877.85: 100%|██████████| 10000/10000 [00:07<00:00, 1408.39it/s]\n",
      "Finished [100%]: Average Loss = 877.89\n",
      "No handles with labels found to put in legend.\n"
     ]
    }
   ],
   "source": [
    "trace = msbay.fit(model_name=p, n_draws=20000)"
   ]
  },
  {
   "cell_type": "code",
   "execution_count": 296,
   "metadata": {},
   "outputs": [
    {
     "name": "stdout",
     "output_type": "stream",
     "text": [
      "traces/B4DLN1;P52815\n"
     ]
    }
   ],
   "source": [
    "traces=[]\n",
    "with model:\n",
    "    trace_name = \"traces/{}\".format(p)\n",
    "    print(trace_name)\n",
    "    trace = pm.backends.text.load(trace_name)\n",
    "    traces.append(trace)"
   ]
  },
  {
   "cell_type": "code",
   "execution_count": 462,
   "metadata": {},
   "outputs": [
    {
     "data": {
      "text/plain": [
       "<matplotlib.axes._subplots.AxesSubplot at 0x7f0b82fdf7b8>"
      ]
     },
     "execution_count": 462,
     "metadata": {},
     "output_type": "execute_result"
    },
    {
     "data": {
      "image/png": "[encoded data removed]",
      "text/plain": [
       "<Figure size 432x288 with 1 Axes>"
      ]
     },
     "metadata": {},
     "output_type": "display_data"
    }
   ],
   "source": [
    "pm.plot_posterior(trace, varnames=[\"estimate\"], ref_val=np.log2(3), color='LightSeaGreen', rope=[-0.4, 0.4])"
   ]
  },
  {
   "cell_type": "code",
   "execution_count": 432,
   "metadata": {},
   "outputs": [
    {
     "data": {
      "text/plain": [
       "array([[<matplotlib.axes._subplots.AxesSubplot object at 0x7f0b8424cef0>,\n",
       "        <matplotlib.axes._subplots.AxesSubplot object at 0x7f0b841f4358>]],\n",
       "      dtype=object)"
      ]
     },
     "execution_count": 432,
     "metadata": {},
     "output_type": "execute_result"
    },
    {
     "data": {
      "image/png": "[encoded data removed]",
      "text/plain": [
       "<Figure size 864x144 with 2 Axes>"
      ]
     },
     "metadata": {},
     "output_type": "display_data"
    }
   ],
   "source": [
    "pm.traceplot(trace, varnames=[\"estimate\"])"
   ]
  },
  {
   "cell_type": "code",
   "execution_count": 455,
   "metadata": {},
   "outputs": [
    {
     "name": "stderr",
     "output_type": "stream",
     "text": [
      "100%|██████████| 500/500 [00:00<00:00, 1570.44it/s]\n"
     ]
    }
   ],
   "source": [
    "from pymc3 import sample_ppc\n",
    "with model:\n",
    "    sim = sample_ppc(trace, samples=500)[\"obs\"]"
   ]
  },
  {
   "cell_type": "code",
   "execution_count": 456,
   "metadata": {},
   "outputs": [],
   "source": [
    "sim=sim[:,0,:]"
   ]
  },
  {
   "cell_type": "code",
   "execution_count": 457,
   "metadata": {},
   "outputs": [
    {
     "data": {
      "text/plain": [
       "[(array([  5.,  13.,  55., 107., 138., 116.,  44.,  14.,   3.,   5.]),\n",
       "  array([-2.67789441, -2.02435192, -1.37080942, -0.71726693, -0.06372444,\n",
       "          0.58981805,  1.24336054,  1.89690303,  2.55044552,  3.20398801,\n",
       "          3.8575305 ]),\n",
       "  <a list of 10 Patch objects>),\n",
       " (array([  1.,   3.,  29.,  59., 110., 146., 100.,  36.,  13.,   3.]),\n",
       "  array([-3.13792089, -2.49660675, -1.85529261, -1.21397846, -0.57266432,\n",
       "          0.06864983,  0.70996397,  1.35127811,  1.99259226,  2.6339064 ,\n",
       "          3.27522054]),\n",
       "  <a list of 10 Patch objects>),\n",
       " (array([  1.,   4.,   9.,  63., 109., 156., 104.,  40.,  11.,   3.]),\n",
       "  array([-3.29645237, -2.62460449, -1.95275662, -1.28090875, -0.60906087,\n",
       "          0.062787  ,  0.73463487,  1.40648275,  2.07833062,  2.75017849,\n",
       "          3.42202637]),\n",
       "  <a list of 10 Patch objects>),\n",
       " (array([  5.,   9.,  37.,  77., 141., 122.,  63.,  32.,  12.,   2.]),\n",
       "  array([-2.67048253, -2.07585566, -1.48122879, -0.88660193, -0.29197506,\n",
       "          0.30265181,  0.89727868,  1.49190554,  2.08653241,  2.68115928,\n",
       "          3.27578615]),\n",
       "  <a list of 10 Patch objects>)]"
      ]
     },
     "execution_count": 457,
     "metadata": {},
     "output_type": "execute_result"
    },
    {
     "data": {
      "image/png": "[encoded data removed]",
      "text/plain": [
       "<Figure size 1080x360 with 4 Axes>"
      ]
     },
     "metadata": {},
     "output_type": "display_data"
    }
   ],
   "source": [
    "peps = list(map(lambda i: sim[:, (i*6):((i*6)+6)], range(n_peptides)))\n",
    "estimates = list(map(lambda x: np.mean(x[:,:3], axis=1) - np.mean(x[:,3:6], axis=1), peps))\n",
    "fig, ax = plt.subplots(1,n_peptides, figsize=(15,5))\n",
    "[ax[i].hist(e) for i, e in enumerate(estimates)]\n",
    "# [plt.hist(e, bins=30) for e in estimates]"
   ]
  },
  {
   "cell_type": "code",
   "execution_count": 461,
   "metadata": {},
   "outputs": [
    {
     "data": {
      "text/plain": [
       "Text(0,0.5,'PC2')"
      ]
     },
     "execution_count": 461,
     "metadata": {},
     "output_type": "execute_result"
    },
    {
     "data": {
      "image/png": "[encoded data removed]",
      "text/plain": [
       "<Figure size 432x288 with 1 Axes>"
      ]
     },
     "metadata": {},
     "output_type": "display_data"
    }
   ],
   "source": [
    "sim_transformed = pca.transform(np.vstack(peps))\n",
    "sim_transformed\n",
    "plt.scatter(sim_transformed[:,0], sim_transformed[:,1], label=\"Sim obs\")\n",
    "obs = data.loc[data.protein == p].iloc[:,2:]\n",
    "obs_transformed = pca.transform(obs)\n",
    "plt.scatter(obs_transformed[:,0], obs_transformed[:,1], c = \"red\", label=\"True obs\")\n",
    "plt.legend()\n",
    "plt.xlabel(\"PC1\")\n",
    "plt.ylabel(\"PC2\")"
   ]
  }
 ],
 "metadata": {
  "kernelspec": {
   "display_name": "Python (bayesian)",
   "language": "python",
   "name": "bayesian"
  },
  "language_info": {
   "codemirror_mode": {
    "name": "ipython",
    "version": 3
   },
   "file_extension": ".py",
   "mimetype": "text/x-python",
   "name": "python",
   "nbconvert_exporter": "python",
   "pygments_lexer": "ipython3",
   "version": "3.6.5"
  }
 },
 "nbformat": 4,
 "nbformat_minor": 2
}
