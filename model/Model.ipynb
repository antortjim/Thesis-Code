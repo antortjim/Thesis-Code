{
 "cells": [
  {
   "cell_type": "markdown",
   "metadata": {},
   "source": [
    "## This notebook builds a probabilistic model with Pymc3 to extend the MSqRob ridge regression model\n",
    "https://www.ncbi.nlm.nih.gov/pubmed/28391044\n",
    "$$\n",
    "y_{ijkl} = \\beta_{ij}^{treatment} + \\beta_{ik}^{peptide} + \\epsilon_{in}\n",
    "$$\n",
    "\n",
    "where $y$ stands for the $log_2$-transformed intensity of each peptide $k$ in run $l$ and condition $j$ that belong to protein $i$. $n$ is the $n^{th}$ peptide and $\\epsilon$ is an noise term following a normal distribution with $mu$ = 0 and sigma $\\sigma_i$ specific to the protein.\n",
    "Each $\\beta$ models a different effect on the final intensity measurement. The treatment effect \\beta^{treatment} can be regarded as an estimate of the $\\log_2$ protein quantity. Thus, \\beta_{ij}^{treatment A} - \\beta_{ij}^{treatment B} is an estimate of the $log_2$ fold change of protein $i$ between conditions A and B.\n",
    "\n",
    "Independent ridge regression models are built for all N peptides under protein $i$."
   ]
  },
  {
   "cell_type": "markdown",
   "metadata": {},
   "source": [
    "In this notebook, the fold change of the proteins detected in the MaxLFQ proteomebenchmark dataset: https://www.ebi.ac.uk/pride/archive/projects/PXD000279 is modeled in a similar way with a new extension.\n",
    "\n",
    "The peptides.txt file from MaxQuant was read in R and preprocessed with MSqRob preprocess_MaxQuant().\n",
    "\n",
    "Sequence features are extracted from each peptide to better capture the sequence variability inherent to each peptide.\n",
    "The sequence features were extracted using the protr package in R using extractAPAAC(), which yields a numeric vector of 32 features for each peptide, independent of length.\n",
    "Additionally to these 3 features, the number of missed cleavages of the peptide, and an integer encoding the neighboring residues of the peptide in the protein were added to the features, giving 35 features in total.\n",
    "\n",
    "The sequence features are used to model the peptide effect \\beta_{ik}^{peptide}.\n",
    "\n",
    "$$\n",
    "\\beta_{ik}^{peptide} = \\theta * features_{ik}\n",
    "$$\n",
    "\n",
    "which multiplies the intensities $y$ in the ridge regression model above, rendering a new model:\n",
    "\n",
    "$$\n",
    "y_{ijkln} = \\beta^{treatment}_{ij} \\beta_{ik}^{peptide} + \\epsilon_{in}\n",
    "$$\n"
   ]
  },
  {
   "cell_type": "code",
   "execution_count": 1,
   "metadata": {},
   "outputs": [
    {
     "name": "stderr",
     "output_type": "stream",
     "text": [
      "/home/antortjim/anaconda3/envs/bayesian/lib/python3.6/site-packages/h5py/__init__.py:36: FutureWarning: Conversion of the second argument of issubdtype from `float` to `np.floating` is deprecated. In future, it will be treated as `np.float64 == np.dtype(float).type`.\n",
      "  from ._conv import register_converters as _register_converters\n"
     ]
    }
   ],
   "source": [
    "import pymc3 as pm\n",
    "import theano"
   ]
  },
  {
   "cell_type": "code",
   "execution_count": 2,
   "metadata": {},
   "outputs": [],
   "source": [
    "import pandas as pd\n",
    "import os.path\n",
    "import glob\n",
    "import numpy as np\n",
    "import matplotlib.pyplot as plt\n",
    "from tqdm import tqdm\n",
    "np.random.seed(123)\n",
    "import seaborn as sns\n",
    "sns.set_style('whitegrid')"
   ]
  },
  {
   "cell_type": "code",
   "execution_count": 3,
   "metadata": {},
   "outputs": [],
   "source": [
    "# %load model_vectorized.py\n",
    "import pymc3 as pm\n",
    "from pymc3.variational.callbacks import CheckParametersConvergence\n",
    "import numpy as np\n",
    "import pandas as pd\n",
    "import matplotlib.pyplot as plt\n",
    "from tqdm import tqdm\n",
    "from theano import shared\n",
    "import shutil\n",
    "import os\n",
    "from exp_annot_funcs import *\n",
    "\n",
    "def protein_model(observed_shared, features_p_shared, x_treat_shared, x_pep_shared, x_run_shared, x_estimate_shared, n_peptides, model_name, n_draws=1000, n_chains=3, hierarchical_center=False, advi=True, remove_backend=True, sequence=False):\n",
    " \n",
    "\n",
    "    \"\"\"\n",
    "    Compiles a PYMC3 model to infer the log2FC for protein p\n",
    "    between two conditions with different treatments,\n",
    "    i.e the treatment effect\n",
    "\n",
    "    Keywords:\n",
    "\n",
    "        -proteins: a string list storing the protein name: ex O43663\n",
    "\n",
    "        -features: a DataFrame of size nxk where n is the number of peptides available\n",
    "            in the experiment and k the number of features extracted in a previous step\n",
    "        \n",
    "        -sequence: boolean controlling if the sequence features should be used\n",
    "            to model the variance across peptides of the same protein\n",
    "\n",
    "\n",
    "        -n_draws: integer. How many draws (sampling) should pymc3 take=?\n",
    "        -n_chains: integer. How many chains should be run in parallel?\n",
    "\n",
    "        \n",
    "   \n",
    "    The algorithm models the protein quantities with 2 linear regressions:\n",
    "\n",
    "      The main GLM is used to predict the quant_value from MS1 based on:\n",
    "          treat: the effect of the treatment\n",
    "          pep: the effect of the peptide (batch/sequence effect) \n",
    "      Other effects may be added, such as fraction\n",
    " \n",
    "      The secondary GLM is built to model pep as a function of features\n",
    "      extracted from either the peptide or the peptide in combination\n",
    "      with its surroundings in the protein environment.\n",
    "      The environment is defined as the 15 residue window on each side\n",
    "       \n",
    "      The sequence featues passed should be those listed\n",
    "      in table 3 from https://www.ncbi.nlm.nih.gov/pubmed/16873510\n",
    "      Table 3 shows the features that best performed while\n",
    "      predicting the peptide observability\n",
    "      \n",
    "    This function returns a tuple with the trace, the model itself,\n",
    "    and 2 qc objects\n",
    "                \n",
    "   \n",
    "    \"\"\"\n",
    "\n",
    "    if not os.path.isdir(\"traces\") or not os.path.isdir(\"plots/traceplots\"):\n",
    "        raise Exception(\"Please create a traces dir and a plots/traceplots dir before running this code\")\n",
    "\n",
    "\n",
    "    trace_name = 'traces/{}'.format(model_name)\n",
    "    traceplot = \"plots/traceplots/{}.png\".format(model_name)\n",
    "\n",
    "    if remove_backend and os.path.isdir(model_name):\n",
    "        shutil.rmtree(model_name)\n",
    "\n",
    "    # Get the data for the current protein being analyzed\n",
    "    n_features = 9\n",
    "    n_proteins = 1\n",
    "    \n",
    "\n",
    "\n",
    "\n",
    "    with pm.Model() as model:\n",
    "            \n",
    "        intercept = pm.Normal(\"intercept\", 22, 1)\n",
    "        \n",
    "        # sigma will be some random error protein specific variance\n",
    "        sigma = pm.HalfNormal('sigma', 1)\n",
    "        sigma_pep = pm.HalfNormal('sigma_pep', 1)\n",
    "\n",
    "        if not sequence:\n",
    "            mu_pep = pm.Normal('mu_pep', mu=0, sd=sigma_pep, shape=(n_peptides, 1))\n",
    "        else: \n",
    "            # sequence based modelling\n",
    "            mu_theta = pm.Normal('theta_generic', 0, sigma_pep, shape = 1)\n",
    "            theta = pm.Normal('theta', mu_theta, sigma_pep, shape = (n_features, 1))    # 9x1\n",
    "            theta_intercept = pm.Normal('theta_intercept', mu_theta, sigma_pep, shape = 1)\n",
    "            mu_pep = pm.Deterministic(\"mu_pep\", theta_intercept + features_p_shared.dot(theta)) # n_peptidesx1\n",
    "\n",
    "        sigma_treat = pm.HalfNormal('sigma_treat', 1)\n",
    "        mu_treat = pm.Normal('mu_treat', 0, sigma_treat)\n",
    "        sigma_run = pm.HalfNormal('sigma_run', 1)\n",
    "        mu_run = pm.Normal('mu_run', 0, sigma_run)\n",
    "\n",
    "        if hierarchical_center:\n",
    "            pep = pm.Normal(\"pep\", mu_pep, sigma_pep) # n_peptidesx1\n",
    "            treat = pm.Normal('treat', mu_treat, sigma_treat, shape = (n_proteins*2, 1))\n",
    "            run = pm.Normal('run', mu_run, sigma_run, shape = (n_proteins*6, 1))\n",
    "        else:\n",
    "            pep_offset = pm.Normal(\"pep_offset\", mu=0, sd=1, shape = (n_peptides, 1))\n",
    "            pep = pm.Deterministic(\"pep\", mu_pep + pep_offset * sigma_pep)\n",
    "            treat_offset = pm.Normal(\"treat_offset\", mu=0, sd=1, shape=(n_proteins*2, 1))\n",
    "            treat = pm.Deterministic(\"treat\", mu_treat + treat_offset*sigma_treat)\n",
    "            run_offset = pm.Normal(\"run_offset\", mu=0, sd=1, shape=(n_proteins*6, 1))\n",
    "            run = pm.Deterministic(\"run\", mu_run + run_offset*sigma_run)\n",
    "\n",
    "\n",
    "        # When there is only one protein, thi equals to treat[0] - treat[1]\n",
    "        estimate = pm.Deterministic('estimate', pm.math.sum(x_estimate_shared.dot(treat), axis=1))\n",
    "        treatment_effect = pm.Deterministic(\"treatment_effect\", pm.math.sum(x_treat_shared.dot(treat), axis=1))\n",
    "        peptide_effect = pm.Deterministic(\"peptide_effect\", pm.math.sum(x_pep_shared.dot(pep), axis=1))\n",
    "        run_effect = pm.Deterministic(\"run_effect\", pm.math.sum(x_run_shared.dot(run), axis=1))\n",
    "\n",
    "        # Likelihood function for the data.\n",
    "        mu = pm.Deterministic(\"mu\", intercept + treatment_effect + peptide_effect + run_effect) #n_peptides*6x1\n",
    "        if hierarchical_center:\n",
    "            obs = pm.Normal(\"obs\", mu, sigma, observed=observed_shared)\n",
    "        else:\n",
    "            obs_offset = pm.Normal(\"obs_offset\", mu=0, sd=1, shape=(n_peptides*6,1))\n",
    "            obs = pm.Normal(\"obs\", mu+obs_offset*sigma, sigma, observed=observed_shared)\n",
    "\n",
    "\n",
    "    print(\"Success: Model {} compiled\".format(model_name))\n",
    "\n",
    "    with model:\n",
    "        # Parameters of the simulation:\n",
    "        # Number of iterations and independent chains.\n",
    "        n_sim = n_draws*n_chains\n",
    "\n",
    "        # Save traces to the Text backend i.e a folder called model_name containing csv files for each chain\n",
    "        db = pm.backends.Text(trace_name)\n",
    "        if not advi:\n",
    "            trace = pm.sample(draws=n_draws, njobs=n_chains, trace=db, tune=2000, nuts_kwargs=dict(target_accept=.95))\n",
    "#        else:\n",
    "#            inference = pm.ADVI()\n",
    "#            approx = pm.fit(n=30000, method=inference, callbacks=[pm.callbacks.CheckParametersConvergence(diff='absolute')])\n",
    "#            trace = approx.sample(draws=n_draws)\n",
    "#            plt.plot(-inference.hist, label='ADVI', alpha=.3)\n",
    "#            plt.legend()\n",
    "#            plt.ylabel('ELBO')\n",
    "#            plt.xlabel('iteration');\n",
    "#            plt.savefig(\"elbos/ELBO_{}.png\".format(model_name))\n",
    "#    \n",
    "    pm.traceplot(trace, varnames=[\"estimate\"])\n",
    "    plt.savefig(traceplot)\n",
    "    plt.close()\n",
    "       \n",
    "    return model\n"
   ]
  },
  {
   "cell_type": "code",
   "execution_count": 4,
   "metadata": {},
   "outputs": [],
   "source": [
    "# %load exp_annot_funcs.py\n",
    "import numpy as np\n",
    "import pandas as pd\n",
    "from tqdm import tqdm\n",
    "\n",
    "def create_x_pep(data):\n",
    "\n",
    "    observed=data.values[:,2:].flatten().astype(float)\n",
    "    x_pep = np.zeros((len(observed), data.shape[0]))\n",
    "    k=0\n",
    "    for i in range(x_pep.shape[1]):\n",
    "        x_pep[(0+k):(6+k),i] = 1\n",
    "        k+=6\n",
    "\n",
    "\n",
    "    print(\"Shape of x_pep is {}, {}\".format(*x_pep.shape))\n",
    "    return x_pep\n",
    "\n",
    "def create_x_treat(data, n_proteins):\n",
    "    observed=data.values[:,2:].flatten().astype(float)\n",
    "    x_treat = np.zeros((len(observed), n_proteins * 2))\n",
    "    \n",
    "    proteins_column = data[\"protein\"].values.tolist()\n",
    "    last_protein = proteins_column[0]\n",
    "    colIndex=0\n",
    "    rowIndex=0\n",
    "    acum = 0\n",
    "    for i, p in tqdm(enumerate(proteins_column)):\n",
    "        if p != last_protein:\n",
    "            colIndex += 2\n",
    "            last_protein=p\n",
    "            acum += 1\n",
    "        x_treat[(0+rowIndex):(3+rowIndex),colIndex] = 1\n",
    "        x_treat[(3+rowIndex):(6+rowIndex),colIndex+1] = 1\n",
    "    \n",
    "        rowIndex += 6\n",
    "\n",
    "    print(\"Shape of x_treat is {}, {}\".format(*x_treat.shape))\n",
    "    return x_treat\n",
    "\n",
    "def create_x_run(data):\n",
    "    observed=data.values[:,2:].flatten().astype(float)\n",
    "    n_proteins = len(np.unique(data.protein))\n",
    "    n_runs = 6\n",
    "    x_run = np.zeros((len(observed),n_proteins*n_runs))\n",
    "\n",
    "    last_protein = data.protein.values.tolist()[0]\n",
    "    colIndex = 0\n",
    "    rowIndex = 0\n",
    "    acum = 0\n",
    "    for p in data[\"protein\"].values.tolist():\n",
    "        if p != last_protein:\n",
    "            colIndex += n_runs\n",
    "            last_protein=p\n",
    "            acum += 1\n",
    "\n",
    "        for offset in range(n_runs):\n",
    "            x_run[(rowIndex+offset), (colIndex+offset)]=1\n",
    "        \n",
    "        rowIndex += n_runs\n",
    "\n",
    "    return x_run\n",
    "\n",
    "         \n",
    "def create_x_estimate(n_proteins):\n",
    "    x_estimate = np.zeros((n_proteins, n_proteins*2))\n",
    "    i=0\n",
    "    j = 0\n",
    "    for i in range(x_estimate.shape[0]):\n",
    "        x_estimate[i,j]=1\n",
    "        j+=1 \n",
    "        x_estimate[i,j]=-1\n",
    "        j+=1\n",
    "\n",
    "    print(\"Shape of x_estimate is {}, {}\".format(*x_estimate.shape))\n",
    "    return x_estimate\n",
    "    \n",
    "\n",
    "def create_variables(data, features, proteins):\n",
    "    data_p=data.loc[data.protein.isin(proteins),:]\n",
    "    indices = data_p.index\n",
    "    features_p = features.iloc[indices,:].values\n",
    "\n",
    "    n_peptides = len(indices)\n",
    "    n_proteins = len(proteins)\n",
    "    n_features = features_p.shape[1]\n",
    "\n",
    "    observed=data_p.values[:,2:].flatten().astype(float)\n",
    "    #log2fc = np.array([0,0,0, log2fc, log2fc, log2fc,]*n_peptides)\n",
    "    x_treat = create_x_treat(data_p, n_proteins)\n",
    "    x_pep = create_x_pep(data_p)\n",
    "    x_run = create_x_run(data_p)\n",
    "    x_estimate = create_x_estimate(n_proteins)\n",
    "\n",
    "    return (observed, features_p, x_treat, x_pep, x_run, x_estimate)\n",
    "\n",
    "def load_stats(data, features, proteins):\n",
    "    data_p=data.loc[data.protein.isin(proteins),:]\n",
    "    \n",
    "    observed=data_p.values[:,2:]\n",
    "    mean_intercept = np.mean(observed[:,:3].flatten())\n",
    "    observed=observed.flatten().astype(float)\n",
    "    observed = np.expand_dims(observed, axis=0)\n",
    "\n",
    "    indices = data_p.index\n",
    "    features_p = features.iloc[indices,:].values\n",
    "    n_peptides = len(indices)\n",
    "    n_proteins = len(proteins)\n",
    "    n_features = features_p.shape[1]\n",
    "\n",
    "\n",
    "    return (n_peptides, n_proteins, n_features, mean_intercept)\n",
    "\n"
   ]
  },
  {
   "cell_type": "code",
   "execution_count": 5,
   "metadata": {},
   "outputs": [
    {
     "data": {
      "text/html": [
       "<div>\n",
       "<style scoped>\n",
       "    .dataframe tbody tr th:only-of-type {\n",
       "        vertical-align: middle;\n",
       "    }\n",
       "\n",
       "    .dataframe tbody tr th {\n",
       "        vertical-align: top;\n",
       "    }\n",
       "\n",
       "    .dataframe thead th {\n",
       "        text-align: right;\n",
       "    }\n",
       "</style>\n",
       "<table border=\"1\" class=\"dataframe\">\n",
       "  <thead>\n",
       "    <tr style=\"text-align: right;\">\n",
       "      <th></th>\n",
       "      <th>protein</th>\n",
       "      <th>taxon</th>\n",
       "      <th>H1</th>\n",
       "      <th>H2</th>\n",
       "      <th>H3</th>\n",
       "      <th>L1</th>\n",
       "      <th>L2</th>\n",
       "      <th>L3</th>\n",
       "    </tr>\n",
       "  </thead>\n",
       "  <tbody>\n",
       "    <tr>\n",
       "      <th>0</th>\n",
       "      <td>P37108</td>\n",
       "      <td>Homo sapiens</td>\n",
       "      <td>28.181535</td>\n",
       "      <td>28.006834</td>\n",
       "      <td>28.006941</td>\n",
       "      <td>27.133594</td>\n",
       "      <td>27.969390</td>\n",
       "      <td>27.869266</td>\n",
       "    </tr>\n",
       "    <tr>\n",
       "      <th>1</th>\n",
       "      <td>Q96P70</td>\n",
       "      <td>Homo sapiens</td>\n",
       "      <td>26.121057</td>\n",
       "      <td>25.893423</td>\n",
       "      <td>26.436157</td>\n",
       "      <td>25.421240</td>\n",
       "      <td>25.719706</td>\n",
       "      <td>25.811642</td>\n",
       "    </tr>\n",
       "    <tr>\n",
       "      <th>2</th>\n",
       "      <td>Q9Y2U8</td>\n",
       "      <td>Homo sapiens</td>\n",
       "      <td>22.398509</td>\n",
       "      <td>23.542741</td>\n",
       "      <td>24.042266</td>\n",
       "      <td>25.124118</td>\n",
       "      <td>25.285598</td>\n",
       "      <td>25.008512</td>\n",
       "    </tr>\n",
       "    <tr>\n",
       "      <th>3</th>\n",
       "      <td>Q9BTD8-4;Q9BTD8-2;Q9BTD8-3;Q9BTD8</td>\n",
       "      <td>Homo sapiens</td>\n",
       "      <td>23.337153</td>\n",
       "      <td>22.611060</td>\n",
       "      <td>23.675084</td>\n",
       "      <td>19.519606</td>\n",
       "      <td>23.237510</td>\n",
       "      <td>22.601230</td>\n",
       "    </tr>\n",
       "    <tr>\n",
       "      <th>4</th>\n",
       "      <td>Q9P258</td>\n",
       "      <td>Homo sapiens</td>\n",
       "      <td>22.545124</td>\n",
       "      <td>20.359925</td>\n",
       "      <td>22.185649</td>\n",
       "      <td>21.836265</td>\n",
       "      <td>22.880450</td>\n",
       "      <td>21.577547</td>\n",
       "    </tr>\n",
       "  </tbody>\n",
       "</table>\n",
       "</div>"
      ],
      "text/plain": [
       "                             protein         taxon         H1         H2  \\\n",
       "0                             P37108  Homo sapiens  28.181535  28.006834   \n",
       "1                             Q96P70  Homo sapiens  26.121057  25.893423   \n",
       "2                             Q9Y2U8  Homo sapiens  22.398509  23.542741   \n",
       "3  Q9BTD8-4;Q9BTD8-2;Q9BTD8-3;Q9BTD8  Homo sapiens  23.337153  22.611060   \n",
       "4                             Q9P258  Homo sapiens  22.545124  20.359925   \n",
       "\n",
       "          H3         L1         L2         L3  \n",
       "0  28.006941  27.133594  27.969390  27.869266  \n",
       "1  26.436157  25.421240  25.719706  25.811642  \n",
       "2  24.042266  25.124118  25.285598  25.008512  \n",
       "3  23.675084  19.519606  23.237510  22.601230  \n",
       "4  22.185649  21.836265  22.880450  21.577547  "
      ]
     },
     "execution_count": 5,
     "metadata": {},
     "output_type": "execute_result"
    }
   ],
   "source": [
    "data = pd.read_csv(\"data/data.tsv\", sep = \"\\t\")\n",
    "data['H1'] = data['H1'].astype(theano.config.floatX)\n",
    "data['H2'] = data['H2'].astype(theano.config.floatX)\n",
    "data['H3'] = data['H3'].astype(theano.config.floatX)\n",
    "data['L1'] = data['L1'].astype(theano.config.floatX)\n",
    "data['L2'] = data['L2'].astype(theano.config.floatX)\n",
    "data['L3'] = data['L3'].astype(theano.config.floatX)\n",
    "data.head()"
   ]
  },
  {
   "cell_type": "code",
   "execution_count": 6,
   "metadata": {},
   "outputs": [
    {
     "data": {
      "image/png": "[encoded data removed]",
      "text/plain": [
       "<Figure size 432x288 with 1 Axes>"
      ]
     },
     "metadata": {},
     "output_type": "display_data"
    }
   ],
   "source": [
    "x=np.mean(data[[\"H1\",\"H2\",\"H3\"]].values, axis=1)\n",
    "y=np.mean(data[[\"L1\",\"L2\",\"L3\"]].values, axis=1)\n",
    "colors=[\"red\", \"blue\"]\n",
    "for i, taxon in enumerate([\"Escherichia coli (strain K12)\", \"Homo sapiens\"]):\n",
    "    plt.scatter(x=x[data.taxon == taxon],y=y[data.taxon == taxon], c=colors[i],label=taxon, alpha=0.5)\n",
    "def abline(slope, intercept):\n",
    "    \"\"\"Plot a line from slope and intercept\"\"\"\n",
    "    axes = plt.gca()\n",
    "    x_vals = np.array(axes.get_xlim())\n",
    "    y_vals = intercept + slope * x_vals\n",
    "    plt.plot(x_vals, y_vals, '--',color=\"green\")\n",
    "abline(1,0)\n",
    "plt.legend()\n",
    "plt.show()\n"
   ]
  },
  {
   "cell_type": "code",
   "execution_count": 7,
   "metadata": {},
   "outputs": [],
   "source": [
    "mean_data = pd.DataFrame({\"H\":x,\"L\":y, \"taxon\":data.taxon})"
   ]
  },
  {
   "cell_type": "code",
   "execution_count": 8,
   "metadata": {},
   "outputs": [
    {
     "data": {
      "image/png": "[encoded data removed]",
      "text/plain": [
       "<Figure size 880.625x360 with 2 Axes>"
      ]
     },
     "metadata": {},
     "output_type": "display_data"
    }
   ],
   "source": [
    "myPlot = sns.FacetGrid(col=\"taxon\", hue='taxon', data=mean_data, size=5)\n",
    "myPlot = myPlot.map(plt.scatter, \"H\", \"L\").set(xlim=(15,35) , ylim=(10,35))\n",
    "myPlot = myPlot.map_dataframe(plt.plot, [15,35], [15,35], 'r-').add_legend().set_axis_labels(\"H\", \"L\")\n",
    "plt.show()"
   ]
  },
  {
   "cell_type": "code",
   "execution_count": 9,
   "metadata": {},
   "outputs": [
    {
     "name": "stdout",
     "output_type": "stream",
     "text": [
      "0.6005208785523234\n",
      "1.6266920285619832\n"
     ]
    }
   ],
   "source": [
    "from numpy.linalg import norm\n",
    "p1 = np.array([0,0])\n",
    "p2 = np.array([1,1])\n",
    "indices = [data.taxon == \"Homo sapiens\", data.taxon != \"Homo sapiens\"]\n",
    "hsapiens_d, ecoli_d =np.array([[norm(np.cross(p2-p1, p1-p3))/norm(p2-p1) for p3 in zip(x[idx],y[idx])] for idx in indices])\n",
    "print(np.mean(hsapiens_d))\n",
    "print(np.mean(ecoli_d))\n",
    "\n"
   ]
  },
  {
   "cell_type": "code",
   "execution_count": 10,
   "metadata": {},
   "outputs": [
    {
     "name": "stdout",
     "output_type": "stream",
     "text": [
      "Number of sequence features 9\n",
      "Number of proteins 2850\n",
      "Number of peptides 17107\n",
      "This is the first row of the features array:\n",
      "(17107, 9)\n",
      "   aromaticity  composition_G  composition_K  composition_V  flexibility  \\\n",
      "0    -0.992459            1.0            0.0            0.0     1.648868   \n",
      "\n",
      "   instability    length  mass_len_ratio        hm  \n",
      "0       1.8288  1.286819       -2.053132 -1.516532  \n"
     ]
    },
    {
     "data": {
      "text/html": [
       "<div>\n",
       "<style scoped>\n",
       "    .dataframe tbody tr th:only-of-type {\n",
       "        vertical-align: middle;\n",
       "    }\n",
       "\n",
       "    .dataframe tbody tr th {\n",
       "        vertical-align: top;\n",
       "    }\n",
       "\n",
       "    .dataframe thead th {\n",
       "        text-align: right;\n",
       "    }\n",
       "</style>\n",
       "<table border=\"1\" class=\"dataframe\">\n",
       "  <thead>\n",
       "    <tr style=\"text-align: right;\">\n",
       "      <th></th>\n",
       "      <th>aromaticity</th>\n",
       "      <th>composition_G</th>\n",
       "      <th>composition_K</th>\n",
       "      <th>composition_V</th>\n",
       "      <th>flexibility</th>\n",
       "      <th>instability</th>\n",
       "      <th>length</th>\n",
       "      <th>mass_len_ratio</th>\n",
       "      <th>hm</th>\n",
       "    </tr>\n",
       "  </thead>\n",
       "  <tbody>\n",
       "    <tr>\n",
       "      <th>0</th>\n",
       "      <td>-0.992459</td>\n",
       "      <td>1.0</td>\n",
       "      <td>0.0</td>\n",
       "      <td>0.0</td>\n",
       "      <td>1.648868</td>\n",
       "      <td>1.828800</td>\n",
       "      <td>1.286819</td>\n",
       "      <td>-2.053132</td>\n",
       "      <td>-1.516532</td>\n",
       "    </tr>\n",
       "    <tr>\n",
       "      <th>1</th>\n",
       "      <td>0.841374</td>\n",
       "      <td>1.0</td>\n",
       "      <td>1.0</td>\n",
       "      <td>0.0</td>\n",
       "      <td>-0.248549</td>\n",
       "      <td>-0.573767</td>\n",
       "      <td>-0.074351</td>\n",
       "      <td>-0.396156</td>\n",
       "      <td>-0.513330</td>\n",
       "    </tr>\n",
       "    <tr>\n",
       "      <th>2</th>\n",
       "      <td>-0.992459</td>\n",
       "      <td>1.0</td>\n",
       "      <td>0.0</td>\n",
       "      <td>0.0</td>\n",
       "      <td>0.804389</td>\n",
       "      <td>1.928472</td>\n",
       "      <td>-0.852162</td>\n",
       "      <td>1.468934</td>\n",
       "      <td>2.343718</td>\n",
       "    </tr>\n",
       "    <tr>\n",
       "      <th>3</th>\n",
       "      <td>-0.992459</td>\n",
       "      <td>1.0</td>\n",
       "      <td>1.0</td>\n",
       "      <td>1.0</td>\n",
       "      <td>-0.957520</td>\n",
       "      <td>0.058742</td>\n",
       "      <td>-0.657709</td>\n",
       "      <td>-1.121271</td>\n",
       "      <td>0.094526</td>\n",
       "    </tr>\n",
       "    <tr>\n",
       "      <th>4</th>\n",
       "      <td>-0.992459</td>\n",
       "      <td>1.0</td>\n",
       "      <td>1.0</td>\n",
       "      <td>1.0</td>\n",
       "      <td>-0.172332</td>\n",
       "      <td>-0.188579</td>\n",
       "      <td>0.120102</td>\n",
       "      <td>-1.097936</td>\n",
       "      <td>-1.934398</td>\n",
       "    </tr>\n",
       "  </tbody>\n",
       "</table>\n",
       "</div>"
      ],
      "text/plain": [
       "   aromaticity  composition_G  composition_K  composition_V  flexibility  \\\n",
       "0    -0.992459            1.0            0.0            0.0     1.648868   \n",
       "1     0.841374            1.0            1.0            0.0    -0.248549   \n",
       "2    -0.992459            1.0            0.0            0.0     0.804389   \n",
       "3    -0.992459            1.0            1.0            1.0    -0.957520   \n",
       "4    -0.992459            1.0            1.0            1.0    -0.172332   \n",
       "\n",
       "   instability    length  mass_len_ratio        hm  \n",
       "0     1.828800  1.286819       -2.053132 -1.516532  \n",
       "1    -0.573767 -0.074351       -0.396156 -0.513330  \n",
       "2     1.928472 -0.852162        1.468934  2.343718  \n",
       "3     0.058742 -0.657709       -1.121271  0.094526  \n",
       "4    -0.188579  0.120102       -1.097936 -1.934398  "
      ]
     },
     "execution_count": 10,
     "metadata": {},
     "output_type": "execute_result"
    }
   ],
   "source": [
    "features = pd.read_csv(\"data/advanced_features.tsv\", sep = \"\\t\").iloc[:,1:]\n",
    "features=features.iloc[data.index,:]\n",
    "n_seq_feat = features.shape[1]\n",
    "print(\"Number of sequence features {}\".format(n_seq_feat))\n",
    "n_prots = len(np.unique(data.protein))\n",
    "print(\"Number of proteins {}\".format(n_prots))\n",
    "n_peptides = data.shape[0]\n",
    "print(\"Number of peptides {}\".format(n_peptides))\n",
    "print(\"This is the first row of the features array:\")\n",
    "print(features.shape)\n",
    "print(features.iloc[:1,:])\n",
    "features.head()"
   ]
  },
  {
   "cell_type": "markdown",
   "metadata": {},
   "source": [
    "### Every protein has at least two peptides"
   ]
  },
  {
   "cell_type": "code",
   "execution_count": 11,
   "metadata": {},
   "outputs": [
    {
     "data": {
      "text/html": [
       "<div>\n",
       "<style scoped>\n",
       "    .dataframe tbody tr th:only-of-type {\n",
       "        vertical-align: middle;\n",
       "    }\n",
       "\n",
       "    .dataframe tbody tr th {\n",
       "        vertical-align: top;\n",
       "    }\n",
       "\n",
       "    .dataframe thead th {\n",
       "        text-align: right;\n",
       "    }\n",
       "</style>\n",
       "<table border=\"1\" class=\"dataframe\">\n",
       "  <thead>\n",
       "    <tr style=\"text-align: right;\">\n",
       "      <th></th>\n",
       "      <th>n_peptides</th>\n",
       "      <th>n_prots</th>\n",
       "    </tr>\n",
       "  </thead>\n",
       "  <tbody>\n",
       "    <tr>\n",
       "      <th>0</th>\n",
       "      <td>2</td>\n",
       "      <td>874</td>\n",
       "    </tr>\n",
       "    <tr>\n",
       "      <th>1</th>\n",
       "      <td>3</td>\n",
       "      <td>498</td>\n",
       "    </tr>\n",
       "    <tr>\n",
       "      <th>2</th>\n",
       "      <td>4</td>\n",
       "      <td>311</td>\n",
       "    </tr>\n",
       "    <tr>\n",
       "      <th>3</th>\n",
       "      <td>5</td>\n",
       "      <td>205</td>\n",
       "    </tr>\n",
       "    <tr>\n",
       "      <th>4</th>\n",
       "      <td>6</td>\n",
       "      <td>155</td>\n",
       "    </tr>\n",
       "    <tr>\n",
       "      <th>5</th>\n",
       "      <td>7</td>\n",
       "      <td>133</td>\n",
       "    </tr>\n",
       "    <tr>\n",
       "      <th>6</th>\n",
       "      <td>8</td>\n",
       "      <td>109</td>\n",
       "    </tr>\n",
       "    <tr>\n",
       "      <th>7</th>\n",
       "      <td>9</td>\n",
       "      <td>96</td>\n",
       "    </tr>\n",
       "    <tr>\n",
       "      <th>8</th>\n",
       "      <td>10</td>\n",
       "      <td>65</td>\n",
       "    </tr>\n",
       "    <tr>\n",
       "      <th>9</th>\n",
       "      <td>11</td>\n",
       "      <td>61</td>\n",
       "    </tr>\n",
       "  </tbody>\n",
       "</table>\n",
       "</div>"
      ],
      "text/plain": [
       "   n_peptides  n_prots\n",
       "0           2      874\n",
       "1           3      498\n",
       "2           4      311\n",
       "3           5      205\n",
       "4           6      155\n",
       "5           7      133\n",
       "6           8      109\n",
       "7           9       96\n",
       "8          10       65\n",
       "9          11       61"
      ]
     },
     "execution_count": 11,
     "metadata": {},
     "output_type": "execute_result"
    }
   ],
   "source": [
    "counts = np.unique(np.unique(data.protein, return_counts=True)[1], return_counts=True)\n",
    "pd.DataFrame(np.array([counts[0], counts[1]]).T, columns = [\"n_peptides\", \"n_prots\"]).head(10)"
   ]
  },
  {
   "cell_type": "code",
   "execution_count": 12,
   "metadata": {},
   "outputs": [],
   "source": [
    "n=10\n",
    "proteins, counts = np.unique(data.protein, return_counts=True)\n",
    "proteins = np.random.choice(proteins[counts == 2], size=n)"
   ]
  },
  {
   "cell_type": "code",
   "execution_count": 13,
   "metadata": {},
   "outputs": [
    {
     "name": "stderr",
     "output_type": "stream",
     "text": [
      "2it [00:00, 3586.41it/s]"
     ]
    },
    {
     "name": "stdout",
     "output_type": "stream",
     "text": [
      "Shape of x_treat is 12, 2\n",
      "Shape of x_pep is 12, 2\n",
      "Shape of x_estimate is 1, 2\n",
      "['P76397' 'P31808' 'P37665' 'P23173' 'O75489' 'Q9BSH4'\n",
      " 'D6RAN8;H7C5U8;Q9P0M9' 'Q32P41' 'O76021;B4DJ58' 'P01891']\n"
     ]
    },
    {
     "name": "stderr",
     "output_type": "stream",
     "text": [
      "\n"
     ]
    }
   ],
   "source": [
    "# trace, model, _, _ = protein_model(data_dict, protein, features, proteins_dict)\n",
    "n_draws=5000\n",
    "n_chains=3\n",
    "i=0\n",
    "variables = create_variables(data=data, features=features, proteins=[proteins[i]])\n",
    "observed_shared, features_p_shared, x_treat_shared, x_pep_shared, x_run_shared, x_estimate_shared = map(shared, variables)\n",
    "# stats = load_stats(data, features, [proteins[0]])\n",
    "model_name = proteins[i]\n",
    "print(proteins)\n"
   ]
  },
  {
   "cell_type": "code",
   "execution_count": 14,
   "metadata": {},
   "outputs": [
    {
     "data": {
      "text/plain": [
       "array([20.32893345, 22.03550256, 22.50864688, 21.25580313, 20.89511668,\n",
       "       20.47486647, 22.65197838, 23.23476482, 22.07349177, 19.77885999,\n",
       "       20.00662193, 20.02796537])"
      ]
     },
     "execution_count": 14,
     "metadata": {},
     "output_type": "execute_result"
    }
   ],
   "source": [
    "variables[i]"
   ]
  },
  {
   "cell_type": "code",
   "execution_count": 15,
   "metadata": {},
   "outputs": [
    {
     "data": {
      "text/html": [
       "<div>\n",
       "<style scoped>\n",
       "    .dataframe tbody tr th:only-of-type {\n",
       "        vertical-align: middle;\n",
       "    }\n",
       "\n",
       "    .dataframe tbody tr th {\n",
       "        vertical-align: top;\n",
       "    }\n",
       "\n",
       "    .dataframe thead th {\n",
       "        text-align: right;\n",
       "    }\n",
       "</style>\n",
       "<table border=\"1\" class=\"dataframe\">\n",
       "  <thead>\n",
       "    <tr style=\"text-align: right;\">\n",
       "      <th></th>\n",
       "      <th>protein</th>\n",
       "      <th>taxon</th>\n",
       "      <th>H1</th>\n",
       "      <th>H2</th>\n",
       "      <th>H3</th>\n",
       "      <th>L1</th>\n",
       "      <th>L2</th>\n",
       "      <th>L3</th>\n",
       "    </tr>\n",
       "  </thead>\n",
       "  <tbody>\n",
       "    <tr>\n",
       "      <th>5749</th>\n",
       "      <td>P76397</td>\n",
       "      <td>Escherichia coli (strain K12)</td>\n",
       "      <td>20.328933</td>\n",
       "      <td>22.035503</td>\n",
       "      <td>22.508647</td>\n",
       "      <td>21.255803</td>\n",
       "      <td>20.895117</td>\n",
       "      <td>20.474866</td>\n",
       "    </tr>\n",
       "    <tr>\n",
       "      <th>16819</th>\n",
       "      <td>P76397</td>\n",
       "      <td>Escherichia coli (strain K12)</td>\n",
       "      <td>22.651978</td>\n",
       "      <td>23.234765</td>\n",
       "      <td>22.073492</td>\n",
       "      <td>19.778860</td>\n",
       "      <td>20.006622</td>\n",
       "      <td>20.027965</td>\n",
       "    </tr>\n",
       "  </tbody>\n",
       "</table>\n",
       "</div>"
      ],
      "text/plain": [
       "      protein                          taxon         H1         H2         H3  \\\n",
       "5749   P76397  Escherichia coli (strain K12)  20.328933  22.035503  22.508647   \n",
       "16819  P76397  Escherichia coli (strain K12)  22.651978  23.234765  22.073492   \n",
       "\n",
       "              L1         L2         L3  \n",
       "5749   21.255803  20.895117  20.474866  \n",
       "16819  19.778860  20.006622  20.027965  "
      ]
     },
     "execution_count": 15,
     "metadata": {},
     "output_type": "execute_result"
    }
   ],
   "source": [
    "data.loc[data.protein.isin(proteins),:]"
   ]
  },
  {
   "cell_type": "code",
   "execution_count": 16,
   "metadata": {},
   "outputs": [
    {
     "data": {
      "text/plain": [
       "<function __main__.protein_model(observed_shared, features_p_shared, x_treat_shared, x_pep_shared, x_run_shared, x_estimate_shared, n_peptides, model_name, n_draws=1000, n_chains=3, hierarchical_center=False, advi=True, remove_backend=True, sequence=False)>"
      ]
     },
     "execution_count": 16,
     "metadata": {},
     "output_type": "execute_result"
    }
   ],
   "source": [
    "protein_model"
   ]
  },
  {
   "cell_type": "code",
   "execution_count": null,
   "metadata": {},
   "outputs": [
    {
     "name": "stdout",
     "output_type": "stream",
     "text": [
      "Success: Model P76397 compiled\n"
     ]
    },
    {
     "name": "stderr",
     "output_type": "stream",
     "text": [
      "Auto-assigning NUTS sampler...\n",
      "Initializing NUTS using jitter+adapt_diag...\n",
      "/home/antortjim/anaconda3/envs/bayesian/lib/python3.6/site-packages/pymc3/model.py:384: FutureWarning: Conversion of the second argument of issubdtype from `float` to `np.floating` is deprecated. In future, it will be treated as `np.float64 == np.dtype(float).type`.\n",
      "  if not np.issubdtype(var.dtype, float):\n",
      "Multiprocess sampling (3 chains in 3 jobs)\n",
      "NUTS: [obs_offset, run_offset, treat_offset, pep_offset, mu_run, sigma_run_log__, mu_treat, sigma_treat_log__, mu_pep, sigma_pep_log__, sigma_log__, intercept]\n",
      " 32%|███▎      | 2275/7000 [01:33<03:13, 24.45it/s]"
     ]
    }
   ],
   "source": [
    "model=protein_model(observed_shared, features_p_shared, x_treat_shared, x_pep_shared, x_run_shared, x_estimate_shared, n_peptides=2,\n",
    "                                 model_name=model_name, n_draws=n_draws, n_chains=n_chains, advi=False)"
   ]
  },
  {
   "cell_type": "code",
   "execution_count": null,
   "metadata": {},
   "outputs": [],
   "source": [
    "traces=[]\n",
    "with model:\n",
    "    trace_name = \"traces/{}\".format(proteins[0])\n",
    "    print(trace_name)\n",
    "    trace = pm.backends.text.load(trace_name)\n",
    "    traces.append(trace)"
   ]
  },
  {
   "cell_type": "code",
   "execution_count": null,
   "metadata": {},
   "outputs": [],
   "source": [
    "pm.traceplot(trace, varnames=[\"estimate\"])"
   ]
  },
  {
   "cell_type": "code",
   "execution_count": null,
   "metadata": {},
   "outputs": [],
   "source": [
    "with model:\n",
    "    mode = pm.find_MAP()"
   ]
  },
  {
   "cell_type": "code",
   "execution_count": null,
   "metadata": {},
   "outputs": [],
   "source": [
    "pm.summary(trace, varnames=[\"estimate\"])"
   ]
  },
  {
   "cell_type": "code",
   "execution_count": null,
   "metadata": {},
   "outputs": [],
   "source": [
    "print(len(proteins))\n",
    "print(proteins)"
   ]
  },
  {
   "cell_type": "code",
   "execution_count": null,
   "metadata": {},
   "outputs": [],
   "source": [
    "for p in proteins[2:]:\n",
    "    model_name = p\n",
    "    variables = create_variables(data, features, [p])\n",
    "    observed, features_p, x_treat, x_pep, x_run, x_estimate = variables\n",
    "    observed_shared.set_value(observed)\n",
    "    features_p_shared.set_value(features_p)    \n",
    "    x_treat_shared.set_value(x_treat)\n",
    "    x_pep_shared.set_value(x_pep)\n",
    "    x_run_shared.set_value(x_run)\n",
    "    x_estimate_shared.set_value(x_estimate)\n",
    "    with model:\n",
    "        db = pm.backends.Text(model_name)\n",
    "        traces.append(pm.sample(draws=n_draws, njobs=n_chains, trace=db))\n",
    "        pm.traceplot(traces[-1], varnames=[\"estimate\"])\n",
    "        plt.savefig(\"plots/traceplots/{}.png\".format(model_name))\n",
    "        plt.close()"
   ]
  },
  {
   "cell_type": "code",
   "execution_count": null,
   "metadata": {},
   "outputs": [],
   "source": [
    "from pymc3 import sample_ppc\n",
    "with model:\n",
    "    estimate_sim = sample_ppc(trace, samples=500)"
   ]
  },
  {
   "cell_type": "code",
   "execution_count": null,
   "metadata": {},
   "outputs": [],
   "source": [
    "obs=estimate_sim[\"likelihood\"][:,0,:]"
   ]
  },
  {
   "cell_type": "code",
   "execution_count": null,
   "metadata": {},
   "outputs": [],
   "source": [
    "print(obs.shape)\n",
    "pep0 = obs[:,:6]\n",
    "pep1 = obs[:,6:12]\n",
    "peps = [pep0, pep1]\n",
    "estimates = np.concatenate(list(map(lambda x: np.mean(x[:,:3], axis=1) - np.mean(x[:,3:6], axis=1), peps)))\n",
    "plt.hist(estimates, bins=30)\n",
    "\n"
   ]
  },
  {
   "cell_type": "code",
   "execution_count": null,
   "metadata": {},
   "outputs": [],
   "source": [
    "fig, axes = plt.subplots(1,stats[1]+1, figsize=(12, 6))\n",
    "print(estimate_sim['likelihood'].T.shape)\n",
    "for obs, sim, ax in zip(variables[2], estimate_sim['likelihood'][500:], axes):\n",
    "        ax.hist(sim, bins=range(20))\n",
    "        ax.plot(obs+0.5, 1, 'ro')"
   ]
  },
  {
   "cell_type": "code",
   "execution_count": null,
   "metadata": {},
   "outputs": [],
   "source": [
    "def diagnose_results(model, model_name):\n",
    "    with model:\n",
    "        trace = pm.backends.text.load(model_name)\n",
    "        print(pm.gelman_rubin(trace))\n",
    "        print(np.abs(np.diff(np.mean(trace.get_values('beta_treat', burn=500, combine=True, chains=[0,1]), axis = 0))))\n",
    "        pm.traceplot(trace, varnames=[\"theta\", \"beta_treat\"])\n",
    "#         plt.close()\n",
    "        \n",
    "        x = pm.geweke(trace['beta_treat'])[0][:,1]\n",
    "        y = pm.geweke(trace['beta_treat'])[1][:,1]\n",
    "        plt.plot(x, 'o', c='blue')\n",
    "        plt.plot(y+0.1, 'o', c='green')\n",
    "        plt.axhline(1, c='red')\n",
    "        plt.axhline(-1, c='red')\n",
    "        plt.gca().margins(0.05)\n",
    "        plt.savefig(\"test.png\")\n",
    "        plt.show()"
   ]
  }
 ],
 "metadata": {
  "kernelspec": {
   "display_name": "Python (bayesian)",
   "language": "python",
   "name": "bayesian"
  },
  "language_info": {
   "codemirror_mode": {
    "name": "ipython",
    "version": 3
   },
   "file_extension": ".py",
   "mimetype": "text/x-python",
   "name": "python",
   "nbconvert_exporter": "python",
   "pygments_lexer": "ipython3",
   "version": "3.6.5"
  }
 },
 "nbformat": 4,
 "nbformat_minor": 2
}
