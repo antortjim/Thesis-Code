{
 "cells": [
  {
   "cell_type": "markdown",
   "metadata": {},
   "source": [
    "## This notebook builds a probabilistic model with Pymc3 to extend the MSqRob ridge regression model\n",
    "https://www.ncbi.nlm.nih.gov/pubmed/28391044\n",
    "$$\n",
    "y_{ijkl} = \\beta_{ij}^{treatment} + \\beta_{ik}^{peptide} + \\beta_{il}^{run} + \\epsilon_{in}\n",
    "$$\n",
    "\n",
    "where $y$ stands for the $log_2$-transformed intensity of each peptide $k$ in run $l$ and condition $j$ that belong to protein $i$. $n$ is the $n^{th}$ peptide and $\\epsilon$ is an noise term following a normal distribution with $mu$ = 0 and sigma $\\sigma_i$ specific to the protein.\n",
    "Each $\\beta$ models a different effect on the final intensity measurement. The treatment effect \\beta^{treatment} can be regarded as an estimate of the $\\log_2$ protein quantity. Thus, $\\beta_{ij}^{treatment A} - \\beta_{ij}^{treatment B}$ is an estimate of the $log_2$ fold change of protein $i$ between conditions A and B.\n",
    "\n",
    "Independent ridge regression models are built for all N peptides under protein $i$."
   ]
  },
  {
   "cell_type": "markdown",
   "metadata": {},
   "source": [
    "In this notebook, the fold change of the proteins detected in the MaxLFQ proteomebenchmark dataset: https://www.ebi.ac.uk/pride/archive/projects/PXD000279 is modeled in a similar way with a new extension.\n",
    "\n",
    "The peptides.txt file from MaxQuant was read in R and preprocessed with MSqRob preprocess_MaxQuant().\n",
    "\n",
    "Sequence features are extracted from each peptide to better capture the sequence variability inherent to each peptide.\n",
    "The sequence features were extracted using the protr package in R using extractAPAAC(), which yields a numeric vector of 32 features for each peptide, independent of length.\n",
    "Additionally to these 3 features, the number of missed cleavages of the peptide, and an integer encoding the neighboring residues of the peptide in the protein were added to the features, giving 35 features in total.\n",
    "\n",
    "The sequence features are used to model the peptide effect \\beta_{ik}^{peptide}.\n",
    "\n",
    "$$\n",
    "\\beta_{ik}^{peptide} = \\theta * features_{ik}\n",
    "$$\n",
    "\n",
    "which multiplies the intensities $y$ in the ridge regression model above, rendering a new model:\n",
    "\n",
    "$$\n",
    "y_{ijkln} = \\beta^{treatment}_{ij} \\beta_{ik}^{peptide} + + \\beta_{il}^{run} + \\epsilon_{in}\n",
    "$$\n"
   ]
  },
  {
   "cell_type": "code",
   "execution_count": 4,
   "metadata": {},
   "outputs": [],
   "source": [
    "import pymc3 as pm\n",
    "import theano"
   ]
  },
  {
   "cell_type": "code",
   "execution_count": 5,
   "metadata": {},
   "outputs": [],
   "source": [
    "import pandas as pd\n",
    "import os.path\n",
    "import glob\n",
    "import numpy as np\n",
    "import matplotlib.pyplot as plt\n",
    "from matplotlib.pyplot import figure\n",
    "from tqdm import tqdm\n",
    "np.random.seed(123)\n",
    "import seaborn as sns\n",
    "sns.set_style('whitegrid')"
   ]
  },
  {
   "cell_type": "code",
   "execution_count": 6,
   "metadata": {},
   "outputs": [],
   "source": [
    "# %load BayesQuant.py\n",
    "import pymc3 as pm\n",
    "import numpy as np\n",
    "import matplotlib.pyplot as plt\n",
    "from theano import shared\n",
    "import theano\n",
    "import shutil\n",
    "import os\n",
    "from exp_annot_funcs import *\n",
    "import sys\n",
    "import pickle\n",
    "from sklearn.decomposition import PCA \n",
    "import seaborn as sns\n",
    "\n",
    "\n",
    "class BayesQuant:\n",
    "\n",
    "    \"Compile a BayesQuant model, load data into it and posterior distributions\"\n",
    "\n",
    "    def __init__(self, data=None, features=None, plot_dir=\"../../Report/plots\"):\n",
    "        self.data = data\n",
    "        self.features = features\n",
    "        self.p = None\n",
    "        self.trace = None\n",
    "        self.pca = None\n",
    "        self.plot_dir = plot_dir\n",
    "        self.sequence = False\n",
    "\n",
    "    def read_data(self, data_path=\"data/data.tsv\", features_path=\"data/advanced_features.tsv\"):\n",
    "        data = pd.read_csv(data_path, sep = \"\\t\")\n",
    "        for c in data.columns[2:].values:\n",
    "            data[c] = data[c].astype(theano.config.floatX)\n",
    "\n",
    "\n",
    "        self.data = data\n",
    "        self.data.shape[0]\n",
    "\n",
    "\n",
    "        if features_path is not None:\n",
    "            features = pd.read_csv(features_path, sep = \"\\t\").iloc[:,1:]\n",
    "            features=features.iloc[data.index,:]\n",
    "            n_seq_feat = features.shape[1]\n",
    "            n_prots = len(np.unique(data.protein))\n",
    "            self.features = features\n",
    "\n",
    "        return (self.data, self.features)\n",
    "\n",
    "\n",
    "\n",
    "\n",
    "    def compile_model(self, n_peptides, hierarchical_center=False):\n",
    "\n",
    "\n",
    "        if self.features is None:\n",
    "             self.sequence=False\n",
    "             n_features=0\n",
    "        elif isinstance(self.features, pd.DataFrame):\n",
    "             self.sequence = True\n",
    "             n_features = self.features.shape[1]\n",
    "             self.feats_sh  = shared(np.array([[0.,]*n_features,]*n_peptides))\n",
    "        else:\n",
    "             sys.exit(\"Please set features to either None or a pd.DataFrame\")\n",
    "\n",
    "\n",
    "        self.observed_sh  = shared(np.array([0.,]*6*n_peptides))\n",
    "        self.x_treat_sh  = shared(np.array([[0.,]*2,]*6*n_peptides))\n",
    "        self.x_pep_sh  = shared(np.array([[0.,]*n_peptides,]*6*n_peptides))\n",
    "        self.x_run_sh  = shared(np.array([[0.,]*6,]*6*n_peptides))\n",
    "        self.x_estimate_sh  = shared(np.array([[0.,]*2,]*1))\n",
    "     \n",
    "        # The number of proteins in this model is always one\n",
    "        # i.e this model is fitted protein-wise\n",
    "        n_prots = 1\n",
    "        \n",
    "    \n",
    "        with pm.Model() as model:\n",
    "               \n",
    "            # Build a hyerarchical linear model of\n",
    "            # log2(MS1 intensities) by accounting for:\n",
    "    \n",
    "                 # Peptide effect\n",
    "                 # Run (batch) effect\n",
    "                 # Treatment effect\n",
    "                 # Remaining random effects\n",
    "    \n",
    "            # The difference in treatment effects is an estimate of the log2FC\n",
    "    \n",
    "    \n",
    "            # Set a prior on the random effects\n",
    "            #sigma = pm.HalfNormal('sigma', 1)\n",
    "            # Set a prior on the intercept\n",
    "            intercept = pm.Normal(\"intercept\", mu=22, sd=1)\n",
    "            \n",
    "    \n",
    "            ## Set priors on the peptide effect\n",
    "            ################################################\n",
    "            sigma_pep = pm.HalfNormal('sigma_pep', 1)\n",
    "    \n",
    "            # Not using the sequence\n",
    "            if not self.sequence:\n",
    "                mu_pep = pm.Normal('mu_pep', mu=0, sd=sigma_pep)\n",
    "    \n",
    "            # Using the peptide sequence\n",
    "            else: \n",
    "                # sequence based modelling\n",
    "                sigma_theta = pm.HalfNormal('sigma_theta', sd=1)\n",
    "                theta = pm.Normal('theta', mu=0, sd=sigma_theta, shape = (n_features, 1))\n",
    "                theta_inter = pm.Normal('theta_inter', mu=0, sd=sigma_theta)\n",
    "                mu_pep = pm.Normal(\"mu_pep\", mu=theta_inter + pm.math.sum(self.feats_sh.dot(theta)), sd=sigma_pep)\n",
    "    \n",
    "    \n",
    "            ## Set priors on the treatment and run effects\n",
    "            ################################################    \n",
    "            sigma_treat = pm.HalfNormal('sigma_treat', 1)\n",
    "            mu_treat = pm.Normal('mu_treat', 0, sigma_treat)\n",
    "            sigma_run = pm.HalfNormal('sigma_run', 1)\n",
    "            mu_run = pm.Normal('mu_run', 0, sigma_run)\n",
    "    \n",
    "            # Standard implementation of the hyerarchies\n",
    "            if hierarchical_center:\n",
    "                pep = pm.Normal(\"pep\", mu_pep, sigma_pep, shape = (n_peptides, 1)) # n_peptidesx1\n",
    "                treat = pm.Normal('treat', mu_treat, sigma_treat, shape = (n_prots*2, 1))\n",
    "                run = pm.Normal('run', mu_run, sigma_run, shape = (n_prots*6, 1))\n",
    "    \n",
    "            # Reparametrization to escape funnel of hell as noted in\n",
    "            # http://twiecki.github.io/blog/2017/02/08/bayesian-hierchical-non-centered/\n",
    "            else:\n",
    "                pep_offset = pm.Normal(\"pep_offset\", mu=0, sd=1, shape = (n_peptides, 1))\n",
    "                pep = pm.Deterministic(\"pep\", mu_pep + pep_offset * sigma_pep)\n",
    "                treat_offset = pm.Normal(\"treat_offset\", mu=0, sd=1, shape=(n_prots*2, 1))\n",
    "                treat = pm.Deterministic(\"treat\", mu_treat + treat_offset*sigma_treat)\n",
    "                run_offset = pm.Normal(\"run_offset\", mu=0, sd=1, shape=(n_prots*6, 1))\n",
    "                run = pm.Deterministic(\"run\", mu_run + run_offset*sigma_run)\n",
    "    \n",
    "    \n",
    "            # Model the effect for all peptides\n",
    "            # The sh variables consist of -1,0,1 matrices telling pymc3\n",
    "            # which parameters shall be used with each peptide\n",
    "            # In practice, the \"clone\" each parameter to fit the shape of observed_sh\n",
    "            # observed_sh is a n_peptides*6x1 tensor\n",
    "            # The first 6 numbers store the MS1 intensities of the first peptide in the 6 runs\n",
    "            # The next 6 those of the second peptide, and so on\n",
    "    \n",
    "            #estimate = pm.Deterministic('estimate', pm.math.sum(self.x_estimate_sh.dot(treat), axis=1))\n",
    "            estimate = pm.Deterministic('estimate', self.x_estimate_sh.dot(treat))\n",
    "            treatment_effect = pm.Deterministic(\"treatment_effect\", pm.math.sum(self.x_treat_sh.dot(treat), axis=1))\n",
    "            peptide_effect = pm.Deterministic(\"peptide_effect\", pm.math.sum(self.x_pep_sh.dot(pep), axis=1))\n",
    "            run_effect = pm.Deterministic(\"run_effect\", pm.math.sum(self.x_run_sh.dot(run), axis=1))\n",
    "    \n",
    "            # BIND MODEL TO DATA\n",
    "            mu = intercept + treatment_effect + peptide_effect + run_effect\n",
    "            #mu = pm.Deterministic(\"mu\", effects) #n_peptides*6x1\n",
    "            epsilon = pm.HalfNormal('epsilon', sd=1)\n",
    "            if hierarchical_center:\n",
    "                obs = pm.Normal(\"obs\", mu, epsilon, observed=self.observed_sh)\n",
    "            else:\n",
    "                obs_offset = pm.Normal(\"obs_offset\", mu=0, sd=1, shape=(n_peptides*6,1))\n",
    "                obs = pm.Normal(\"obs\", mu+obs_offset*epsilon, epsilon, observed=self.observed_sh)\n",
    "    \n",
    "    \n",
    "        print(\"Success: Model compiled\")\n",
    "\n",
    "        self.model = model\n",
    "        return model\n",
    "    \n",
    "    def sample(self, model_name=None, n_draws=1000, n_chains=3, remove_backend=True):\n",
    "\n",
    "        p = self.p\n",
    "        if model_name is not None:\n",
    "            p = model_name    \n",
    "\n",
    "        # Check working environment  \n",
    "        if not os.path.isdir(\"traces\") or not os.path.isdir(os.path.join(self.plot_dir, \"traceplots\")):\n",
    "            msg = \"Please create a traces dir and a traceplots dir before running this code\"\n",
    "            raise Exception(msg)\n",
    "    \n",
    "        if remove_backend and os.path.isdir(\"traces/{}\".format(self.p)):\n",
    "            shutil.rmtree(\"traces/{}\".format(self.p))\n",
    "    \n",
    "    \n",
    "        with self.model:\n",
    "            # Parameters of the simulation:\n",
    "            # Number of iterations and independent chains.\n",
    "            n_sim = n_draws*n_chains\n",
    "    \n",
    "            # Save traces to the Text backend i.e a folder called\n",
    "            # model_name containing csv files for each chain\n",
    "            trace_name = 'traces/{}'.format(self.p)\n",
    "            db = pm.backends.Text(trace_name)\n",
    "            trace = pm.sample(draws=n_draws, njobs=n_chains, trace=db,\n",
    "                              tune=2000, nuts_kwargs=dict(target_accept=.95))\n",
    "        \n",
    "        # Save a traceplot \n",
    "        pm.traceplot(trace, varnames=[\"estimate\"])\n",
    "        plt.savefig(os.path.join(self.plot_dir, \"traceplots\", \"{}.eps\".format(self.p)), format=\"eps\", dpi=900)\n",
    "        plt.savefig(os.path.join(self.plot_dir, \"traceplots\", \"{}.png\".format(self.p)))\n",
    "        plt.close()\n",
    "\n",
    "\n",
    "        self.trace = trace\n",
    "           \n",
    "        return trace\n",
    "\n",
    "    def fit(self, model_name=None, n_iter=40000):\n",
    "\n",
    "        p = self.p\n",
    "        if model_name is not None:\n",
    "            p = model_name\n",
    " \n",
    "        try:\n",
    "            os.mkdir(\"traces/{}\".format(self.p))\n",
    "        except:\n",
    "            print(\"Dir exists\")\n",
    "\n",
    "\n",
    "        with self.model:\n",
    "            \n",
    "            advi = pm.ADVI()\n",
    "            # how can the trace be saved when using pm.fit??\n",
    "            #approx = advi.fit(n=n_draws, callbacks=[tracker])\n",
    "            approx = advi.fit(n=n_iter)\n",
    "\n",
    "            plt.plot(advi.hist)\n",
    "            plt.legend()\n",
    "            plt.title('ELBO')\n",
    "            plt.xlabel('Iteration');\n",
    "            plt.savefig(os.path.join(self.plot_dir, \"ELBO/{}.eps\".format(self.p)), format=\"eps\", dpi=900)\n",
    "            plt.close()\n",
    "\n",
    "            trace=approx.sample(10000)\n",
    "\n",
    "            with open(\"traces/{}/trace.pik\".format(self.p), 'wb') as f:\n",
    "                pickle.dump({'model': self.model, 'trace': trace}, f)\n",
    "\n",
    "            #with open('trace.p', 'rb') as f:\n",
    "            #    test1 = pickle.load(f)\n",
    "\n",
    "        df=pd.DataFrame({\"estimate\": trace[\"estimate\"][:,0,0]})\n",
    "        df.to_csv(\"traces/{}/chain-0.tsv\".format(self.p))\n",
    "\n",
    "        self.trace = trace\n",
    "        \n",
    "        return trace\n",
    "    \n",
    "    def load_data(self, p, top=10):\n",
    "    \n",
    "        df = pd.DataFrame({\"std\": np.std(self.data.loc[self.data.protein == p,:].iloc[:,2:5].values, axis=1) + np.std(self.data.loc[self.data.protein == p,:].iloc[:,5:8].values, axis=1)})\n",
    "        best_data = self.data.loc[self.data.protein == p,:].iloc[df.sort_values(by=\"std\", ascending=True).iloc[:top,:].index,:]\n",
    "        variables = create_variables(best_data, self.features, [p])\n",
    "        observed, feats, x_treat, x_pep, x_run, x_estimate = variables\n",
    "\n",
    "        self.observed_sh.set_value(observed)\n",
    "        if feats is not None:\n",
    "            self.feats_sh.set_value(feats)    \n",
    "\n",
    "        self.x_treat_sh.set_value(x_treat)\n",
    "        self.x_pep_sh.set_value(x_pep)\n",
    "        self.x_run_sh.set_value(x_run)\n",
    "        self.x_estimate_sh.set_value(x_estimate)\n",
    "        self.p = p\n",
    "        self.n_peptides = top \n",
    "\n",
    "\n",
    "    def ppc(self, samples=500, suffix=\"\"):\n",
    "\n",
    "        with self.model:\n",
    "            sim = pm.sample_ppc(self.trace, samples=samples)[\"obs\"]\n",
    "\n",
    "        sim=sim[:,0,:]\n",
    "        peps = list(map(lambda i: sim[:, (i*6):((i*6)+6)], range(self.n_peptides)))\n",
    "        estimates = list(map(lambda x: np.mean(x[:,:3], axis=1) - np.mean(x[:,3:6], axis=1), peps))\n",
    "        fig, ax = plt.subplots(1,self.n_peptides, figsize=(15,5))\n",
    "        [ax[i].hist(e) for i, e in enumerate(estimates)]\n",
    "        [ax[i].set_xlabel(\"log2FC\") for i, e in enumerate(estimates)]\n",
    "        [ax[i].set_title(\"Peptide {}\".format(i+1)) for i, e in enumerate(estimates)]\n",
    "        \n",
    "        plt.savefig(os.path.join(self.plot_dir, \"PPC\", \"histogram_{}.eps\".format(self.p)), format=\"eps\", dpi=900)\n",
    "        plt.close()\n",
    "\n",
    "        peps_data = np.vstack(peps)\n",
    "        sim_transformed = self.pca.transform(peps_data)\n",
    "        obs = self.data.loc[self.data.protein == p].iloc[:,2:]\n",
    "        obs_transformed = self.pca.transform(obs)\n",
    "\n",
    "        plt.scatter(sim_transformed[:,0], sim_transformed[:,1], label=\"Sim obs\")\n",
    "        plt.scatter(obs_transformed[:,0], obs_transformed[:,1], c = \"red\", label=\"True obs\")\n",
    "        plt.legend()\n",
    "        plt.xlabel(\"PC1\")\n",
    "        plt.ylabel(\"PC2\")\n",
    "        plt.savefig(os.path.join(self.plot_dir, \"PPC\", \"PCA_{}{}.eps\".format(self.p, suffix)), format=\"eps\", dpi=900)\n",
    "        plt.close()\n",
    "\n",
    "    def PCA(self):\n",
    "        x = self.data.values[:,2:]\n",
    "        pca = PCA(n_components=2)\n",
    "        pca.fit(x)\n",
    "        self.pca = pca\n",
    "        print(\"Percentage of variance explained by PC1 and PC2\")\n",
    "        print(pca.explained_variance_ratio_*100)\n",
    "        x_transformed = pca.transform(x)\n",
    "        pca_data = pd.DataFrame({\"taxon\": self.data.taxon, \"PC1\": x_transformed[:,0], \"PC2\": x_transformed[:,1]})\n",
    "        myPlot = sns.FacetGrid(col=\"taxon\", hue='taxon', data=pca_data, size=5)\n",
    "        myPlot = myPlot.map(plt.scatter, \"PC1\", \"PC2\", alpha=0.3)\n",
    "        myPlot = myPlot.map_dataframe(plt.plot, [min(pca_data.PC1),max(pca_data.PC1)], [0, 0], 'r-').add_legend().set_axis_labels(\"PC1\", \"PC2\")\n",
    "        plt.savefig(os.path.join(self.plot_dir, \"PCA.eps\"), format=\"eps\", dpi=900)\n",
    "        plt.close()\n",
    "\n",
    "    def plot_posterior(self, parameter=\"estimate\", ref_val=np.log2(3), color=\"LightSeaGreen\", rope=[-.4, .4], xlim=[-.5,2], suffix=\"\"):\n",
    "        plt.rcParams.update({'font.size': 15, 'figure.figsize': (7,5)})\n",
    "        pm.plot_posterior(self.trace, varnames=[parameter], ref_val=ref_val, color=color, rope=rope)\n",
    "        plt.title(\"log2FC Posterior for {}\".format(p.split(\";\")[0]))\n",
    "        plt.xlim(xlim)\n",
    "        plt.ylabel(\"Probability\")\n",
    "        plt.savefig(os.path.join(self.plot_dir, \"posteriors\", \"{}{}.eps\".format(self.p, suffix)), format='eps', dpi=900)\n",
    "        plt.close()\n",
    "\n",
    "\n",
    "    def traceplot(self, varnames=[\"estimate\", \"pep\", \"run\"], suffix=\"\"):\n",
    "        plt.rcParams.update({'font.size': 15, 'figure.figsize': (6,11)})\n",
    "        pm.traceplot(trace_human, varnames=varnames)\n",
    "        plt.savefig(os.path.join(self.plot_dir, \"traceplots\", \"{}{}.eps\".format(self.p, suffix)), format='eps', dpi=900)\n",
    "        plt.close()\n",
    "\n",
    "\n"
   ]
  },
  {
   "cell_type": "code",
   "execution_count": 7,
   "metadata": {},
   "outputs": [],
   "source": [
    "# from numpy.linalg import norm\n",
    "# p1 = np.array([0,0])\n",
    "# p2 = np.array([1,1])\n",
    "# indices = [bayesquant.data.taxon == \"Homo sapiens\", bayesquant.data.taxon != \"Homo sapiens\"]\n",
    "# print(indices)\n",
    "# hsapiens_d, ecoli_d =np.array([[norm(np.cross(p2-p1, p1-p3))/norm(p2-p1) for p3 in zip(x[idx],y[idx])] for idx in indices])\n",
    "# print(np.mean(hsapiens_d))\n",
    "# print(np.mean(ecoli_d))"
   ]
  },
  {
   "cell_type": "code",
   "execution_count": 8,
   "metadata": {},
   "outputs": [
    {
     "name": "stdout",
     "output_type": "stream",
     "text": [
      "Success: Model compiled\n"
     ]
    },
    {
     "data": {
      "text/latex": [
       "$$\n",
       "            \\begin{array}{rcl}\n",
       "            \\text{intercept} &\\sim & \\text{Normal}(\\mathit{mu}=22,~\\mathit{sd}=1.0)\\\\\\text{mu_pep} &\\sim & \\text{Normal}(\\mathit{mu}=0,~\\mathit{sd}=f(\\text{sigma_pep}))\\\\\\text{mu_treat} &\\sim & \\text{Normal}(\\mathit{mu}=0,~\\mathit{sd}=f(\\text{sigma_treat}))\\\\\\text{mu_run} &\\sim & \\text{Normal}(\\mathit{mu}=0,~\\mathit{sd}=f(\\text{sigma_run}))\\\\\\text{pep_offset} &\\sim & \\text{Normal}(\\mathit{mu}=0,~\\mathit{sd}=1.0)\\\\\\text{treat_offset} &\\sim & \\text{Normal}(\\mathit{mu}=0,~\\mathit{sd}=1.0)\\\\\\text{run_offset} &\\sim & \\text{Normal}(\\mathit{mu}=0,~\\mathit{sd}=1.0)\\\\\\text{obs_offset} &\\sim & \\text{Normal}(\\mathit{mu}=0,~\\mathit{sd}=1.0)\\\\\\text{sigma_pep} &\\sim & \\text{HalfNormal}(\\mathit{sd}=1.0)\\\\\\text{sigma_treat} &\\sim & \\text{HalfNormal}(\\mathit{sd}=1.0)\\\\\\text{sigma_run} &\\sim & \\text{HalfNormal}(\\mathit{sd}=1.0)\\\\\\text{pep} &\\sim & \\text{Deterministic}(\\text{mu_pep},~\\text{pep_offset},~\\text{sigma_pep_log__})\\\\\\text{treat} &\\sim & \\text{Deterministic}(\\text{mu_treat},~\\text{treat_offset},~\\text{sigma_treat_log__})\\\\\\text{run} &\\sim & \\text{Deterministic}(\\text{mu_run},~\\text{run_offset},~\\text{sigma_run_log__})\\\\\\text{estimate} &\\sim & \\text{Deterministic}(\\text{Constant},~\\text{mu_treat},~\\text{treat_offset},~\\text{sigma_treat_log__})\\\\\\text{treatment_effect} &\\sim & \\text{Deterministic}(\\text{Constant},~\\text{mu_treat},~\\text{treat_offset},~\\text{sigma_treat_log__})\\\\\\text{peptide_effect} &\\sim & \\text{Deterministic}(\\text{Constant},~\\text{mu_pep},~\\text{pep_offset},~\\text{sigma_pep_log__})\\\\\\text{run_effect} &\\sim & \\text{Deterministic}(\\text{Constant},~\\text{mu_run},~\\text{run_offset},~\\text{sigma_run_log__})\\\\\\text{epsilon} &\\sim & \\text{HalfNormal}(\\mathit{sd}=1.0)\\\\\\text{obs} &\\sim & \\text{Normal}(\\mathit{mu}=f(f(f(f(f(f(\\text{intercept}),~\\text{treatment_effect}),~\\text{peptide_effect}),~\\text{run_effect})),~f(\\text{obs_offset},~f(\\text{epsilon}))),~\\mathit{sd}=f(\\text{epsilon}))\n",
       "            \\end{array}\n",
       "            $$"
      ],
      "text/plain": [
       "<pymc3.model.Model at 0x7ff5927d8898>"
      ]
     },
     "execution_count": 8,
     "metadata": {},
     "output_type": "execute_result"
    }
   ],
   "source": [
    "bayesquant = BayesQuant()\n",
    "data,_ = bayesquant.read_data(data_path=\"data/ms1_intensities.tsv\", features_path=None)\n",
    "n_peptides=3\n",
    "bayesquant.compile_model(n_peptides=n_peptides)"
   ]
  },
  {
   "cell_type": "markdown",
   "metadata": {},
   "source": [
    "### Every protein has at least two peptides"
   ]
  },
  {
   "cell_type": "code",
   "execution_count": 9,
   "metadata": {},
   "outputs": [
    {
     "data": {
      "image/png": "[encoded data removed]",
      "text/plain": [
       "<Figure size 648x432 with 1 Axes>"
      ]
     },
     "metadata": {},
     "output_type": "display_data"
    }
   ],
   "source": [
    "counts0 = np.unique(bayesquant.data.protein, return_counts=True)\n",
    "counts = np.unique(counts0[1], return_counts=True)\n",
    "counts_df = pd.DataFrame(np.array([counts[0], counts[1]]).T, columns = [\"n_peptides\", \"n_prots\"])\n",
    "plt.rcParams.update({'font.size': 15, 'figure.figsize': (9,6)})\n",
    "plt.bar(x=counts_df.n_peptides, height=counts_df.n_prots)\n",
    "plt.title(\"Peptide count in dataset\")\n",
    "plt.xticks(range(0,55, 5))\n",
    "plt.xlim([0, 55])\n",
    "plt.savefig(\"../../Report/plots/peptide_counts.eps\", format='eps', dpi=900, height=12, width=7)"
   ]
  },
  {
   "cell_type": "code",
   "execution_count": 13,
   "metadata": {},
   "outputs": [
    {
     "name": "stdout",
     "output_type": "stream",
     "text": [
      "\\begin{tabular}{llrrrrrr}\n",
      "\\toprule\n",
      "protein &      Organism &     H1 &     H2 &     H3 &     L1 &     L2 &     L3 \\\\\n",
      "\\midrule\n",
      " P0A8I8 &       E. coli &  25.13 &  25.24 &  24.39 &  21.71 &  22.67 &  22.40 \\\\\n",
      " P0A8I8 &       E. coli &  21.49 &  23.10 &  23.38 &  21.34 &  22.65 &  21.25 \\\\\n",
      " P0A8I8 &       E. coli &  24.10 &  24.54 &  23.81 &  19.88 &  20.87 &  20.30 \\\\\n",
      " A6NDG6 &  Homo sapiens &  25.08 &  24.98 &  23.83 &  22.54 &  22.52 &  24.96 \\\\\n",
      " A6NDG6 &  Homo sapiens &  22.70 &  24.32 &  23.00 &  22.29 &  23.27 &  23.91 \\\\\n",
      " A6NDG6 &  Homo sapiens &  21.18 &  22.51 &  23.25 &  22.30 &  21.75 &  23.61 \\\\\n",
      "\\bottomrule\n",
      "\\end{tabular}\n",
      "\n"
     ]
    },
    {
     "name": "stderr",
     "output_type": "stream",
     "text": [
      "/home/antortjim/anaconda3/envs/bayesian/lib/python3.6/site-packages/pandas/core/generic.py:3643: SettingWithCopyWarning: \n",
      "A value is trying to be set on a copy of a slice from a DataFrame.\n",
      "Try using .loc[row_indexer,col_indexer] = value instead\n",
      "\n",
      "See the caveats in the documentation: http://pandas.pydata.org/pandas-docs/stable/indexing.html#indexing-view-versus-copy\n",
      "  self[name] = value\n"
     ]
    }
   ],
   "source": [
    "report_sample_data1 = bayesquant.data.loc[bayesquant.data.protein == \"P0A8I8\",:]\n",
    "report_sample_data1.taxon = \"E. coli\"\n",
    "report_sample_data2 = bayesquant.data.loc[bayesquant.data.protein == \"A6NDG6\",:]\n",
    "report_sample_data = pd.concat([report_sample_data1, report_sample_data2])\n",
    "report_sample_data.iloc[:,2:]=np.round(report_sample_data.iloc[:,2:], decimals=2)\n",
    "colnames = report_sample_data.columns.values\n",
    "colnames[colnames == \"taxon\"] = \"Organism\"\n",
    "report_sample_data.columns = colnames\n",
    "print(report_sample_data.to_latex(escape=False, index=None))"
   ]
  },
  {
   "cell_type": "code",
   "execution_count": 10,
   "metadata": {},
   "outputs": [
    {
     "name": "stderr",
     "output_type": "stream",
     "text": [
      "3it [00:00, 9892.23it/s]\n"
     ]
    },
    {
     "name": "stdout",
     "output_type": "stream",
     "text": [
      "Shape of x_treat is 18, 2\n",
      "Shape of x_pep is 18, 3\n",
      "Shape of x_estimate is 1, 2\n",
      "Dir exists\n"
     ]
    },
    {
     "name": "stderr",
     "output_type": "stream",
     "text": [
      "Average Loss = 365.19: 100%|██████████| 40000/40000 [00:38<00:00, 1051.19it/s]\n",
      "Finished [100%]: Average Loss = 365.22\n",
      "No handles with labels found to put in legend.\n"
     ]
    },
    {
     "name": "stdout",
     "output_type": "stream",
     "text": [
      "Percentage of variance explained by PC1 and PC2\n",
      "[84.62583393  8.76137261]\n"
     ]
    },
    {
     "name": "stderr",
     "output_type": "stream",
     "text": [
      "100%|██████████| 500/500 [00:00<00:00, 710.08it/s]\n"
     ]
    }
   ],
   "source": [
    "p = \"A6NDG6\"\n",
    "bayesquant.load_data(p, top=n_peptides)\n",
    "trace_human = bayesquant.fit(model_name=p, n_iter=40000)\n",
    "bayesquant.PCA()\n",
    "bayesquant.ppc()\n",
    "bayesquant.traceplot()\n",
    "bayesquant.plot_posterior()"
   ]
  },
  {
   "cell_type": "code",
   "execution_count": 12,
   "metadata": {},
   "outputs": [
    {
     "name": "stderr",
     "output_type": "stream",
     "text": [
      "3it [00:00, 5171.77it/s]\n"
     ]
    },
    {
     "name": "stdout",
     "output_type": "stream",
     "text": [
      "Shape of x_treat is 18, 2\n",
      "Shape of x_pep is 18, 3\n",
      "Shape of x_estimate is 1, 2\n",
      "Dir exists\n"
     ]
    },
    {
     "name": "stderr",
     "output_type": "stream",
     "text": [
      "Average Loss = 420.3: 100%|██████████| 40000/40000 [00:44<00:00, 894.91it/s]\n",
      "Finished [100%]: Average Loss = 420.32\n",
      "No handles with labels found to put in legend.\n"
     ]
    },
    {
     "name": "stdout",
     "output_type": "stream",
     "text": [
      "Percentage of variance explained by PC1 and PC2\n",
      "[84.62583393  8.76137261]\n"
     ]
    },
    {
     "name": "stderr",
     "output_type": "stream",
     "text": [
      "100%|██████████| 500/500 [00:00<00:00, 1038.59it/s]\n"
     ]
    }
   ],
   "source": [
    "p = \"P0A8I8\"\n",
    "bayesquant.load_data(p, top=n_peptides)\n",
    "trace_ecoli = bayesquant.fit(model_name=p, n_iter=40000)\n",
    "bayesquant.PCA()\n",
    "bayesquant.ppc()\n",
    "bayesquant.traceplot()\n",
    "bayesquant.plot_posterior()"
   ]
  }
 ],
 "metadata": {
  "kernelspec": {
   "display_name": "Python (bayesian)",
   "language": "python",
   "name": "bayesian"
  },
  "language_info": {
   "codemirror_mode": {
    "name": "ipython",
    "version": 3
   },
   "file_extension": ".py",
   "mimetype": "text/x-python",
   "name": "python",
   "nbconvert_exporter": "python",
   "pygments_lexer": "ipython3",
   "version": "3.6.5"
  }
 },
 "nbformat": 4,
 "nbformat_minor": 2
}
