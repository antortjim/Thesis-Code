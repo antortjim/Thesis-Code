{
 "cells": [
  {
   "cell_type": "markdown",
   "metadata": {},
   "source": [
    "## This notebook builds a probabilistic model with Pymc3 to extend the MSqRob ridge regression model\n",
    "https://www.ncbi.nlm.nih.gov/pubmed/28391044\n",
    "$$\n",
    "y_{ijkl} = \\beta_{ij}^{treatment} + \\beta_{ik}^{peptide} + \\beta_{il}^{run} + \\epsilon_{in}\n",
    "$$\n",
    "\n",
    "where $y$ stands for the $log_2$-transformed intensity of each peptide $k$ in run $l$ and condition $j$ that belong to protein $i$. $n$ is the $n^{th}$ peptide and $\\epsilon$ is an noise term following a normal distribution with $mu$ = 0 and sigma $\\sigma_i$ specific to the protein.\n",
    "Each $\\beta$ models a different effect on the final intensity measurement. The treatment effect \\beta^{treatment} can be regarded as an estimate of the $\\log_2$ protein quantity. Thus, $\\beta_{ij}^{treatment A} - \\beta_{ij}^{treatment B}$ is an estimate of the $log_2$ fold change of protein $i$ between conditions A and B.\n",
    "\n",
    "Independent ridge regression models are built for all N peptides under protein $i$."
   ]
  },
  {
   "cell_type": "markdown",
   "metadata": {},
   "source": [
    "In this notebook, the fold change of the proteins detected in the MaxLFQ proteomebenchmark dataset: https://www.ebi.ac.uk/pride/archive/projects/PXD000279 is modeled in a similar way with a new extension.\n",
    "\n",
    "The peptides.txt file from MaxQuant was read in R and preprocessed with MSqRob preprocess_MaxQuant().\n",
    "\n",
    "Sequence features are extracted from each peptide to better capture the sequence variability inherent to each peptide.\n",
    "The sequence features were extracted using the protr package in R using extractAPAAC(), which yields a numeric vector of 32 features for each peptide, independent of length.\n",
    "Additionally to these 3 features, the number of missed cleavages of the peptide, and an integer encoding the neighboring residues of the peptide in the protein were added to the features, giving 35 features in total.\n",
    "\n",
    "The sequence features are used to model the peptide effect \\beta_{ik}^{peptide}.\n",
    "\n",
    "$$\n",
    "\\beta_{ik}^{peptide} = \\theta * features_{ik}\n",
    "$$\n",
    "\n",
    "which multiplies the intensities $y$ in the ridge regression model above, rendering a new model:\n",
    "\n",
    "$$\n",
    "y_{ijkln} = \\beta^{treatment}_{ij} \\beta_{ik}^{peptide} + + \\beta_{il}^{run} + \\epsilon_{in}\n",
    "$$\n"
   ]
  },
  {
   "cell_type": "code",
   "execution_count": 19,
   "metadata": {},
   "outputs": [],
   "source": [
    "import pymc3 as pm\n",
    "import theano"
   ]
  },
  {
   "cell_type": "code",
   "execution_count": 20,
   "metadata": {},
   "outputs": [],
   "source": [
    "import pandas as pd\n",
    "import os.path\n",
    "import glob\n",
    "import numpy as np\n",
    "import matplotlib.pyplot as plt\n",
    "from tqdm import tqdm\n",
    "np.random.seed(123)\n",
    "import seaborn as sns\n",
    "sns.set_style('whitegrid')"
   ]
  },
  {
   "cell_type": "code",
   "execution_count": 21,
   "metadata": {},
   "outputs": [],
   "source": [
    "# %load MSBay.py\n",
    "import pymc3 as pm\n",
    "import numpy as np\n",
    "import matplotlib.pyplot as plt\n",
    "from theano import shared\n",
    "import shutil\n",
    "import os\n",
    "from exp_annot_funcs import *\n",
    "\n",
    "\n",
    "class MSBay:\n",
    "\n",
    "    \"Compile a MS-Bay model, load data into it and infer the posterior\"\n",
    "\n",
    "    def __init__(self, data, features):\n",
    "       self.data = data\n",
    "       self.features = features\n",
    "\n",
    "    def compile_model(self, n_peptides, hierarchical_center=False, sequence=False):\n",
    "\n",
    "        self.observed_sh  = shared(np.array([0.,]*6*n_peptides))\n",
    "        self.feats_sh  = shared(np.array([[0.,]*9,]*n_peptides))\n",
    "        self.x_treat_sh  = shared(np.array([[0.,]*2,]*6*n_peptides))\n",
    "        self.x_pep_sh  = shared(np.array([[0.,]*n_peptides,]*6*n_peptides))\n",
    "        self.x_run_sh  = shared(np.array([[0.,]*6,]*6*n_peptides))\n",
    "        self.x_estimate_sh  = shared(np.array([[0.,]*2,]*1))\n",
    "     \n",
    "        # The number of proteins in this model is always one\n",
    "        # i.e this model is fitted protein-wise\n",
    "        n_prots = 1\n",
    "        # The number of features is set to 9 for now\n",
    "        # All peptides have 9 features, stored in feats_shared\n",
    "        n_features = 9\n",
    "        \n",
    "    \n",
    "        with pm.Model() as model:\n",
    "               \n",
    "            # Build a hyerarchical linear model of\n",
    "            # log2(MS1 intensities) by accounting for:\n",
    "    \n",
    "                 # Peptide effect\n",
    "                 # Run (batch) effect\n",
    "                 # Treatment effect\n",
    "                 # Remaining random effects\n",
    "    \n",
    "            # The difference in treatment effects is an estimate of the log2FC\n",
    "    \n",
    "    \n",
    "            # Set a prior on the intercept\n",
    "            intercept = pm.Normal(\"intercept\", 22, 1)\n",
    "            \n",
    "            # Set a prior on the remaining random effects\n",
    "            sigma = pm.HalfNormal('sigma', 1)\n",
    "    \n",
    "            ## Set priors on the peptide effect\n",
    "            ################################################\n",
    "            sigma_pep = pm.HalfNormal('sigma_pep', 1)\n",
    "    \n",
    "            # Not using the sequence\n",
    "            if not sequence:\n",
    "                mu_pep = pm.Normal('mu_pep', mu=0, sd=sigma_pep, shape=(n_peptides, 1))\n",
    "    \n",
    "            # Using the peptide sequence\n",
    "            else: \n",
    "                # sequence based modelling\n",
    "                mu_theta = pm.Normal('theta_generic', 0, sigma_pep, shape = 1)\n",
    "                theta = pm.Normal('theta', mu_theta, sigma_pep, shape = (n_features, 1))    # 9x1\n",
    "                theta_inter = pm.Normal('theta_inter', mu_theta, sigma_pep, shape = 1)\n",
    "                mu_pep = pm.Deterministic(\"mu_pep\", theta_inter + self.feats_sh.dot(theta)) # n_peptidesx1\n",
    "    \n",
    "    \n",
    "            ## Set priors on the treatment and run effects\n",
    "            ################################################    \n",
    "            sigma_treat = pm.HalfNormal('sigma_treat', 1)\n",
    "            mu_treat = pm.Normal('mu_treat', 0, sigma_treat)\n",
    "            sigma_run = pm.HalfNormal('sigma_run', 1)\n",
    "            mu_run = pm.Normal('mu_run', 0, sigma_run)\n",
    "    \n",
    "            # Standard implementation of the hyerarchies\n",
    "            if hierarchical_center:\n",
    "                pep = pm.Normal(\"pep\", mu_pep, sigma_pep) # n_peptidesx1\n",
    "                treat = pm.Normal('treat', mu_treat, sigma_treat, shape = (n_prots*2, 1))\n",
    "                run = pm.Normal('run', mu_run, sigma_run, shape = (n_prots*6, 1))\n",
    "    \n",
    "            # Reparametrization to escape funnel of hell as noted in\n",
    "            # http://twiecki.github.io/blog/2017/02/08/bayesian-hierchical-non-centered/\n",
    "            else:\n",
    "                pep_offset = pm.Normal(\"pep_offset\", mu=0, sd=1, shape = (n_peptides, 1))\n",
    "                pep = pm.Deterministic(\"pep\", mu_pep + pep_offset * sigma_pep)\n",
    "                treat_offset = pm.Normal(\"treat_offset\", mu=0, sd=1, shape=(n_prots*2, 1))\n",
    "                treat = pm.Deterministic(\"treat\", mu_treat + treat_offset*sigma_treat)\n",
    "                run_offset = pm.Normal(\"run_offset\", mu=0, sd=1, shape=(n_prots*6, 1))\n",
    "                run = pm.Deterministic(\"run\", mu_run + run_offset*sigma_run)\n",
    "    \n",
    "    \n",
    "            # Model the effect for all peptides\n",
    "            # The sh variables consist of -1,0,1 matrices telling pymc3\n",
    "            # which parameters shall be used with each peptide\n",
    "            # In practice, the \"clone\" each parameter to fit the shape of observed_sh\n",
    "            # observed_sh is a n_peptides*6x1 tensor\n",
    "            # The first 6 numbers store the MS1 intensities of the first peptide in the 6 runs\n",
    "            # The next 6 those of the second peptide, and so on\n",
    "    \n",
    "            #estimate = pm.Deterministic('estimate', pm.math.sum(self.x_estimate_sh.dot(treat), axis=1))\n",
    "            estimate = pm.Deterministic('estimate', self.x_estimate_sh.dot(treat))\n",
    "            treatment_effect = pm.Deterministic(\"treatment_effect\", pm.math.sum(self.x_treat_sh.dot(treat), axis=1))\n",
    "            peptide_effect = pm.Deterministic(\"peptide_effect\", pm.math.sum(self.x_pep_sh.dot(pep), axis=1))\n",
    "            run_effect = pm.Deterministic(\"run_effect\", pm.math.sum(self.x_run_sh.dot(run), axis=1))\n",
    "    \n",
    "            # BIND MODEL TO DATA\n",
    "            mu = pm.Deterministic(\"mu\", \n",
    "                intercept + treatment_effect + peptide_effect + run_effect) #n_peptides*6x1\n",
    "            if hierarchical_center:\n",
    "                obs = pm.Normal(\"obs\", mu, sigma, observed=self.observed_sh)\n",
    "            else:\n",
    "                obs_offset = pm.Normal(\"obs_offset\", mu=0, sd=1, shape=(n_peptides*6,1))\n",
    "                obs = pm.Normal(\"obs\", mu+obs_offset*sigma, sigma, observed=self.observed_sh)\n",
    "    \n",
    "    \n",
    "        print(\"Success: Model compiled\")\n",
    "\n",
    "        self.model = model\n",
    "        return model\n",
    "    \n",
    "    def sample(self, model_name, n_draws=1000, n_chains=3, remove_backend=True):\n",
    "    \n",
    "        # Check working environment  \n",
    "        if not os.path.isdir(\"traces\") or not os.path.isdir(\"plots/traceplots\"):\n",
    "            msg = \"Please create a traces dir and a plots/traceplots dir before running this code\"\n",
    "            raise Exception(msg)\n",
    "    \n",
    "        if remove_backend and os.path.isdir(\"traces/{}\".format(model_name)):\n",
    "            shutil.rmtree(\"traces/{}\".format(model_name))\n",
    "    \n",
    "    \n",
    "        with self.model:\n",
    "            # Parameters of the simulation:\n",
    "            # Number of iterations and independent chains.\n",
    "            n_sim = n_draws*n_chains\n",
    "    \n",
    "            # Save traces to the Text backend i.e a folder called\n",
    "            # model_name containing csv files for each chain\n",
    "            trace_name = 'traces/{}'.format(model_name)\n",
    "            db = pm.backends.Text(trace_name)\n",
    "            trace = pm.sample(draws=n_draws, njobs=n_chains, trace=db,\n",
    "                              tune=2000, nuts_kwargs=dict(target_accept=.95))\n",
    "        \n",
    "        # Save a traceplot \n",
    "        pm.traceplot(trace, varnames=[\"estimate\"])\n",
    "        traceplot = \"plots/traceplots/{}.png\".format(model_name)\n",
    "        plt.savefig(traceplot)\n",
    "        plt.close()\n",
    "           \n",
    "        return trace\n",
    "\n",
    "    def fit(self, model_name, n_draws):\n",
    "\n",
    "        with self.model:\n",
    "            \n",
    "            inference = pm.ADVI()\n",
    "            trace = pm.fit(n=n_draws, method=inference).sample()\n",
    "\n",
    "        plt.plot(-inference.hist, alpha=.5)\n",
    "        plt.legend()\n",
    "        plt.ylabel('ELBO')\n",
    "        plt.xlabel('iteration');\n",
    "        plt.savefig(\"plots/ELBO/{}\".format(model_name))\n",
    "        plt.close()\n",
    "        \n",
    "        return trace\n",
    "    \n",
    "    def load_data(self, p):\n",
    "    \n",
    "        variables = create_variables(self.data, self.features, [p])\n",
    "        observed, feats, x_treat, x_pep, x_run, x_estimate = variables\n",
    "        self.observed_sh.set_value(observed)\n",
    "        self.feats_sh.set_value(feats)    \n",
    "        self.x_treat_sh.set_value(x_treat)\n",
    "        self.x_pep_sh.set_value(x_pep)\n",
    "        self.x_run_sh.set_value(x_run)\n",
    "        self.x_estimate_sh.set_value(x_estimate)\n"
   ]
  },
  {
   "cell_type": "code",
   "execution_count": 22,
   "metadata": {},
   "outputs": [
    {
     "data": {
      "text/html": [
       "<div>\n",
       "<style scoped>\n",
       "    .dataframe tbody tr th:only-of-type {\n",
       "        vertical-align: middle;\n",
       "    }\n",
       "\n",
       "    .dataframe tbody tr th {\n",
       "        vertical-align: top;\n",
       "    }\n",
       "\n",
       "    .dataframe thead th {\n",
       "        text-align: right;\n",
       "    }\n",
       "</style>\n",
       "<table border=\"1\" class=\"dataframe\">\n",
       "  <thead>\n",
       "    <tr style=\"text-align: right;\">\n",
       "      <th></th>\n",
       "      <th>protein</th>\n",
       "      <th>H1</th>\n",
       "      <th>H2</th>\n",
       "      <th>H3</th>\n",
       "      <th>L1</th>\n",
       "      <th>L2</th>\n",
       "      <th>L3</th>\n",
       "    </tr>\n",
       "  </thead>\n",
       "  <tbody>\n",
       "    <tr>\n",
       "      <th>0</th>\n",
       "      <td>P37108</td>\n",
       "      <td>28.181535</td>\n",
       "      <td>28.006834</td>\n",
       "      <td>28.006941</td>\n",
       "      <td>27.133594</td>\n",
       "      <td>27.969390</td>\n",
       "      <td>27.869266</td>\n",
       "    </tr>\n",
       "    <tr>\n",
       "      <th>1</th>\n",
       "      <td>Q96P70</td>\n",
       "      <td>26.121057</td>\n",
       "      <td>25.893423</td>\n",
       "      <td>26.436157</td>\n",
       "      <td>25.421240</td>\n",
       "      <td>25.719706</td>\n",
       "      <td>25.811642</td>\n",
       "    </tr>\n",
       "    <tr>\n",
       "      <th>2</th>\n",
       "      <td>Q9Y2U8</td>\n",
       "      <td>22.398509</td>\n",
       "      <td>23.542741</td>\n",
       "      <td>24.042266</td>\n",
       "      <td>25.124118</td>\n",
       "      <td>25.285598</td>\n",
       "      <td>25.008512</td>\n",
       "    </tr>\n",
       "    <tr>\n",
       "      <th>3</th>\n",
       "      <td>Q9BTD8-4;Q9BTD8-2;Q9BTD8-3;Q9BTD8</td>\n",
       "      <td>23.337153</td>\n",
       "      <td>22.611060</td>\n",
       "      <td>23.675084</td>\n",
       "      <td>19.519606</td>\n",
       "      <td>23.237510</td>\n",
       "      <td>22.601230</td>\n",
       "    </tr>\n",
       "    <tr>\n",
       "      <th>4</th>\n",
       "      <td>Q9P258</td>\n",
       "      <td>22.545124</td>\n",
       "      <td>20.359925</td>\n",
       "      <td>22.185649</td>\n",
       "      <td>21.836265</td>\n",
       "      <td>22.880450</td>\n",
       "      <td>21.577547</td>\n",
       "    </tr>\n",
       "  </tbody>\n",
       "</table>\n",
       "</div>"
      ],
      "text/plain": [
       "                             protein         H1         H2         H3  \\\n",
       "0                             P37108  28.181535  28.006834  28.006941   \n",
       "1                             Q96P70  26.121057  25.893423  26.436157   \n",
       "2                             Q9Y2U8  22.398509  23.542741  24.042266   \n",
       "3  Q9BTD8-4;Q9BTD8-2;Q9BTD8-3;Q9BTD8  23.337153  22.611060  23.675084   \n",
       "4                             Q9P258  22.545124  20.359925  22.185649   \n",
       "\n",
       "          L1         L2         L3  \n",
       "0  27.133594  27.969390  27.869266  \n",
       "1  25.421240  25.719706  25.811642  \n",
       "2  25.124118  25.285598  25.008512  \n",
       "3  19.519606  23.237510  22.601230  \n",
       "4  21.836265  22.880450  21.577547  "
      ]
     },
     "execution_count": 22,
     "metadata": {},
     "output_type": "execute_result"
    }
   ],
   "source": [
    "data = pd.read_csv(\"data/data.tsv\", sep = \"\\t\")\n",
    "data['H1'] = data['H1'].astype(theano.config.floatX)\n",
    "data['H2'] = data['H2'].astype(theano.config.floatX)\n",
    "data['H3'] = data['H3'].astype(theano.config.floatX)\n",
    "data['L1'] = data['L1'].astype(theano.config.floatX)\n",
    "data['L2'] = data['L2'].astype(theano.config.floatX)\n",
    "data['L3'] = data['L3'].astype(theano.config.floatX)\n",
    "data.head().drop(\"taxon\", axis=1)"
   ]
  },
  {
   "cell_type": "code",
   "execution_count": 23,
   "metadata": {},
   "outputs": [
    {
     "name": "stdout",
     "output_type": "stream",
     "text": [
      "[0.8469232  0.08723227]\n",
      "[754.54590515 242.1599028 ]\n"
     ]
    },
    {
     "data": {
      "image/png": "[encoded data removed]",
      "text/plain": [
       "<Figure size 880.625x360 with 2 Axes>"
      ]
     },
     "metadata": {},
     "output_type": "display_data"
    }
   ],
   "source": [
    "from sklearn.decomposition import PCA \n",
    "x = data.values[:,2:]\n",
    "pca = PCA(n_components=2)\n",
    "pca.fit(x)\n",
    "print(pca.explained_variance_ratio_)\n",
    "print(pca.singular_values_)\n",
    "x_transformed = pca.transform(x)\n",
    "pca_data = pd.DataFrame({\"taxon\": data.taxon, \"PC1\": x_transformed[:,0], \"PC2\": x_transformed[:,1]})\n",
    "myPlot = sns.FacetGrid(col=\"taxon\", hue='taxon', data=pca_data, size=5)\n",
    "myPlot = myPlot.map(plt.scatter, \"PC1\", \"PC2\", alpha=0.3)\n",
    "myPlot = myPlot.map_dataframe(plt.plot, [min(pca_data.PC1),max(pca_data.PC1)], [0, 0], 'r-').add_legend().set_axis_labels(\"PC1\", \"PC2\")\n",
    "plt.show()"
   ]
  },
  {
   "cell_type": "code",
   "execution_count": null,
   "metadata": {},
   "outputs": [],
   "source": [
    "x=np.mean(data[[\"H1\",\"H2\",\"H3\"]].values, axis=1)\n",
    "y=np.mean(data[[\"L1\",\"L2\",\"L3\"]].values, axis=1)\n",
    "# colors=[\"red\", \"blue\"]\n",
    "# for i, taxon in enumerate([\"Escherichia coli (strain K12)\", \"Homo sapiens\"]):\n",
    "#     plt.scatter(x=x[data.taxon == taxon],y=y[data.taxon == taxon], c=colors[i],label=taxon, alpha=0.5)\n",
    "# def abline(slope, intercept):\n",
    "#     \"\"\"Plot a line from slope and intercept\"\"\"\n",
    "#     axes = plt.gca()\n",
    "#     x_vals = np.array(axes.get_xlim())\n",
    "#     y_vals = intercept + slope * x_vals\n",
    "#     plt.plot(x_vals, y_vals, '--',color=\"green\")\n",
    "# abline(1,0)\n",
    "# plt.legend()\n",
    "# plt.show()\n"
   ]
  },
  {
   "cell_type": "code",
   "execution_count": null,
   "metadata": {},
   "outputs": [],
   "source": [
    "from numpy.linalg import norm\n",
    "p1 = np.array([0,0])\n",
    "p2 = np.array([1,1])\n",
    "indices = [data.taxon == \"Homo sapiens\", data.taxon != \"Homo sapiens\"]\n",
    "hsapiens_d, ecoli_d =np.array([[norm(np.cross(p2-p1, p1-p3))/norm(p2-p1) for p3 in zip(x[idx],y[idx])] for idx in indices])\n",
    "print(np.mean(hsapiens_d))\n",
    "print(np.mean(ecoli_d))"
   ]
  },
  {
   "cell_type": "code",
   "execution_count": null,
   "metadata": {},
   "outputs": [],
   "source": [
    "features = pd.read_csv(\"data/advanced_features.tsv\", sep = \"\\t\").iloc[:,1:]\n",
    "features=features.iloc[data.index,:]\n",
    "n_seq_feat = features.shape[1]\n",
    "print(\"Number of sequence features {}\".format(n_seq_feat))\n",
    "n_prots = len(np.unique(data.protein))\n",
    "print(\"Number of proteins {}\".format(n_prots))\n",
    "n_peptides = data.shape[0]\n",
    "print(\"Number of peptides {}\".format(n_peptides))\n",
    "print(\"This is the first row of the features array:\")\n",
    "print(features.shape)\n",
    "print(features.iloc[:1,:])\n",
    "features.head()"
   ]
  },
  {
   "cell_type": "markdown",
   "metadata": {},
   "source": [
    "### Every protein has at least two peptides"
   ]
  },
  {
   "cell_type": "code",
   "execution_count": null,
   "metadata": {},
   "outputs": [],
   "source": [
    "counts = np.unique(np.unique(data.protein, return_counts=True)[1], return_counts=True)\n",
    "pd.DataFrame(np.array([counts[0], counts[1]]).T, columns = [\"n_peptides\", \"n_prots\"]).head(10)"
   ]
  },
  {
   "cell_type": "code",
   "execution_count": null,
   "metadata": {},
   "outputs": [],
   "source": [
    "n_peptides = 2\n",
    "prots, counts = np.unique(data.protein, return_counts=True)\n",
    "prots = prots[counts == n_peptides]\n",
    "data.loc[data.protein.isin(prots).values & (data.taxon == \"Homo sapiens\"),:].sort_values(\"protein\").head(10)"
   ]
  },
  {
   "cell_type": "markdown",
   "metadata": {},
   "source": [
    "### Load data"
   ]
  },
  {
   "cell_type": "code",
   "execution_count": null,
   "metadata": {},
   "outputs": [],
   "source": [
    "msbay = MSBay(data, features)"
   ]
  },
  {
   "cell_type": "markdown",
   "metadata": {},
   "source": [
    "### Instantiate model"
   ]
  },
  {
   "cell_type": "code",
   "execution_count": null,
   "metadata": {},
   "outputs": [],
   "source": [
    "model = msbay.compile_model(n_peptides=n_peptides)"
   ]
  },
  {
   "cell_type": "markdown",
   "metadata": {},
   "source": [
    "### Load data for specific protein"
   ]
  },
  {
   "cell_type": "code",
   "execution_count": null,
   "metadata": {},
   "outputs": [],
   "source": [
    "msbay.load_data(p)"
   ]
  },
  {
   "cell_type": "markdown",
   "metadata": {},
   "source": [
    "### Run model!!!!\n"
   ]
  },
  {
   "cell_type": "code",
   "execution_count": null,
   "metadata": {},
   "outputs": [],
   "source": [
    "trace_nuts = msbay.sample(model_name=p,n_draws=1000, n_chains=3)"
   ]
  },
  {
   "cell_type": "code",
   "execution_count": null,
   "metadata": {},
   "outputs": [],
   "source": [
    "trace_advi = msbay.fit(model_name=p, n_draws=50000)"
   ]
  },
  {
   "cell_type": "code",
   "execution_count": null,
   "metadata": {},
   "outputs": [],
   "source": [
    "# traces=[]\n",
    "# with model:\n",
    "#     trace_name = \"traces/{}\".format(p)\n",
    "#     print(trace_name)\n",
    "#     trace = pm.backends.text.load(trace_name)\n",
    "#     traces.append(trace)"
   ]
  },
  {
   "cell_type": "code",
   "execution_count": null,
   "metadata": {},
   "outputs": [],
   "source": [
    "pm.plot_posterior(trace_nuts, varnames=[\"estimate\"], ref_val=np.log2(3), color='LightSeaGreen', rope=[-0.4, 0.4])\n",
    "plt.savefig(\"plots/posteriors/{}_nuts.png\".format(p))\n",
    "pm.plot_posterior(trace_advi, varnames=[\"estimate\"], ref_val=np.log2(3), color='LightSeaGreen', rope=[-0.4, 0.4])\n",
    "plt.savefig(\"plots/posteriors/{}_advi.png\".format(p))"
   ]
  },
  {
   "cell_type": "code",
   "execution_count": null,
   "metadata": {},
   "outputs": [],
   "source": [
    "pm.traceplot(trace_nuts, varnames=[\"estimate\"])\n",
    "pm.traceplot(trace_advi, varnames=[\"estimate\"])"
   ]
  },
  {
   "cell_type": "code",
   "execution_count": null,
   "metadata": {},
   "outputs": [],
   "source": [
    "from pymc3 import sample_ppc\n",
    "with model:\n",
    "    sim = sample_ppc(trace_advi, samples=500)[\"obs\"]"
   ]
  },
  {
   "cell_type": "code",
   "execution_count": null,
   "metadata": {},
   "outputs": [],
   "source": [
    "sim=sim[:,0,:]"
   ]
  },
  {
   "cell_type": "code",
   "execution_count": null,
   "metadata": {},
   "outputs": [],
   "source": [
    "peps = list(map(lambda i: sim[:, (i*6):((i*6)+6)], range(n_peptides)))\n",
    "estimates = list(map(lambda x: np.mean(x[:,:3], axis=1) - np.mean(x[:,3:6], axis=1), peps))\n",
    "fig, ax = plt.subplots(1,n_peptides, figsize=(15,5))\n",
    "[ax[i].hist(e) for i, e in enumerate(estimates)]\n",
    "# [plt.hist(e, bins=30) for e in estimates]"
   ]
  },
  {
   "cell_type": "code",
   "execution_count": null,
   "metadata": {},
   "outputs": [],
   "source": [
    "sim_transformed = pca.transform(np.vstack(peps))\n",
    "sim_transformed\n",
    "plt.scatter(sim_transformed[:,0], sim_transformed[:,1], label=\"Sim obs\")\n",
    "obs = data.loc[data.protein == p].iloc[:,2:]\n",
    "obs_transformed = pca.transform(obs)\n",
    "plt.scatter(obs_transformed[:,0], obs_transformed[:,1], c = \"red\", label=\"True obs\")\n",
    "plt.legend()\n",
    "plt.xlabel(\"PC1\")\n",
    "plt.ylabel(\"PC2\")"
   ]
  },
  {
   "cell_type": "code",
   "execution_count": null,
   "metadata": {},
   "outputs": [],
   "source": [
    "prots, counts = np.unique(data.protein, return_counts=True)\n",
    "proteins = {c: prots[counts == c] for c in counts}\n",
    "test_prots = np.random.choice(proteins[2],size=10)"
   ]
  },
  {
   "cell_type": "code",
   "execution_count": null,
   "metadata": {},
   "outputs": [],
   "source": [
    "test_prots"
   ]
  },
  {
   "cell_type": "code",
   "execution_count": null,
   "metadata": {},
   "outputs": [],
   "source": [
    "traces = []\n",
    "for p in test_prots:\n",
    "    model = msbay.load_data(p)\n",
    "    traces.append(msbay.fit(model_name=p,n_draws=50000))"
   ]
  },
  {
   "cell_type": "code",
   "execution_count": null,
   "metadata": {},
   "outputs": [],
   "source": [
    "for i in range(len(test_prots)):\n",
    "    pm.plot_posterior(traces[i], varnames=[\"estimate\"], ref_val=np.log2(3), color='LightSeaGreen', rope=[-0.4, 0.4])\n",
    "    plt.savefig(\"plots/posteriors/{}.png\".format(test_prots[i]))\n",
    "    plt.close()"
   ]
  },
  {
   "cell_type": "code",
   "execution_count": null,
   "metadata": {},
   "outputs": [],
   "source": [
    "RSqM = pd.concat([pm.summary(traces[i], varnames=[\"estimate\"]) for i in range(len(test_prots))])\n",
    "RSqM.index = test_prots\n",
    "RSqM.to_csv(\"data/RSqM.tsv\", sep = \"\\t\")"
   ]
  },
  {
   "cell_type": "code",
   "execution_count": 10,
   "metadata": {},
   "outputs": [
    {
     "data": {
      "text/html": [
       "<div>\n",
       "<style scoped>\n",
       "    .dataframe tbody tr th:only-of-type {\n",
       "        vertical-align: middle;\n",
       "    }\n",
       "\n",
       "    .dataframe tbody tr th {\n",
       "        vertical-align: top;\n",
       "    }\n",
       "\n",
       "    .dataframe thead th {\n",
       "        text-align: right;\n",
       "    }\n",
       "</style>\n",
       "<table border=\"1\" class=\"dataframe\">\n",
       "  <thead>\n",
       "    <tr style=\"text-align: right;\">\n",
       "      <th></th>\n",
       "      <th>mean</th>\n",
       "      <th>sd</th>\n",
       "      <th>mc_error</th>\n",
       "      <th>hpd_2.5</th>\n",
       "      <th>hpd_97.5</th>\n",
       "    </tr>\n",
       "  </thead>\n",
       "  <tbody>\n",
       "    <tr>\n",
       "      <th>P17275</th>\n",
       "      <td>0.024138</td>\n",
       "      <td>0.033738</td>\n",
       "      <td>0.001297</td>\n",
       "      <td>-0.025666</td>\n",
       "      <td>0.115376</td>\n",
       "    </tr>\n",
       "    <tr>\n",
       "      <th>P57740;G3V1T4</th>\n",
       "      <td>-0.135195</td>\n",
       "      <td>0.055406</td>\n",
       "      <td>0.002328</td>\n",
       "      <td>-0.240224</td>\n",
       "      <td>-0.028212</td>\n",
       "    </tr>\n",
       "    <tr>\n",
       "      <th>Q9H0U4;E9PLD0</th>\n",
       "      <td>0.303455</td>\n",
       "      <td>0.131120</td>\n",
       "      <td>0.006351</td>\n",
       "      <td>0.095746</td>\n",
       "      <td>0.581328</td>\n",
       "    </tr>\n",
       "    <tr>\n",
       "      <th>P52569;P52569-3;P52569-2</th>\n",
       "      <td>0.456605</td>\n",
       "      <td>0.180972</td>\n",
       "      <td>0.009014</td>\n",
       "      <td>0.128732</td>\n",
       "      <td>0.795744</td>\n",
       "    </tr>\n",
       "    <tr>\n",
       "      <th>P39298</th>\n",
       "      <td>1.868894</td>\n",
       "      <td>0.113901</td>\n",
       "      <td>0.005006</td>\n",
       "      <td>1.625516</td>\n",
       "      <td>2.066140</td>\n",
       "    </tr>\n",
       "  </tbody>\n",
       "</table>\n",
       "</div>"
      ],
      "text/plain": [
       "                              mean        sd  mc_error   hpd_2.5  hpd_97.5\n",
       "P17275                    0.024138  0.033738  0.001297 -0.025666  0.115376\n",
       "P57740;G3V1T4            -0.135195  0.055406  0.002328 -0.240224 -0.028212\n",
       "Q9H0U4;E9PLD0             0.303455  0.131120  0.006351  0.095746  0.581328\n",
       "P52569;P52569-3;P52569-2  0.456605  0.180972  0.009014  0.128732  0.795744\n",
       "P39298                    1.868894  0.113901  0.005006  1.625516  2.066140"
      ]
     },
     "execution_count": 10,
     "metadata": {},
     "output_type": "execute_result"
    }
   ],
   "source": [
    "RSqM = pd.read_csv(\"data/RSqM.tsv\", sep = \"\\t\", index_col=0)\n",
    "RSqM.head()"
   ]
  },
  {
   "cell_type": "code",
   "execution_count": 27,
   "metadata": {},
   "outputs": [],
   "source": [
    "RSqM[\"taxon\"] = [data.loc[data.protein == p,:][\"taxon\"].values[0] for p in RSqM.index.values]"
   ]
  },
  {
   "cell_type": "code",
   "execution_count": 28,
   "metadata": {},
   "outputs": [
    {
     "name": "stdout",
     "output_type": "stream",
     "text": [
      "The rpy2.ipython extension is already loaded. To reload it, use:\n",
      "  %reload_ext rpy2.ipython\n"
     ]
    },
    {
     "data": {
      "text/plain": [
       "array(['ggalt', 'tidyr', 'ggplot2', 'tools', 'RevoUtils', 'stats',\n",
       "       'graphics', 'grDevices', 'utils', 'datasets', 'methods', 'base'],\n",
       "      dtype='<U9')"
      ]
     },
     "execution_count": 28,
     "metadata": {},
     "output_type": "execute_result"
    }
   ],
   "source": [
    "%load_ext rpy2.ipython\n",
    "%R library(ggplot2); library(tidyr); library(ggalt)"
   ]
  },
  {
   "cell_type": "code",
   "execution_count": 30,
   "metadata": {},
   "outputs": [
    {
     "data": {
      "text/plain": [
       "                                mean         sd    mc_error     hpd_2.5\n",
       "P17275                    0.02413839 0.03373756 0.001296929 -0.02566617\n",
       "P57740;G3V1T4            -0.13519543 0.05540610 0.002327578 -0.24022447\n",
       "Q9H0U4;E9PLD0             0.30345537 0.13111953 0.006351381  0.09574630\n",
       "P52569;P52569-3;P52569-2  0.45660463 0.18097200 0.009014415  0.12873170\n",
       "P39298                    1.86889359 0.11390069 0.005006212  1.62551629\n",
       "Q9UKY1                    0.02666288 0.19223999 0.007679867 -0.35934216\n",
       "Q9Y3D0                    0.73174491 0.34041936 0.016123430  0.17778857\n",
       "P69228                    1.54103201 0.10068885 0.004611348  1.34987639\n",
       "O00148                    0.28885393 0.11347340 0.005101664  0.10302127\n",
       "P23003                    1.11931214 0.13918370 0.006885339  0.84907135\n",
       "                           hpd_97.5                         taxon\n",
       "P17275                    0.1153755                  Homo sapiens\n",
       "P57740;G3V1T4            -0.0282122                  Homo sapiens\n",
       "Q9H0U4;E9PLD0             0.5813283                  Homo sapiens\n",
       "P52569;P52569-3;P52569-2  0.7957444                  Homo sapiens\n",
       "P39298                    2.0661404 Escherichia coli (strain K12)\n",
       "Q9UKY1                    0.4890685                  Homo sapiens\n",
       "Q9Y3D0                    1.4322563                  Homo sapiens\n",
       "P69228                    1.7448062 Escherichia coli (strain K12)\n",
       "O00148                    0.5415144                  Homo sapiens\n",
       "P23003                    1.3815483 Escherichia coli (strain K12)\n",
       "                                          protein\n",
       "P17275                                     P17275\n",
       "P57740;G3V1T4                       P57740;G3V1T4\n",
       "Q9H0U4;E9PLD0                       Q9H0U4;E9PLD0\n",
       "P52569;P52569-3;P52569-2 P52569;P52569-3;P52569-2\n",
       "P39298                                     P39298\n",
       "Q9UKY1                                     Q9UKY1\n",
       "Q9Y3D0                                     Q9Y3D0\n",
       "P69228                                     P69228\n",
       "O00148                                     O00148\n",
       "P23003                                     P23003\n"
      ]
     },
     "metadata": {},
     "output_type": "display_data"
    }
   ],
   "source": [
    "%%R -i RSqM\n",
    "RSqM$protein <- rownames(RSqM)\n",
    "RSqM"
   ]
  },
  {
   "cell_type": "code",
   "execution_count": 54,
   "metadata": {},
   "outputs": [
    {
     "name": "stderr",
     "output_type": "stream",
     "text": [
      "/home/antortjim/anaconda3/envs/bayesian/lib/python3.6/site-packages/rpy2/rinterface/__init__.py:145: RRuntimeWarning: Warning:\n",
      "  warnings.warn(x, RRuntimeWarning)\n",
      "/home/antortjim/anaconda3/envs/bayesian/lib/python3.6/site-packages/rpy2/rinterface/__init__.py:145: RRuntimeWarning:  Ignoring unknown parameters: point.colour.l\n",
      "\n",
      "  warnings.warn(x, RRuntimeWarning)\n",
      "/home/antortjim/anaconda3/envs/bayesian/lib/python3.6/site-packages/rpy2/rinterface/__init__.py:145: RRuntimeWarning: Saving 6.67 x 6.67 in image\n",
      "\n",
      "  warnings.warn(x, RRuntimeWarning)\n"
     ]
    },
    {
     "data": {
      "image/png": "[encoded data removed]"
     },
     "metadata": {},
     "output_type": "display_data"
    }
   ],
   "source": [
    "%%R\n",
    "p <- ggplot(RSqM, aes(x=hpd_2.5, xend=hpd_97.5, y = protein, color=taxon)) +\n",
    "       geom_vline(xintercept=-0.4, col=\"red\", linetype=\"dashed\") +\n",
    "       geom_vline(xintercept=0.4, col=\"red\", linetype=\"dashed\") +\n",
    "       geom_dumbbell(size=0.75,\n",
    "                     point.colour.l=\"#0e668b\") +\n",
    "    geom_point(aes(x=mean, y = protein)) +\n",
    "        labs(x=NULL, \n",
    "             y=NULL, \n",
    "             title=\"Performance\" \n",
    "#              subtitle=\"Pct Change: 2013 vs 2014\", \n",
    "#              caption=\"Source: https://github.com/hrbrmstr/ggalt\"\n",
    "            ) +        \n",
    "    theme(plot.title = element_text(hjust=0.5, face=\"bold\"),\n",
    "              plot.background=element_rect(fill=\"#f7f7f7\"),\n",
    "              panel.background=element_rect(fill=\"#f7f7f7\"),\n",
    "              panel.grid.minor=element_blank(),\n",
    "              panel.grid.major.y=element_blank(),\n",
    "              panel.grid.major.x=element_line(),\n",
    "              axis.ticks=element_blank(),\n",
    "              legend.position=\"top\",\n",
    "              panel.border=element_blank()) +\n",
    "    xlab(\"log2FC 95% HDI\")\n",
    "ggsave(\"plots/performance.png\")\n",
    "p"
   ]
  }
 ],
 "metadata": {
  "kernelspec": {
   "display_name": "Python (bayesian)",
   "language": "python",
   "name": "bayesian"
  },
  "language_info": {
   "codemirror_mode": {
    "name": "ipython",
    "version": 3
   },
   "file_extension": ".py",
   "mimetype": "text/x-python",
   "name": "python",
   "nbconvert_exporter": "python",
   "pygments_lexer": "ipython3",
   "version": "3.6.5"
  }
 },
 "nbformat": 4,
 "nbformat_minor": 2
}
