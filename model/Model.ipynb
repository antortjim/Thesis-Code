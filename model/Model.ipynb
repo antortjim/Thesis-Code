{
 "cells": [
  {
   "cell_type": "markdown",
   "metadata": {},
   "source": [
    "## This notebook builds a probabilistic model with Pymc3 to extend the MSqRob ridge regression model\n",
    "https://www.ncbi.nlm.nih.gov/pubmed/28391044\n",
    "$$\n",
    "y_{ijkl} = \\beta_{ij}^{treatment} + \\beta_{ik}^{peptide} + \\beta_{il}^{run} + \\epsilon_{in}\n",
    "$$\n",
    "\n",
    "where $y$ stands for the $log_2$-transformed intensity of each peptide $k$ in run $l$ and condition $j$ that belong to protein $i$. $n$ is the $n^{th}$ peptide and $\\epsilon$ is an noise term following a normal distribution with $mu$ = 0 and sigma $\\sigma_i$ specific to the protein.\n",
    "Each $\\beta$ models a different effect on the final intensity measurement. The treatment effect \\beta^{treatment} can be regarded as an estimate of the $\\log_2$ protein quantity. Thus, $\\beta_{ij}^{treatment A} - \\beta_{ij}^{treatment B}$ is an estimate of the $log_2$ fold change of protein $i$ between conditions A and B.\n",
    "\n",
    "Independent ridge regression models are built for all N peptides under protein $i$."
   ]
  },
  {
   "cell_type": "markdown",
   "metadata": {},
   "source": [
    "In this notebook, the fold change of the proteins detected in the MaxLFQ proteomebenchmark dataset: https://www.ebi.ac.uk/pride/archive/projects/PXD000279 is modeled in a similar way with a new extension.\n",
    "\n",
    "The peptides.txt file from MaxQuant was read in R and preprocessed with MSqRob preprocess_MaxQuant().\n",
    "\n",
    "Sequence features are extracted from each peptide to better capture the sequence variability inherent to each peptide.\n",
    "The sequence features were extracted using the protr package in R using extractAPAAC(), which yields a numeric vector of 32 features for each peptide, independent of length.\n",
    "Additionally to these 3 features, the number of missed cleavages of the peptide, and an integer encoding the neighboring residues of the peptide in the protein were added to the features, giving 35 features in total.\n",
    "\n",
    "The sequence features are used to model the peptide effect \\beta_{ik}^{peptide}.\n",
    "\n",
    "$$\n",
    "\\beta_{ik}^{peptide} = \\theta * features_{ik}\n",
    "$$\n",
    "\n",
    "which multiplies the intensities $y$ in the ridge regression model above, rendering a new model:\n",
    "\n",
    "$$\n",
    "y_{ijkln} = \\beta^{treatment}_{ij} \\beta_{ik}^{peptide} + + \\beta_{il}^{run} + \\epsilon_{in}\n",
    "$$\n"
   ]
  },
  {
   "cell_type": "code",
   "execution_count": 438,
   "metadata": {},
   "outputs": [],
   "source": [
    "import pymc3 as pm\n",
    "import theano"
   ]
  },
  {
   "cell_type": "code",
   "execution_count": 439,
   "metadata": {},
   "outputs": [],
   "source": [
    "import pandas as pd\n",
    "import os.path\n",
    "import glob\n",
    "import numpy as np\n",
    "import matplotlib.pyplot as plt\n",
    "from tqdm import tqdm\n",
    "np.random.seed(123)\n",
    "import seaborn as sns\n",
    "sns.set_style('whitegrid')"
   ]
  },
  {
   "cell_type": "code",
   "execution_count": 421,
   "metadata": {},
   "outputs": [],
   "source": [
    "# %load MSBay.py\n",
    "import pymc3 as pm\n",
    "import numpy as np\n",
    "import matplotlib.pyplot as plt\n",
    "from theano import shared\n",
    "import shutil\n",
    "import os\n",
    "from exp_annot_funcs import *\n",
    "import sys\n",
    "\n",
    "\n",
    "class MSBay:\n",
    "\n",
    "    \"Compile a MS-Bay model, load data into it and infer the posterior\"\n",
    "\n",
    "    def __init__(self, data, features=None):\n",
    "       self.data = data\n",
    "       self.features = features\n",
    "\n",
    "    def compile_model(self, n_peptides, hierarchical_center=False):\n",
    "\n",
    "\n",
    "        if self.features is None:\n",
    "             sequence=False\n",
    "        elif isinstance(self.features, pd.DataFrame):\n",
    "             sequence = True\n",
    "        else:\n",
    "             sys.exit(\"Please set features to either None or a pd.DataFrame\")\n",
    "\n",
    "\n",
    "        self.observed_sh  = shared(np.array([0.,]*6*n_peptides))\n",
    "        self.feats_sh  = shared(np.array([[0.,]*9,]*n_peptides))\n",
    "        self.x_treat_sh  = shared(np.array([[0.,]*2,]*6*n_peptides))\n",
    "        self.x_pep_sh  = shared(np.array([[0.,]*n_peptides,]*6*n_peptides))\n",
    "        self.x_run_sh  = shared(np.array([[0.,]*6,]*6*n_peptides))\n",
    "        self.x_estimate_sh  = shared(np.array([[0.,]*2,]*1))\n",
    "     \n",
    "        # The number of proteins in this model is always one\n",
    "        # i.e this model is fitted protein-wise\n",
    "        n_prots = 1\n",
    "        # The number of features is set to 9 for now\n",
    "        # All peptides have 9 features, stored in feats_shared\n",
    "        n_features = 9\n",
    "        \n",
    "    \n",
    "        with pm.Model() as model:\n",
    "               \n",
    "            # Build a hyerarchical linear model of\n",
    "            # log2(MS1 intensities) by accounting for:\n",
    "    \n",
    "                 # Peptide effect\n",
    "                 # Run (batch) effect\n",
    "                 # Treatment effect\n",
    "                 # Remaining random effects\n",
    "    \n",
    "            # The difference in treatment effects is an estimate of the log2FC\n",
    "    \n",
    "    \n",
    "            # Set a prior on the intercept\n",
    "            intercept = pm.Normal(\"intercept\", 22, 1)\n",
    "            \n",
    "            # Set a prior on the remaining random effects\n",
    "            sigma = pm.HalfNormal('sigma', 1)\n",
    "    \n",
    "            ## Set priors on the peptide effect\n",
    "            ################################################\n",
    "            sigma_pep = pm.HalfNormal('sigma_pep', 1)\n",
    "    \n",
    "            # Not using the sequence\n",
    "            if not sequence:\n",
    "                mu_pep = pm.Normal('mu_pep', mu=0, sd=sigma_pep, shape=(n_peptides, 1))\n",
    "    \n",
    "            # Using the peptide sequence\n",
    "            else: \n",
    "                # sequence based modelling\n",
    "                mu_theta = pm.Normal('theta_generic', 0, sigma_pep, shape = 1)\n",
    "                theta = pm.Normal('theta', mu_theta, sigma_pep, shape = (n_features, 1))    # 9x1\n",
    "                theta_inter = pm.Normal('theta_inter', mu_theta, sigma_pep, shape = 1)\n",
    "                mu_pep = pm.Deterministic(\"mu_pep\", theta_inter + self.feats_sh.dot(theta)) # n_peptidesx1\n",
    "    \n",
    "    \n",
    "            ## Set priors on the treatment and run effects\n",
    "            ################################################    \n",
    "            sigma_treat = pm.HalfNormal('sigma_treat', 1)\n",
    "            mu_treat = pm.Normal('mu_treat', 0, sigma_treat)\n",
    "            sigma_run = pm.HalfNormal('sigma_run', 1)\n",
    "            mu_run = pm.Normal('mu_run', 0, sigma_run)\n",
    "    \n",
    "            # Standard implementation of the hyerarchies\n",
    "            if hierarchical_center:\n",
    "                pep = pm.Normal(\"pep\", mu_pep, sigma_pep) # n_peptidesx1\n",
    "                treat = pm.Normal('treat', mu_treat, sigma_treat, shape = (n_prots*2, 1))\n",
    "                run = pm.Normal('run', mu_run, sigma_run, shape = (n_prots*6, 1))\n",
    "    \n",
    "            # Reparametrization to escape funnel of hell as noted in\n",
    "            # http://twiecki.github.io/blog/2017/02/08/bayesian-hierchical-non-centered/\n",
    "            else:\n",
    "                pep_offset = pm.Normal(\"pep_offset\", mu=0, sd=1, shape = (n_peptides, 1))\n",
    "                pep = pm.Deterministic(\"pep\", mu_pep + pep_offset * sigma_pep)\n",
    "                treat_offset = pm.Normal(\"treat_offset\", mu=0, sd=1, shape=(n_prots*2, 1))\n",
    "                treat = pm.Deterministic(\"treat\", mu_treat + treat_offset*sigma_treat)\n",
    "                run_offset = pm.Normal(\"run_offset\", mu=0, sd=1, shape=(n_prots*6, 1))\n",
    "                run = pm.Deterministic(\"run\", mu_run + run_offset*sigma_run)\n",
    "    \n",
    "    \n",
    "            # Model the effect for all peptides\n",
    "            # The sh variables consist of -1,0,1 matrices telling pymc3\n",
    "            # which parameters shall be used with each peptide\n",
    "            # In practice, the \"clone\" each parameter to fit the shape of observed_sh\n",
    "            # observed_sh is a n_peptides*6x1 tensor\n",
    "            # The first 6 numbers store the MS1 intensities of the first peptide in the 6 runs\n",
    "            # The next 6 those of the second peptide, and so on\n",
    "    \n",
    "            #estimate = pm.Deterministic('estimate', pm.math.sum(self.x_estimate_sh.dot(treat), axis=1))\n",
    "            estimate = pm.Deterministic('estimate', self.x_estimate_sh.dot(treat))\n",
    "            treatment_effect = pm.Deterministic(\"treatment_effect\", pm.math.sum(self.x_treat_sh.dot(treat), axis=1))\n",
    "            peptide_effect = pm.Deterministic(\"peptide_effect\", pm.math.sum(self.x_pep_sh.dot(pep), axis=1))\n",
    "            run_effect = pm.Deterministic(\"run_effect\", pm.math.sum(self.x_run_sh.dot(run), axis=1))\n",
    "    \n",
    "            # BIND MODEL TO DATA\n",
    "            mu = pm.Deterministic(\"mu\", \n",
    "                intercept + treatment_effect + peptide_effect + run_effect) #n_peptides*6x1\n",
    "            if hierarchical_center:\n",
    "                obs = pm.Normal(\"obs\", mu, sigma, observed=self.observed_sh)\n",
    "            else:\n",
    "                obs_offset = pm.Normal(\"obs_offset\", mu=0, sd=1, shape=(n_peptides*6,1))\n",
    "                obs = pm.Normal(\"obs\", mu+obs_offset*sigma, sigma, observed=self.observed_sh)\n",
    "    \n",
    "    \n",
    "        print(\"Success: Model compiled\")\n",
    "\n",
    "        self.model = model\n",
    "        return model\n",
    "    \n",
    "    def sample(self, model_name, n_draws=1000, n_chains=3, remove_backend=True):\n",
    "    \n",
    "        # Check working environment  \n",
    "        if not os.path.isdir(\"traces\") or not os.path.isdir(\"plots/traceplots\"):\n",
    "            msg = \"Please create a traces dir and a plots/traceplots dir before running this code\"\n",
    "            raise Exception(msg)\n",
    "    \n",
    "        if remove_backend and os.path.isdir(\"traces/{}\".format(model_name)):\n",
    "            shutil.rmtree(\"traces/{}\".format(model_name))\n",
    "    \n",
    "    \n",
    "        with self.model:\n",
    "            # Parameters of the simulation:\n",
    "            # Number of iterations and independent chains.\n",
    "            n_sim = n_draws*n_chains\n",
    "    \n",
    "            # Save traces to the Text backend i.e a folder called\n",
    "            # model_name containing csv files for each chain\n",
    "            trace_name = 'traces/{}'.format(model_name)\n",
    "            db = pm.backends.Text(trace_name)\n",
    "            trace = pm.sample(draws=n_draws, njobs=n_chains, trace=db,\n",
    "                              tune=2000, nuts_kwargs=dict(target_accept=.95))\n",
    "        \n",
    "        # Save a traceplot \n",
    "        pm.traceplot(trace, varnames=[\"estimate\"])\n",
    "        traceplot = \"plots/traceplots/{}.png\".format(model_name)\n",
    "        plt.savefig(traceplot)\n",
    "        plt.close()\n",
    "           \n",
    "        return trace\n",
    "\n",
    "    def fit(self, model_name, n_draws):\n",
    "\n",
    "        with self.model:\n",
    "            \n",
    "            inference = pm.ADVI()\n",
    "            # how can the trace be saved when using pm.fit??\n",
    "            trace = pm.fit(n=n_draws, method=inference).sample()\n",
    "\n",
    "        plt.plot(-inference.hist, alpha=.5)\n",
    "        plt.legend()\n",
    "        plt.ylabel('ELBO')\n",
    "        plt.xlabel('iteration');\n",
    "        plt.savefig(\"plots/ELBO/{}\".format(model_name))\n",
    "        plt.close()\n",
    "        \n",
    "        return trace\n",
    "    \n",
    "    def load_data(self, p, top=3):\n",
    "    \n",
    "        df = pd.DataFrame({\"std\": np.std(self.data.loc[self.data.protein == p,:].iloc[:,2:5].values, axis=1) + np.std(self.data.loc[self.data.protein == p,:].iloc[:,5:8].values, axis=1)})\n",
    "        best_data = self.data.loc[self.data.protein == p,:].iloc[df.sort_values(by=\"std\", ascending=True).iloc[:top,:].index,:]\n",
    "\n",
    "        print(best_data)\n",
    "\n",
    "        variables = create_variables(best_data, self.features, [p])\n",
    "        observed, feats, x_treat, x_pep, x_run, x_estimate = variables\n",
    "\n",
    "        self.observed_sh.set_value(observed)\n",
    "        if feats is not None:\n",
    "            self.feats_sh.set_value(feats)    \n",
    "\n",
    "        self.x_treat_sh.set_value(x_treat)\n",
    "        self.x_pep_sh.set_value(x_pep)\n",
    "        self.x_run_sh.set_value(x_run)\n",
    "        self.x_estimate_sh.set_value(x_estimate)\n"
   ]
  },
  {
   "cell_type": "code",
   "execution_count": 422,
   "metadata": {},
   "outputs": [
    {
     "data": {
      "text/html": [
       "<div>\n",
       "<style scoped>\n",
       "    .dataframe tbody tr th:only-of-type {\n",
       "        vertical-align: middle;\n",
       "    }\n",
       "\n",
       "    .dataframe tbody tr th {\n",
       "        vertical-align: top;\n",
       "    }\n",
       "\n",
       "    .dataframe thead th {\n",
       "        text-align: right;\n",
       "    }\n",
       "</style>\n",
       "<table border=\"1\" class=\"dataframe\">\n",
       "  <thead>\n",
       "    <tr style=\"text-align: right;\">\n",
       "      <th></th>\n",
       "      <th>protein</th>\n",
       "      <th>H1</th>\n",
       "      <th>H2</th>\n",
       "      <th>H3</th>\n",
       "      <th>L1</th>\n",
       "      <th>L2</th>\n",
       "      <th>L3</th>\n",
       "    </tr>\n",
       "  </thead>\n",
       "  <tbody>\n",
       "    <tr>\n",
       "      <th>0</th>\n",
       "      <td>P37108</td>\n",
       "      <td>28.181535</td>\n",
       "      <td>28.006834</td>\n",
       "      <td>28.006941</td>\n",
       "      <td>27.133594</td>\n",
       "      <td>27.969390</td>\n",
       "      <td>27.869266</td>\n",
       "    </tr>\n",
       "    <tr>\n",
       "      <th>1</th>\n",
       "      <td>Q96P70</td>\n",
       "      <td>26.121057</td>\n",
       "      <td>25.893423</td>\n",
       "      <td>26.436157</td>\n",
       "      <td>25.421240</td>\n",
       "      <td>25.719706</td>\n",
       "      <td>25.811642</td>\n",
       "    </tr>\n",
       "    <tr>\n",
       "      <th>2</th>\n",
       "      <td>Q9Y2U8</td>\n",
       "      <td>22.398509</td>\n",
       "      <td>23.542741</td>\n",
       "      <td>24.042266</td>\n",
       "      <td>25.124118</td>\n",
       "      <td>25.285598</td>\n",
       "      <td>25.008512</td>\n",
       "    </tr>\n",
       "    <tr>\n",
       "      <th>3</th>\n",
       "      <td>Q9BTD8-4;Q9BTD8-2;Q9BTD8-3;Q9BTD8</td>\n",
       "      <td>23.337153</td>\n",
       "      <td>22.611060</td>\n",
       "      <td>23.675084</td>\n",
       "      <td>19.519606</td>\n",
       "      <td>23.237510</td>\n",
       "      <td>22.601230</td>\n",
       "    </tr>\n",
       "    <tr>\n",
       "      <th>4</th>\n",
       "      <td>Q9P258</td>\n",
       "      <td>22.545124</td>\n",
       "      <td>20.359925</td>\n",
       "      <td>22.185649</td>\n",
       "      <td>21.836265</td>\n",
       "      <td>22.880450</td>\n",
       "      <td>21.577547</td>\n",
       "    </tr>\n",
       "  </tbody>\n",
       "</table>\n",
       "</div>"
      ],
      "text/plain": [
       "                             protein         H1         H2         H3  \\\n",
       "0                             P37108  28.181535  28.006834  28.006941   \n",
       "1                             Q96P70  26.121057  25.893423  26.436157   \n",
       "2                             Q9Y2U8  22.398509  23.542741  24.042266   \n",
       "3  Q9BTD8-4;Q9BTD8-2;Q9BTD8-3;Q9BTD8  23.337153  22.611060  23.675084   \n",
       "4                             Q9P258  22.545124  20.359925  22.185649   \n",
       "\n",
       "          L1         L2         L3  \n",
       "0  27.133594  27.969390  27.869266  \n",
       "1  25.421240  25.719706  25.811642  \n",
       "2  25.124118  25.285598  25.008512  \n",
       "3  19.519606  23.237510  22.601230  \n",
       "4  21.836265  22.880450  21.577547  "
      ]
     },
     "execution_count": 422,
     "metadata": {},
     "output_type": "execute_result"
    }
   ],
   "source": [
    "data = pd.read_csv(\"data/data.tsv\", sep = \"\\t\")\n",
    "data['H1'] = data['H1'].astype(theano.config.floatX)\n",
    "data['H2'] = data['H2'].astype(theano.config.floatX)\n",
    "data['H3'] = data['H3'].astype(theano.config.floatX)\n",
    "data['L1'] = data['L1'].astype(theano.config.floatX)\n",
    "data['L2'] = data['L2'].astype(theano.config.floatX)\n",
    "data['L3'] = data['L3'].astype(theano.config.floatX)\n",
    "data.head().drop(\"taxon\", axis=1)"
   ]
  },
  {
   "cell_type": "code",
   "execution_count": 423,
   "metadata": {},
   "outputs": [
    {
     "name": "stdout",
     "output_type": "stream",
     "text": [
      "[0.8469232  0.08723227]\n",
      "[754.54590515 242.1599028 ]\n"
     ]
    },
    {
     "data": {
      "image/png": "[encoded data removed]",
      "text/plain": [
       "<Figure size 880.625x360 with 2 Axes>"
      ]
     },
     "metadata": {},
     "output_type": "display_data"
    }
   ],
   "source": [
    "from sklearn.decomposition import PCA \n",
    "x = data.values[:,2:]\n",
    "pca = PCA(n_components=2)\n",
    "pca.fit(x)\n",
    "print(pca.explained_variance_ratio_)\n",
    "print(pca.singular_values_)\n",
    "x_transformed = pca.transform(x)\n",
    "pca_data = pd.DataFrame({\"taxon\": data.taxon, \"PC1\": x_transformed[:,0], \"PC2\": x_transformed[:,1]})\n",
    "myPlot = sns.FacetGrid(col=\"taxon\", hue='taxon', data=pca_data, size=5)\n",
    "myPlot = myPlot.map(plt.scatter, \"PC1\", \"PC2\", alpha=0.3)\n",
    "myPlot = myPlot.map_dataframe(plt.plot, [min(pca_data.PC1),max(pca_data.PC1)], [0, 0], 'r-').add_legend().set_axis_labels(\"PC1\", \"PC2\")\n",
    "plt.show()"
   ]
  },
  {
   "cell_type": "code",
   "execution_count": 424,
   "metadata": {},
   "outputs": [],
   "source": [
    "x=np.mean(data[[\"H1\",\"H2\",\"H3\"]].values, axis=1)\n",
    "y=np.mean(data[[\"L1\",\"L2\",\"L3\"]].values, axis=1)\n",
    "# colors=[\"red\", \"blue\"]\n",
    "# for i, taxon in enumerate([\"Escherichia coli (strain K12)\", \"Homo sapiens\"]):\n",
    "#     plt.scatter(x=x[data.taxon == taxon],y=y[data.taxon == taxon], c=colors[i],label=taxon, alpha=0.5)\n",
    "# def abline(slope, intercept):\n",
    "#     \"\"\"Plot a line from slope and intercept\"\"\"\n",
    "#     axes = plt.gca()\n",
    "#     x_vals = np.array(axes.get_xlim())\n",
    "#     y_vals = intercept + slope * x_vals\n",
    "#     plt.plot(x_vals, y_vals, '--',color=\"green\")\n",
    "# abline(1,0)\n",
    "# plt.legend()\n",
    "# plt.show()\n"
   ]
  },
  {
   "cell_type": "code",
   "execution_count": 425,
   "metadata": {},
   "outputs": [
    {
     "name": "stdout",
     "output_type": "stream",
     "text": [
      "0.6005208785523234\n",
      "1.6266920285619832\n"
     ]
    }
   ],
   "source": [
    "from numpy.linalg import norm\n",
    "p1 = np.array([0,0])\n",
    "p2 = np.array([1,1])\n",
    "indices = [data.taxon == \"Homo sapiens\", data.taxon != \"Homo sapiens\"]\n",
    "hsapiens_d, ecoli_d =np.array([[norm(np.cross(p2-p1, p1-p3))/norm(p2-p1) for p3 in zip(x[idx],y[idx])] for idx in indices])\n",
    "print(np.mean(hsapiens_d))\n",
    "print(np.mean(ecoli_d))"
   ]
  },
  {
   "cell_type": "code",
   "execution_count": 426,
   "metadata": {},
   "outputs": [
    {
     "name": "stdout",
     "output_type": "stream",
     "text": [
      "Number of sequence features 9\n",
      "Number of proteins 2850\n",
      "Number of peptides 17107\n",
      "This is the first row of the features array:\n",
      "(17107, 9)\n",
      "   aromaticity  composition_G  composition_K  composition_V  flexibility  \\\n",
      "0    -0.992459            1.0            0.0            0.0     1.648868   \n",
      "\n",
      "   instability    length  mass_len_ratio        hm  \n",
      "0       1.8288  1.286819       -2.053132 -1.516532  \n"
     ]
    },
    {
     "data": {
      "text/html": [
       "<div>\n",
       "<style scoped>\n",
       "    .dataframe tbody tr th:only-of-type {\n",
       "        vertical-align: middle;\n",
       "    }\n",
       "\n",
       "    .dataframe tbody tr th {\n",
       "        vertical-align: top;\n",
       "    }\n",
       "\n",
       "    .dataframe thead th {\n",
       "        text-align: right;\n",
       "    }\n",
       "</style>\n",
       "<table border=\"1\" class=\"dataframe\">\n",
       "  <thead>\n",
       "    <tr style=\"text-align: right;\">\n",
       "      <th></th>\n",
       "      <th>aromaticity</th>\n",
       "      <th>composition_G</th>\n",
       "      <th>composition_K</th>\n",
       "      <th>composition_V</th>\n",
       "      <th>flexibility</th>\n",
       "      <th>instability</th>\n",
       "      <th>length</th>\n",
       "      <th>mass_len_ratio</th>\n",
       "      <th>hm</th>\n",
       "    </tr>\n",
       "  </thead>\n",
       "  <tbody>\n",
       "    <tr>\n",
       "      <th>0</th>\n",
       "      <td>-0.992459</td>\n",
       "      <td>1.0</td>\n",
       "      <td>0.0</td>\n",
       "      <td>0.0</td>\n",
       "      <td>1.648868</td>\n",
       "      <td>1.828800</td>\n",
       "      <td>1.286819</td>\n",
       "      <td>-2.053132</td>\n",
       "      <td>-1.516532</td>\n",
       "    </tr>\n",
       "    <tr>\n",
       "      <th>1</th>\n",
       "      <td>0.841374</td>\n",
       "      <td>1.0</td>\n",
       "      <td>1.0</td>\n",
       "      <td>0.0</td>\n",
       "      <td>-0.248549</td>\n",
       "      <td>-0.573767</td>\n",
       "      <td>-0.074351</td>\n",
       "      <td>-0.396156</td>\n",
       "      <td>-0.513330</td>\n",
       "    </tr>\n",
       "    <tr>\n",
       "      <th>2</th>\n",
       "      <td>-0.992459</td>\n",
       "      <td>1.0</td>\n",
       "      <td>0.0</td>\n",
       "      <td>0.0</td>\n",
       "      <td>0.804389</td>\n",
       "      <td>1.928472</td>\n",
       "      <td>-0.852162</td>\n",
       "      <td>1.468934</td>\n",
       "      <td>2.343718</td>\n",
       "    </tr>\n",
       "    <tr>\n",
       "      <th>3</th>\n",
       "      <td>-0.992459</td>\n",
       "      <td>1.0</td>\n",
       "      <td>1.0</td>\n",
       "      <td>1.0</td>\n",
       "      <td>-0.957520</td>\n",
       "      <td>0.058742</td>\n",
       "      <td>-0.657709</td>\n",
       "      <td>-1.121271</td>\n",
       "      <td>0.094526</td>\n",
       "    </tr>\n",
       "    <tr>\n",
       "      <th>4</th>\n",
       "      <td>-0.992459</td>\n",
       "      <td>1.0</td>\n",
       "      <td>1.0</td>\n",
       "      <td>1.0</td>\n",
       "      <td>-0.172332</td>\n",
       "      <td>-0.188579</td>\n",
       "      <td>0.120102</td>\n",
       "      <td>-1.097936</td>\n",
       "      <td>-1.934398</td>\n",
       "    </tr>\n",
       "  </tbody>\n",
       "</table>\n",
       "</div>"
      ],
      "text/plain": [
       "   aromaticity  composition_G  composition_K  composition_V  flexibility  \\\n",
       "0    -0.992459            1.0            0.0            0.0     1.648868   \n",
       "1     0.841374            1.0            1.0            0.0    -0.248549   \n",
       "2    -0.992459            1.0            0.0            0.0     0.804389   \n",
       "3    -0.992459            1.0            1.0            1.0    -0.957520   \n",
       "4    -0.992459            1.0            1.0            1.0    -0.172332   \n",
       "\n",
       "   instability    length  mass_len_ratio        hm  \n",
       "0     1.828800  1.286819       -2.053132 -1.516532  \n",
       "1    -0.573767 -0.074351       -0.396156 -0.513330  \n",
       "2     1.928472 -0.852162        1.468934  2.343718  \n",
       "3     0.058742 -0.657709       -1.121271  0.094526  \n",
       "4    -0.188579  0.120102       -1.097936 -1.934398  "
      ]
     },
     "execution_count": 426,
     "metadata": {},
     "output_type": "execute_result"
    }
   ],
   "source": [
    "features = pd.read_csv(\"data/advanced_features.tsv\", sep = \"\\t\").iloc[:,1:]\n",
    "features=features.iloc[data.index,:]\n",
    "n_seq_feat = features.shape[1]\n",
    "print(\"Number of sequence features {}\".format(n_seq_feat))\n",
    "n_prots = len(np.unique(data.protein))\n",
    "print(\"Number of proteins {}\".format(n_prots))\n",
    "n_peptides = data.shape[0]\n",
    "print(\"Number of peptides {}\".format(n_peptides))\n",
    "print(\"This is the first row of the features array:\")\n",
    "print(features.shape)\n",
    "print(features.iloc[:1,:])\n",
    "features.head()"
   ]
  },
  {
   "cell_type": "markdown",
   "metadata": {},
   "source": [
    "### Every protein has at least two peptides"
   ]
  },
  {
   "cell_type": "code",
   "execution_count": 427,
   "metadata": {},
   "outputs": [],
   "source": [
    "counts0 = np.unique(data.protein, return_counts=True)\n",
    "counts = np.unique(counts0[1], return_counts=True)\n",
    "counts_df = pd.DataFrame(np.array([counts[0], counts[1]]).T, columns = [\"n_peptides\", \"n_prots\"])"
   ]
  },
  {
   "cell_type": "code",
   "execution_count": 529,
   "metadata": {},
   "outputs": [
    {
     "data": {
      "text/html": [
       "<div>\n",
       "<style scoped>\n",
       "    .dataframe tbody tr th:only-of-type {\n",
       "        vertical-align: middle;\n",
       "    }\n",
       "\n",
       "    .dataframe tbody tr th {\n",
       "        vertical-align: top;\n",
       "    }\n",
       "\n",
       "    .dataframe thead th {\n",
       "        text-align: right;\n",
       "    }\n",
       "</style>\n",
       "<table border=\"1\" class=\"dataframe\">\n",
       "  <thead>\n",
       "    <tr style=\"text-align: right;\">\n",
       "      <th></th>\n",
       "      <th>n_peptides</th>\n",
       "      <th>n_prots</th>\n",
       "    </tr>\n",
       "  </thead>\n",
       "  <tbody>\n",
       "    <tr>\n",
       "      <th>0</th>\n",
       "      <td>2</td>\n",
       "      <td>874</td>\n",
       "    </tr>\n",
       "    <tr>\n",
       "      <th>1</th>\n",
       "      <td>3</td>\n",
       "      <td>498</td>\n",
       "    </tr>\n",
       "    <tr>\n",
       "      <th>2</th>\n",
       "      <td>4</td>\n",
       "      <td>311</td>\n",
       "    </tr>\n",
       "    <tr>\n",
       "      <th>3</th>\n",
       "      <td>5</td>\n",
       "      <td>205</td>\n",
       "    </tr>\n",
       "    <tr>\n",
       "      <th>4</th>\n",
       "      <td>6</td>\n",
       "      <td>155</td>\n",
       "    </tr>\n",
       "    <tr>\n",
       "      <th>5</th>\n",
       "      <td>7</td>\n",
       "      <td>133</td>\n",
       "    </tr>\n",
       "    <tr>\n",
       "      <th>6</th>\n",
       "      <td>8</td>\n",
       "      <td>109</td>\n",
       "    </tr>\n",
       "    <tr>\n",
       "      <th>7</th>\n",
       "      <td>9</td>\n",
       "      <td>96</td>\n",
       "    </tr>\n",
       "    <tr>\n",
       "      <th>8</th>\n",
       "      <td>10</td>\n",
       "      <td>65</td>\n",
       "    </tr>\n",
       "    <tr>\n",
       "      <th>9</th>\n",
       "      <td>11</td>\n",
       "      <td>61</td>\n",
       "    </tr>\n",
       "    <tr>\n",
       "      <th>10</th>\n",
       "      <td>12</td>\n",
       "      <td>39</td>\n",
       "    </tr>\n",
       "    <tr>\n",
       "      <th>11</th>\n",
       "      <td>13</td>\n",
       "      <td>40</td>\n",
       "    </tr>\n",
       "    <tr>\n",
       "      <th>12</th>\n",
       "      <td>14</td>\n",
       "      <td>29</td>\n",
       "    </tr>\n",
       "    <tr>\n",
       "      <th>13</th>\n",
       "      <td>15</td>\n",
       "      <td>35</td>\n",
       "    </tr>\n",
       "    <tr>\n",
       "      <th>14</th>\n",
       "      <td>16</td>\n",
       "      <td>27</td>\n",
       "    </tr>\n",
       "    <tr>\n",
       "      <th>15</th>\n",
       "      <td>17</td>\n",
       "      <td>13</td>\n",
       "    </tr>\n",
       "    <tr>\n",
       "      <th>16</th>\n",
       "      <td>18</td>\n",
       "      <td>21</td>\n",
       "    </tr>\n",
       "    <tr>\n",
       "      <th>17</th>\n",
       "      <td>19</td>\n",
       "      <td>23</td>\n",
       "    </tr>\n",
       "    <tr>\n",
       "      <th>18</th>\n",
       "      <td>20</td>\n",
       "      <td>10</td>\n",
       "    </tr>\n",
       "    <tr>\n",
       "      <th>19</th>\n",
       "      <td>21</td>\n",
       "      <td>12</td>\n",
       "    </tr>\n",
       "    <tr>\n",
       "      <th>20</th>\n",
       "      <td>22</td>\n",
       "      <td>11</td>\n",
       "    </tr>\n",
       "    <tr>\n",
       "      <th>21</th>\n",
       "      <td>23</td>\n",
       "      <td>12</td>\n",
       "    </tr>\n",
       "    <tr>\n",
       "      <th>22</th>\n",
       "      <td>24</td>\n",
       "      <td>11</td>\n",
       "    </tr>\n",
       "    <tr>\n",
       "      <th>23</th>\n",
       "      <td>25</td>\n",
       "      <td>7</td>\n",
       "    </tr>\n",
       "    <tr>\n",
       "      <th>24</th>\n",
       "      <td>26</td>\n",
       "      <td>4</td>\n",
       "    </tr>\n",
       "    <tr>\n",
       "      <th>25</th>\n",
       "      <td>27</td>\n",
       "      <td>4</td>\n",
       "    </tr>\n",
       "    <tr>\n",
       "      <th>26</th>\n",
       "      <td>28</td>\n",
       "      <td>2</td>\n",
       "    </tr>\n",
       "    <tr>\n",
       "      <th>27</th>\n",
       "      <td>29</td>\n",
       "      <td>11</td>\n",
       "    </tr>\n",
       "    <tr>\n",
       "      <th>28</th>\n",
       "      <td>30</td>\n",
       "      <td>4</td>\n",
       "    </tr>\n",
       "    <tr>\n",
       "      <th>29</th>\n",
       "      <td>31</td>\n",
       "      <td>1</td>\n",
       "    </tr>\n",
       "    <tr>\n",
       "      <th>30</th>\n",
       "      <td>32</td>\n",
       "      <td>1</td>\n",
       "    </tr>\n",
       "    <tr>\n",
       "      <th>31</th>\n",
       "      <td>33</td>\n",
       "      <td>2</td>\n",
       "    </tr>\n",
       "    <tr>\n",
       "      <th>32</th>\n",
       "      <td>34</td>\n",
       "      <td>3</td>\n",
       "    </tr>\n",
       "    <tr>\n",
       "      <th>33</th>\n",
       "      <td>35</td>\n",
       "      <td>3</td>\n",
       "    </tr>\n",
       "    <tr>\n",
       "      <th>34</th>\n",
       "      <td>37</td>\n",
       "      <td>1</td>\n",
       "    </tr>\n",
       "    <tr>\n",
       "      <th>35</th>\n",
       "      <td>38</td>\n",
       "      <td>2</td>\n",
       "    </tr>\n",
       "    <tr>\n",
       "      <th>36</th>\n",
       "      <td>39</td>\n",
       "      <td>2</td>\n",
       "    </tr>\n",
       "    <tr>\n",
       "      <th>37</th>\n",
       "      <td>40</td>\n",
       "      <td>1</td>\n",
       "    </tr>\n",
       "    <tr>\n",
       "      <th>38</th>\n",
       "      <td>41</td>\n",
       "      <td>1</td>\n",
       "    </tr>\n",
       "    <tr>\n",
       "      <th>39</th>\n",
       "      <td>43</td>\n",
       "      <td>1</td>\n",
       "    </tr>\n",
       "    <tr>\n",
       "      <th>40</th>\n",
       "      <td>44</td>\n",
       "      <td>1</td>\n",
       "    </tr>\n",
       "    <tr>\n",
       "      <th>41</th>\n",
       "      <td>45</td>\n",
       "      <td>2</td>\n",
       "    </tr>\n",
       "    <tr>\n",
       "      <th>42</th>\n",
       "      <td>46</td>\n",
       "      <td>1</td>\n",
       "    </tr>\n",
       "    <tr>\n",
       "      <th>43</th>\n",
       "      <td>47</td>\n",
       "      <td>1</td>\n",
       "    </tr>\n",
       "    <tr>\n",
       "      <th>44</th>\n",
       "      <td>52</td>\n",
       "      <td>1</td>\n",
       "    </tr>\n",
       "    <tr>\n",
       "      <th>45</th>\n",
       "      <td>55</td>\n",
       "      <td>1</td>\n",
       "    </tr>\n",
       "    <tr>\n",
       "      <th>46</th>\n",
       "      <td>60</td>\n",
       "      <td>1</td>\n",
       "    </tr>\n",
       "    <tr>\n",
       "      <th>47</th>\n",
       "      <td>64</td>\n",
       "      <td>1</td>\n",
       "    </tr>\n",
       "    <tr>\n",
       "      <th>48</th>\n",
       "      <td>66</td>\n",
       "      <td>1</td>\n",
       "    </tr>\n",
       "  </tbody>\n",
       "</table>\n",
       "</div>"
      ],
      "text/plain": [
       "    n_peptides  n_prots\n",
       "0            2      874\n",
       "1            3      498\n",
       "2            4      311\n",
       "3            5      205\n",
       "4            6      155\n",
       "5            7      133\n",
       "6            8      109\n",
       "7            9       96\n",
       "8           10       65\n",
       "9           11       61\n",
       "10          12       39\n",
       "11          13       40\n",
       "12          14       29\n",
       "13          15       35\n",
       "14          16       27\n",
       "15          17       13\n",
       "16          18       21\n",
       "17          19       23\n",
       "18          20       10\n",
       "19          21       12\n",
       "20          22       11\n",
       "21          23       12\n",
       "22          24       11\n",
       "23          25        7\n",
       "24          26        4\n",
       "25          27        4\n",
       "26          28        2\n",
       "27          29       11\n",
       "28          30        4\n",
       "29          31        1\n",
       "30          32        1\n",
       "31          33        2\n",
       "32          34        3\n",
       "33          35        3\n",
       "34          37        1\n",
       "35          38        2\n",
       "36          39        2\n",
       "37          40        1\n",
       "38          41        1\n",
       "39          43        1\n",
       "40          44        1\n",
       "41          45        2\n",
       "42          46        1\n",
       "43          47        1\n",
       "44          52        1\n",
       "45          55        1\n",
       "46          60        1\n",
       "47          64        1\n",
       "48          66        1"
      ]
     },
     "execution_count": 529,
     "metadata": {},
     "output_type": "execute_result"
    }
   ],
   "source": [
    "counts_df"
   ]
  },
  {
   "cell_type": "code",
   "execution_count": 429,
   "metadata": {},
   "outputs": [
    {
     "data": {
      "text/plain": [
       "65"
      ]
     },
     "execution_count": 429,
     "metadata": {},
     "output_type": "execute_result"
    }
   ],
   "source": [
    "protein_counts = {str(c): counts0[0][counts0[1] == c] for c in np.unique(counts0[1])}\n",
    "proteins = protein_counts[str(10)]\n",
    "len(proteins)"
   ]
  },
  {
   "cell_type": "code",
   "execution_count": 430,
   "metadata": {},
   "outputs": [
    {
     "data": {
      "text/html": [
       "<div>\n",
       "<style scoped>\n",
       "    .dataframe tbody tr th:only-of-type {\n",
       "        vertical-align: middle;\n",
       "    }\n",
       "\n",
       "    .dataframe tbody tr th {\n",
       "        vertical-align: top;\n",
       "    }\n",
       "\n",
       "    .dataframe thead th {\n",
       "        text-align: right;\n",
       "    }\n",
       "</style>\n",
       "<table border=\"1\" class=\"dataframe\">\n",
       "  <thead>\n",
       "    <tr style=\"text-align: right;\">\n",
       "      <th></th>\n",
       "      <th>protein</th>\n",
       "      <th>taxon</th>\n",
       "      <th>H1</th>\n",
       "      <th>H2</th>\n",
       "      <th>H3</th>\n",
       "      <th>L1</th>\n",
       "      <th>L2</th>\n",
       "      <th>L3</th>\n",
       "    </tr>\n",
       "  </thead>\n",
       "  <tbody>\n",
       "    <tr>\n",
       "      <th>16655</th>\n",
       "      <td>A0AVT1;A0AVT1-2</td>\n",
       "      <td>Homo sapiens</td>\n",
       "      <td>22.263188</td>\n",
       "      <td>23.602635</td>\n",
       "      <td>20.509300</td>\n",
       "      <td>22.428874</td>\n",
       "      <td>22.885225</td>\n",
       "      <td>21.962187</td>\n",
       "    </tr>\n",
       "    <tr>\n",
       "      <th>10052</th>\n",
       "      <td>A0AVT1;A0AVT1-2</td>\n",
       "      <td>Homo sapiens</td>\n",
       "      <td>22.277391</td>\n",
       "      <td>23.686029</td>\n",
       "      <td>22.648932</td>\n",
       "      <td>22.740695</td>\n",
       "      <td>22.062961</td>\n",
       "      <td>22.033824</td>\n",
       "    </tr>\n",
       "    <tr>\n",
       "      <th>10644</th>\n",
       "      <td>A2A2V2;P42696</td>\n",
       "      <td>Homo sapiens</td>\n",
       "      <td>20.903820</td>\n",
       "      <td>21.592680</td>\n",
       "      <td>20.734299</td>\n",
       "      <td>20.149544</td>\n",
       "      <td>19.889008</td>\n",
       "      <td>20.710366</td>\n",
       "    </tr>\n",
       "    <tr>\n",
       "      <th>13567</th>\n",
       "      <td>A2A2V2;P42696</td>\n",
       "      <td>Homo sapiens</td>\n",
       "      <td>20.746078</td>\n",
       "      <td>20.708178</td>\n",
       "      <td>19.941346</td>\n",
       "      <td>20.997485</td>\n",
       "      <td>20.997830</td>\n",
       "      <td>20.989608</td>\n",
       "    </tr>\n",
       "    <tr>\n",
       "      <th>14440</th>\n",
       "      <td>A6NJ78</td>\n",
       "      <td>Homo sapiens</td>\n",
       "      <td>18.657179</td>\n",
       "      <td>19.746521</td>\n",
       "      <td>18.845613</td>\n",
       "      <td>17.107789</td>\n",
       "      <td>18.301264</td>\n",
       "      <td>18.059175</td>\n",
       "    </tr>\n",
       "    <tr>\n",
       "      <th>1120</th>\n",
       "      <td>A6NJ78</td>\n",
       "      <td>Homo sapiens</td>\n",
       "      <td>20.849497</td>\n",
       "      <td>20.339411</td>\n",
       "      <td>19.964939</td>\n",
       "      <td>16.527019</td>\n",
       "      <td>17.736745</td>\n",
       "      <td>19.317828</td>\n",
       "    </tr>\n",
       "    <tr>\n",
       "      <th>7338</th>\n",
       "      <td>A6NKE1;A6NDN0;O43617</td>\n",
       "      <td>Homo sapiens</td>\n",
       "      <td>23.476054</td>\n",
       "      <td>23.070923</td>\n",
       "      <td>23.436951</td>\n",
       "      <td>22.460990</td>\n",
       "      <td>23.561158</td>\n",
       "      <td>23.516771</td>\n",
       "    </tr>\n",
       "    <tr>\n",
       "      <th>9885</th>\n",
       "      <td>A6NKE1;A6NDN0;O43617</td>\n",
       "      <td>Homo sapiens</td>\n",
       "      <td>23.266137</td>\n",
       "      <td>24.041180</td>\n",
       "      <td>22.811627</td>\n",
       "      <td>22.617935</td>\n",
       "      <td>22.681639</td>\n",
       "      <td>22.714438</td>\n",
       "    </tr>\n",
       "    <tr>\n",
       "      <th>12952</th>\n",
       "      <td>B2WTI4;Q6NYC1-2;Q6NYC1;Q6NYC1-3</td>\n",
       "      <td>Homo sapiens</td>\n",
       "      <td>24.520133</td>\n",
       "      <td>24.524384</td>\n",
       "      <td>23.033370</td>\n",
       "      <td>23.639535</td>\n",
       "      <td>24.128018</td>\n",
       "      <td>22.681081</td>\n",
       "    </tr>\n",
       "    <tr>\n",
       "      <th>16332</th>\n",
       "      <td>B2WTI4;Q6NYC1-2;Q6NYC1;Q6NYC1-3</td>\n",
       "      <td>Homo sapiens</td>\n",
       "      <td>21.491354</td>\n",
       "      <td>22.193160</td>\n",
       "      <td>18.568001</td>\n",
       "      <td>20.550371</td>\n",
       "      <td>20.925931</td>\n",
       "      <td>20.001820</td>\n",
       "    </tr>\n",
       "  </tbody>\n",
       "</table>\n",
       "</div>"
      ],
      "text/plain": [
       "                               protein         taxon         H1         H2  \\\n",
       "16655                  A0AVT1;A0AVT1-2  Homo sapiens  22.263188  23.602635   \n",
       "10052                  A0AVT1;A0AVT1-2  Homo sapiens  22.277391  23.686029   \n",
       "10644                    A2A2V2;P42696  Homo sapiens  20.903820  21.592680   \n",
       "13567                    A2A2V2;P42696  Homo sapiens  20.746078  20.708178   \n",
       "14440                           A6NJ78  Homo sapiens  18.657179  19.746521   \n",
       "1120                            A6NJ78  Homo sapiens  20.849497  20.339411   \n",
       "7338              A6NKE1;A6NDN0;O43617  Homo sapiens  23.476054  23.070923   \n",
       "9885              A6NKE1;A6NDN0;O43617  Homo sapiens  23.266137  24.041180   \n",
       "12952  B2WTI4;Q6NYC1-2;Q6NYC1;Q6NYC1-3  Homo sapiens  24.520133  24.524384   \n",
       "16332  B2WTI4;Q6NYC1-2;Q6NYC1;Q6NYC1-3  Homo sapiens  21.491354  22.193160   \n",
       "\n",
       "              H3         L1         L2         L3  \n",
       "16655  20.509300  22.428874  22.885225  21.962187  \n",
       "10052  22.648932  22.740695  22.062961  22.033824  \n",
       "10644  20.734299  20.149544  19.889008  20.710366  \n",
       "13567  19.941346  20.997485  20.997830  20.989608  \n",
       "14440  18.845613  17.107789  18.301264  18.059175  \n",
       "1120   19.964939  16.527019  17.736745  19.317828  \n",
       "7338   23.436951  22.460990  23.561158  23.516771  \n",
       "9885   22.811627  22.617935  22.681639  22.714438  \n",
       "12952  23.033370  23.639535  24.128018  22.681081  \n",
       "16332  18.568001  20.550371  20.925931  20.001820  "
      ]
     },
     "execution_count": 430,
     "metadata": {},
     "output_type": "execute_result"
    }
   ],
   "source": [
    "n_peptides = 2\n",
    "prots, counts = np.unique(data.protein, return_counts=True)\n",
    "prots = prots[counts == n_peptides]\n",
    "data.loc[data.protein.isin(prots).values & (data.taxon == \"Homo sapiens\"),:].sort_values(\"protein\").head(10)"
   ]
  },
  {
   "cell_type": "code",
   "execution_count": 530,
   "metadata": {},
   "outputs": [
    {
     "data": {
      "text/html": [
       "<div>\n",
       "<style scoped>\n",
       "    .dataframe tbody tr th:only-of-type {\n",
       "        vertical-align: middle;\n",
       "    }\n",
       "\n",
       "    .dataframe tbody tr th {\n",
       "        vertical-align: top;\n",
       "    }\n",
       "\n",
       "    .dataframe thead th {\n",
       "        text-align: right;\n",
       "    }\n",
       "</style>\n",
       "<table border=\"1\" class=\"dataframe\">\n",
       "  <thead>\n",
       "    <tr style=\"text-align: right;\">\n",
       "      <th></th>\n",
       "      <th>protein</th>\n",
       "      <th>taxon</th>\n",
       "      <th>H1</th>\n",
       "      <th>H2</th>\n",
       "      <th>H3</th>\n",
       "      <th>L1</th>\n",
       "      <th>L2</th>\n",
       "      <th>L3</th>\n",
       "    </tr>\n",
       "  </thead>\n",
       "  <tbody>\n",
       "    <tr>\n",
       "      <th>5175</th>\n",
       "      <td>O60437</td>\n",
       "      <td>Homo sapiens</td>\n",
       "      <td>28.741208</td>\n",
       "      <td>28.327403</td>\n",
       "      <td>29.313328</td>\n",
       "      <td>22.443365</td>\n",
       "      <td>21.071562</td>\n",
       "      <td>21.025061</td>\n",
       "    </tr>\n",
       "    <tr>\n",
       "      <th>13172</th>\n",
       "      <td>O60437</td>\n",
       "      <td>Homo sapiens</td>\n",
       "      <td>21.210564</td>\n",
       "      <td>21.021067</td>\n",
       "      <td>22.044736</td>\n",
       "      <td>16.351974</td>\n",
       "      <td>20.372308</td>\n",
       "      <td>19.784175</td>\n",
       "    </tr>\n",
       "  </tbody>\n",
       "</table>\n",
       "</div>"
      ],
      "text/plain": [
       "      protein         taxon         H1         H2         H3         L1  \\\n",
       "5175   O60437  Homo sapiens  28.741208  28.327403  29.313328  22.443365   \n",
       "13172  O60437  Homo sapiens  21.210564  21.021067  22.044736  16.351974   \n",
       "\n",
       "              L2         L3  \n",
       "5175   21.071562  21.025061  \n",
       "13172  20.372308  19.784175  "
      ]
     },
     "execution_count": 530,
     "metadata": {},
     "output_type": "execute_result"
    }
   ],
   "source": [
    "data.loc[data.protein==\"O60437\",:]"
   ]
  },
  {
   "cell_type": "markdown",
   "metadata": {},
   "source": [
    "### Load data"
   ]
  },
  {
   "cell_type": "code",
   "execution_count": 477,
   "metadata": {},
   "outputs": [],
   "source": [
    "msbay = MSBay(data, features=None)"
   ]
  },
  {
   "cell_type": "markdown",
   "metadata": {},
   "source": [
    "### Instantiate model"
   ]
  },
  {
   "cell_type": "code",
   "execution_count": 478,
   "metadata": {},
   "outputs": [
    {
     "name": "stdout",
     "output_type": "stream",
     "text": [
      "Success: Model compiled\n"
     ]
    }
   ],
   "source": [
    "n_peptides=3\n",
    "top=5\n",
    "p=protein_counts[str(n_peptides)][0]\n",
    "model = msbay.compile_model(n_peptides=n_peptides)"
   ]
  },
  {
   "cell_type": "markdown",
   "metadata": {},
   "source": [
    "### Load data for specific protein"
   ]
  },
  {
   "cell_type": "code",
   "execution_count": 479,
   "metadata": {},
   "outputs": [
    {
     "name": "stderr",
     "output_type": "stream",
     "text": [
      "3it [00:00, 19478.19it/s]"
     ]
    },
    {
     "name": "stdout",
     "output_type": "stream",
     "text": [
      "A3KMH1-2;E2QRD0;A3KMH1-3;A3KMH1\n",
      "                              protein         taxon         H1         H2  \\\n",
      "1140  A3KMH1-2;E2QRD0;A3KMH1-3;A3KMH1  Homo sapiens  22.743635  22.210564   \n",
      "9161  A3KMH1-2;E2QRD0;A3KMH1-3;A3KMH1  Homo sapiens  21.723716  23.231443   \n",
      "2941  A3KMH1-2;E2QRD0;A3KMH1-3;A3KMH1  Homo sapiens  21.439338  22.150505   \n",
      "\n",
      "             H3         L1         L2         L3  \n",
      "1140  20.213593  24.164153  23.423422  24.089825  \n",
      "9161  19.926713  23.402366  22.793583  22.533360  \n",
      "2941  24.262987  21.321521  20.898147  18.564804  \n",
      "None\n",
      "Shape of x_treat is 18, 2\n",
      "Shape of x_pep is 18, 3\n",
      "Shape of x_estimate is 1, 2\n"
     ]
    },
    {
     "name": "stderr",
     "output_type": "stream",
     "text": [
      "\n"
     ]
    }
   ],
   "source": [
    "print(p)\n",
    "msbay.load_data(p,top=top)"
   ]
  },
  {
   "cell_type": "code",
   "execution_count": 480,
   "metadata": {},
   "outputs": [
    {
     "name": "stderr",
     "output_type": "stream",
     "text": [
      "3it [00:00, 11244.78it/s]"
     ]
    },
    {
     "name": "stdout",
     "output_type": "stream",
     "text": [
      "None\n",
      "Shape of x_treat is 18, 2\n",
      "Shape of x_pep is 18, 3\n",
      "Shape of x_estimate is 1, 2\n"
     ]
    },
    {
     "name": "stderr",
     "output_type": "stream",
     "text": [
      "\n"
     ]
    },
    {
     "data": {
      "text/plain": [
       "[(18,), None, (18, 2), (18, 3), (18, 6), (1, 2)]"
      ]
     },
     "execution_count": 480,
     "metadata": {},
     "output_type": "execute_result"
    }
   ],
   "source": [
    "df=pd.DataFrame({\"std\": np.std(msbay.data.loc[msbay.data.protein == p,:].iloc[:,2:5].values, axis=1) + np.std(msbay.data.loc[msbay.data.protein == p,:].iloc[:,5:8].values, axis=1)})\n",
    "best_data = msbay.data.loc[msbay.data.protein == p,:].iloc[df.sort_values(by=\"std\", ascending=True).iloc[:top,:].index,:]\n",
    "variables = create_variables(best_data, msbay.features, [p])\n",
    "[e.shape  if e is not None else None for e in variables]"
   ]
  },
  {
   "cell_type": "markdown",
   "metadata": {},
   "source": [
    "### Run model!!!!\n"
   ]
  },
  {
   "cell_type": "code",
   "execution_count": 481,
   "metadata": {},
   "outputs": [],
   "source": [
    "# trace_nuts = msbay.sample(model_name=p,n_draws=1000, n_chains=3)"
   ]
  },
  {
   "cell_type": "code",
   "execution_count": 482,
   "metadata": {},
   "outputs": [
    {
     "name": "stderr",
     "output_type": "stream",
     "text": [
      "Average Loss = 610.93: 100%|██████████| 50000/50000 [00:38<00:00, 1314.31it/s]\n",
      "Finished [100%]: Average Loss = 610.95\n",
      "No handles with labels found to put in legend.\n"
     ]
    }
   ],
   "source": [
    "trace_advi = msbay.fit(model_name=p, n_draws=50000)"
   ]
  },
  {
   "cell_type": "code",
   "execution_count": 522,
   "metadata": {},
   "outputs": [
    {
     "data": {
      "text/plain": [
       "array([[-0.01299379]])"
      ]
     },
     "execution_count": 522,
     "metadata": {},
     "output_type": "execute_result"
    }
   ],
   "source": [
    "trace_advi[\"estimate\"][0]"
   ]
  },
  {
   "cell_type": "code",
   "execution_count": 525,
   "metadata": {},
   "outputs": [],
   "source": [
    "# os.mkdir(\"traces/{}\".format(p))\n",
    "df=pd.DataFrame({\"estimate\": trace_advi[\"estimate\"][:,0,0]})\n",
    "df.to_csv(\"traces/{}/chain-0.tsv\".format(p))"
   ]
  },
  {
   "cell_type": "code",
   "execution_count": null,
   "metadata": {},
   "outputs": [],
   "source": [
    "# traces=[]\n",
    "# with model:\n",
    "#     trace_name = \"traces/{}\".format(p)\n",
    "#     print(trace_name)\n",
    "#     trace = pm.backends.text.load(trace_name)\n",
    "#     traces.append(trace)"
   ]
  },
  {
   "cell_type": "code",
   "execution_count": 483,
   "metadata": {},
   "outputs": [
    {
     "data": {
      "text/html": [
       "<div>\n",
       "<style scoped>\n",
       "    .dataframe tbody tr th:only-of-type {\n",
       "        vertical-align: middle;\n",
       "    }\n",
       "\n",
       "    .dataframe tbody tr th {\n",
       "        vertical-align: top;\n",
       "    }\n",
       "\n",
       "    .dataframe thead th {\n",
       "        text-align: right;\n",
       "    }\n",
       "</style>\n",
       "<table border=\"1\" class=\"dataframe\">\n",
       "  <thead>\n",
       "    <tr style=\"text-align: right;\">\n",
       "      <th></th>\n",
       "      <th>mean</th>\n",
       "      <th>sd</th>\n",
       "      <th>mc_error</th>\n",
       "      <th>hpd_2.5</th>\n",
       "      <th>hpd_97.5</th>\n",
       "    </tr>\n",
       "  </thead>\n",
       "  <tbody>\n",
       "    <tr>\n",
       "      <th>estimate__0_0</th>\n",
       "      <td>-0.036453</td>\n",
       "      <td>0.134145</td>\n",
       "      <td>0.0055</td>\n",
       "      <td>-0.258126</td>\n",
       "      <td>0.180247</td>\n",
       "    </tr>\n",
       "  </tbody>\n",
       "</table>\n",
       "</div>"
      ],
      "text/plain": [
       "                   mean        sd  mc_error   hpd_2.5  hpd_97.5\n",
       "estimate__0_0 -0.036453  0.134145    0.0055 -0.258126  0.180247"
      ]
     },
     "execution_count": 483,
     "metadata": {},
     "output_type": "execute_result"
    }
   ],
   "source": [
    "pm.summary(trace_advi, varnames=[\"estimate\"])"
   ]
  },
  {
   "cell_type": "code",
   "execution_count": 484,
   "metadata": {},
   "outputs": [
    {
     "data": {
      "image/png": "[encoded data removed]",
      "text/plain": [
       "<Figure size 432x288 with 1 Axes>"
      ]
     },
     "metadata": {},
     "output_type": "display_data"
    }
   ],
   "source": [
    "# pm.plot_posterior(trace_nuts, varnames=[\"estimate\"], ref_val=np.log2(3), color='LightSeaGreen', rope=[-0.4, 0.4])\n",
    "# plt.savefig(\"plots/posteriors/{}_nuts.png\".format(p))\n",
    "pm.plot_posterior(trace_advi, varnames=[\"estimate\"], ref_val=np.log2(3), color='LightSeaGreen', rope=[-0.4, 0.4])\n",
    "plt.savefig(\"plots/posteriors/{}_advi.png\".format(p))"
   ]
  },
  {
   "cell_type": "code",
   "execution_count": 485,
   "metadata": {},
   "outputs": [
    {
     "data": {
      "text/plain": [
       "array([[<matplotlib.axes._subplots.AxesSubplot object at 0x7f0f8a2f0e80>,\n",
       "        <matplotlib.axes._subplots.AxesSubplot object at 0x7f0f8a2e3710>]],\n",
       "      dtype=object)"
      ]
     },
     "execution_count": 485,
     "metadata": {},
     "output_type": "execute_result"
    },
    {
     "data": {
      "image/png": "[encoded data removed]",
      "text/plain": [
       "<Figure size 864x144 with 2 Axes>"
      ]
     },
     "metadata": {},
     "output_type": "display_data"
    }
   ],
   "source": [
    "# pm.traceplot(trace_nuts, varnames=[\"estimate\"])\n",
    "pm.traceplot(trace_advi, varnames=[\"estimate\"])"
   ]
  },
  {
   "cell_type": "code",
   "execution_count": null,
   "metadata": {},
   "outputs": [],
   "source": [
    "from pymc3 import sample_ppc\n",
    "with model:\n",
    "    sim = sample_ppc(trace_advi, samples=500)[\"obs\"]"
   ]
  },
  {
   "cell_type": "code",
   "execution_count": null,
   "metadata": {},
   "outputs": [],
   "source": [
    "sim=sim[:,0,:]"
   ]
  },
  {
   "cell_type": "code",
   "execution_count": null,
   "metadata": {},
   "outputs": [],
   "source": [
    "peps = list(map(lambda i: sim[:, (i*6):((i*6)+6)], range(n_peptides)))\n",
    "estimates = list(map(lambda x: np.mean(x[:,:3], axis=1) - np.mean(x[:,3:6], axis=1), peps))\n",
    "fig, ax = plt.subplots(1,n_peptides, figsize=(15,5))\n",
    "[ax[i].hist(e) for i, e in enumerate(estimates)]\n",
    "# [plt.hist(e, bins=30) for e in estimates]"
   ]
  },
  {
   "cell_type": "code",
   "execution_count": null,
   "metadata": {},
   "outputs": [],
   "source": [
    "sim_transformed = pca.transform(np.vstack(peps))\n",
    "sim_transformed\n",
    "plt.scatter(sim_transformed[:,0], sim_transformed[:,1], label=\"Sim obs\")\n",
    "obs = data.loc[data.protein == p].iloc[:,2:]\n",
    "obs_transformed = pca.transform(obs)\n",
    "plt.scatter(obs_transformed[:,0], obs_transformed[:,1], c = \"red\", label=\"True obs\")\n",
    "plt.legend()\n",
    "plt.xlabel(\"PC1\")\n",
    "plt.ylabel(\"PC2\")"
   ]
  },
  {
   "cell_type": "code",
   "execution_count": 486,
   "metadata": {},
   "outputs": [
    {
     "name": "stdout",
     "output_type": "stream",
     "text": [
      "The rpy2.ipython extension is already loaded. To reload it, use:\n",
      "  %reload_ext rpy2.ipython\n"
     ]
    },
    {
     "data": {
      "text/plain": [
       "array(['cowplot', 'ggalt', 'tidyr', 'ggplot2', 'tools', 'RevoUtils',\n",
       "       'stats', 'graphics', 'grDevices', 'utils', 'datasets', 'methods',\n",
       "       'base'], dtype='<U9')"
      ]
     },
     "execution_count": 486,
     "metadata": {},
     "output_type": "execute_result"
    }
   ],
   "source": [
    "%load_ext rpy2.ipython\n",
    "%R library(ggplot2); library(tidyr); library(ggalt); library(cowplot)"
   ]
  },
  {
   "cell_type": "code",
   "execution_count": 572,
   "metadata": {},
   "outputs": [],
   "source": [
    "%%R\n",
    "make_dumbbell_plot <- function(MSBayQ, n_pep=NULL) {\n",
    "\n",
    "\n",
    "    if (!is.null(n_pep)) MSBayQ <- MSBayQ[MSBayQ$n_peptides == n_pep,] %>% head\n",
    "    p <- ggplot(data=MSBayQ, aes(x=hpd_2.5, xend=hpd_97.5, y = protein, color=Organism)) +\n",
    "       geom_vline(xintercept=-0.4, col=\"red\", linetype=\"dashed\") +\n",
    "       geom_vline(xintercept=0.4, col=\"red\", linetype=\"dashed\") +\n",
    "       geom_vline(xintercept=log2(3), col=\"orange\", linetype=\"dashed\") +\n",
    "       geom_dumbbell(size=0.75,\n",
    "                     point.colour.l=\"#0e668b\") +\n",
    "    geom_point(aes(x=mean, y = protein)) +\n",
    "        labs(x=NULL, \n",
    "             y=NULL, \n",
    "             title=paste0(\"Performance. Peptides= \", n_pep) \n",
    "#              subtitle=\"Pct Change: 2013 vs 2014\", \n",
    "#              caption=\"Source: https://github.com/hrbrmstr/ggalt\"\n",
    "            ) +        \n",
    "    theme(plot.title = element_text(hjust=0.5, face=\"bold\"),\n",
    "              plot.background=element_rect(fill=\"#f7f7f7\"),\n",
    "              panel.background=element_rect(fill=\"#f7f7f7\"),\n",
    "              panel.grid.minor=element_blank(),\n",
    "              panel.grid.major.y=element_blank(),\n",
    "              panel.grid.major.x=element_line(),\n",
    "              axis.ticks=element_blank(),\n",
    "              legend.position=\"top\",\n",
    "              panel.border=element_blank()) +\n",
    "    xlab(\"log2FC 95% HDI\")\n",
    "    return(p)\n",
    "}\n",
    "\n",
    "make_error_hdi_interval_plot <- function(MSBayQ, n_pep=NULL) {\n",
    "    if (!is.null(n_pep)) MSBayQ <- MSBayQ[MSBayQ$n_peptides == n_pep,]\n",
    "    MSBayQ$true <- 0\n",
    "    MSBayQ[MSBayQ$Organism == \"Escherichia coli (strain K12)\",\"true\"] <- log2(3)\n",
    "    print(cor(x=MSBayQ$`hpd_97.5` - MSBayQ$`hpd_2.5`, y=abs(MSBayQ$mean-MSBayQ$true)))\n",
    "    ggplot(data = MSBayQ, mapping = aes(x = (`hpd_97.5` - `hpd_2.5`), y = abs(mean - true), col = Organism)) + geom_point()\n",
    "    \n",
    "}\n"
   ]
  },
  {
   "cell_type": "code",
   "execution_count": 573,
   "metadata": {},
   "outputs": [
    {
     "data": {
      "image/png": "[encoded data removed]"
     },
     "metadata": {},
     "output_type": "display_data"
    }
   ],
   "source": [
    "%%R\n",
    "MSBayQ <- read.table(\"data/MSBayQ.tsv\", header=T, sep = \"\\t\")\n",
    "colnames(MSBayQ)[1] <- \"protein\"\n",
    "p1 <- make_dumbbell_plot(MSBayQ, 2)\n",
    "ggsave(\"plots/performance.png\")\n",
    "p1 + theme_bw()"
   ]
  },
  {
   "cell_type": "code",
   "execution_count": 575,
   "metadata": {},
   "outputs": [
    {
     "data": {
      "text/plain": [
       "[1] \"protein\"    \"Organism\"   \"hpd_2.5\"    \"hpd_97.5\"   \"mc_error\"  \n",
       "[6] \"mean\"       \"n_peptides\" \"sd\"        \n",
       "[1] 0.2663262\n"
      ]
     },
     "metadata": {},
     "output_type": "display_data"
    },
    {
     "data": {
      "image/png": "[encoded data removed]"
     },
     "metadata": {},
     "output_type": "display_data"
    }
   ],
   "source": [
    "%%R\n",
    "MSBayQ <- read.table(\"data/MSBayQ.tsv\", header=T, sep = \"\\t\")\n",
    "colnames(MSBayQ)[1] <- \"protein\"\n",
    "print(colnames(MSBayQ))\n",
    "p1 <- make_error_hdi_interval_plot(MSBayQ[MSBayQ$Organism != \"Homo sapiens\",],3)\n",
    "p1 + theme_bw()"
   ]
  },
  {
   "cell_type": "code",
   "execution_count": 578,
   "metadata": {},
   "outputs": [
    {
     "name": "stdout",
     "output_type": "stream",
     "text": [
      "Success: Model compiled\n",
      "/home/antortjim/MEGA/Master/Thesis/Code/model\n"
     ]
    }
   ],
   "source": [
    "model = msbay.compile_model(n_peptides=5)\n",
    "!pwd"
   ]
  },
  {
   "cell_type": "code",
   "execution_count": 580,
   "metadata": {},
   "outputs": [
    {
     "ename": "ValueError",
     "evalue": "No files present in directory traces/P0AF50",
     "output_type": "error",
     "traceback": [
      "\u001b[0;31m---------------------------------------------------------------------------\u001b[0m",
      "\u001b[0;31mValueError\u001b[0m                                Traceback (most recent call last)",
      "\u001b[0;32m<ipython-input-580-d97369a563d3>\u001b[0m in \u001b[0;36m<module>\u001b[0;34m()\u001b[0m\n\u001b[1;32m      2\u001b[0m     \u001b[0mp\u001b[0m \u001b[0;34m=\u001b[0m \u001b[0;34m\"P0AF50\"\u001b[0m\u001b[0;34m\u001b[0m\u001b[0m\n\u001b[1;32m      3\u001b[0m     \u001b[0mtrace_name\u001b[0m \u001b[0;34m=\u001b[0m \u001b[0;34m\"traces/{}\"\u001b[0m\u001b[0;34m.\u001b[0m\u001b[0mformat\u001b[0m\u001b[0;34m(\u001b[0m\u001b[0mp\u001b[0m\u001b[0;34m)\u001b[0m\u001b[0;34m\u001b[0m\u001b[0m\n\u001b[0;32m----> 4\u001b[0;31m     \u001b[0mtrace\u001b[0m \u001b[0;34m=\u001b[0m \u001b[0mpm\u001b[0m\u001b[0;34m.\u001b[0m\u001b[0mbackends\u001b[0m\u001b[0;34m.\u001b[0m\u001b[0mtext\u001b[0m\u001b[0;34m.\u001b[0m\u001b[0mload\u001b[0m\u001b[0;34m(\u001b[0m\u001b[0mtrace_name\u001b[0m\u001b[0;34m)\u001b[0m\u001b[0;34m\u001b[0m\u001b[0m\n\u001b[0m\u001b[1;32m      5\u001b[0m     \u001b[0mpm\u001b[0m\u001b[0;34m.\u001b[0m\u001b[0msummary\u001b[0m\u001b[0;34m(\u001b[0m\u001b[0mtrace\u001b[0m\u001b[0;34m,\u001b[0m \u001b[0mvarnames\u001b[0m\u001b[0;34m=\u001b[0m\u001b[0;34m[\u001b[0m\u001b[0;34m\"estimate\"\u001b[0m\u001b[0;34m]\u001b[0m\u001b[0;34m)\u001b[0m\u001b[0;34m\u001b[0m\u001b[0m\n",
      "\u001b[0;32m~/anaconda3/envs/bayesian/lib/python3.6/site-packages/pymc3/backends/text.py\u001b[0m in \u001b[0;36mload\u001b[0;34m(name, model)\u001b[0m\n\u001b[1;32m    173\u001b[0m \u001b[0;34m\u001b[0m\u001b[0m\n\u001b[1;32m    174\u001b[0m     \u001b[0;32mif\u001b[0m \u001b[0mlen\u001b[0m\u001b[0;34m(\u001b[0m\u001b[0mfiles\u001b[0m\u001b[0;34m)\u001b[0m \u001b[0;34m==\u001b[0m \u001b[0;36m0\u001b[0m\u001b[0;34m:\u001b[0m\u001b[0;34m\u001b[0m\u001b[0m\n\u001b[0;32m--> 175\u001b[0;31m         \u001b[0;32mraise\u001b[0m \u001b[0mValueError\u001b[0m\u001b[0;34m(\u001b[0m\u001b[0;34m'No files present in directory {}'\u001b[0m\u001b[0;34m.\u001b[0m\u001b[0mformat\u001b[0m\u001b[0;34m(\u001b[0m\u001b[0mname\u001b[0m\u001b[0;34m)\u001b[0m\u001b[0;34m)\u001b[0m\u001b[0;34m\u001b[0m\u001b[0m\n\u001b[0m\u001b[1;32m    176\u001b[0m \u001b[0;34m\u001b[0m\u001b[0m\n\u001b[1;32m    177\u001b[0m     \u001b[0mstraces\u001b[0m \u001b[0;34m=\u001b[0m \u001b[0;34m[\u001b[0m\u001b[0;34m]\u001b[0m\u001b[0;34m\u001b[0m\u001b[0m\n",
      "\u001b[0;31mValueError\u001b[0m: No files present in directory traces/P0AF50"
     ]
    }
   ],
   "source": [
    "with model:\n",
    "    p = \"P0AF50\"\n",
    "    trace_name = \"traces/{}\".format(p)\n",
    "    trace = pm.backends.text.load(trace_name)\n",
    "    pm.summary(trace, varnames=[\"estimate\"])"
   ]
  }
 ],
 "metadata": {
  "kernelspec": {
   "display_name": "Python (bayesian)",
   "language": "python",
   "name": "bayesian"
  },
  "language_info": {
   "codemirror_mode": {
    "name": "ipython",
    "version": 3
   },
   "file_extension": ".py",
   "mimetype": "text/x-python",
   "name": "python",
   "nbconvert_exporter": "python",
   "pygments_lexer": "ipython3",
   "version": "3.6.5"
  }
 },
 "nbformat": 4,
 "nbformat_minor": 2
}
